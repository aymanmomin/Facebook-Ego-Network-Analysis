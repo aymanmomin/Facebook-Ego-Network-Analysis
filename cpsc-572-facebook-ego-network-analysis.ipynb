{
 "cells": [
  {
   "cell_type": "code",
   "execution_count": 1,
   "id": "1ac1166d",
   "metadata": {
    "_cell_guid": "b1076dfc-b9ad-4769-8c92-a6c4dae69d19",
    "_uuid": "8f2839f25d086af736a60e9eeb907d3b93b6e0e5",
    "execution": {
     "iopub.execute_input": "2025-03-31T15:38:13.372615Z",
     "iopub.status.busy": "2025-03-31T15:38:13.372160Z",
     "iopub.status.idle": "2025-03-31T15:38:14.546573Z",
     "shell.execute_reply": "2025-03-31T15:38:14.545063Z"
    },
    "papermill": {
     "duration": 1.180656,
     "end_time": "2025-03-31T15:38:14.548894",
     "exception": false,
     "start_time": "2025-03-31T15:38:13.368238",
     "status": "completed"
    },
    "tags": []
   },
   "outputs": [
    {
     "name": "stdout",
     "output_type": "stream",
     "text": [
      "/kaggle/input/facebook/698.featnames\n",
      "/kaggle/input/facebook/3980.featnames\n",
      "/kaggle/input/facebook/686.egofeat\n",
      "/kaggle/input/facebook/3437.circles\n",
      "/kaggle/input/facebook/1912.featnames\n",
      "/kaggle/input/facebook/1684.featnames\n",
      "/kaggle/input/facebook/1684.egofeat\n",
      "/kaggle/input/facebook/3437.feat\n",
      "/kaggle/input/facebook/3437.featnames\n",
      "/kaggle/input/facebook/686.circles\n",
      "/kaggle/input/facebook/107.featnames\n",
      "/kaggle/input/facebook/348.egofeat\n",
      "/kaggle/input/facebook/0.feat\n",
      "/kaggle/input/facebook/698.feat\n",
      "/kaggle/input/facebook/686.feat\n",
      "/kaggle/input/facebook/107.feat\n",
      "/kaggle/input/facebook/348.feat\n",
      "/kaggle/input/facebook/698.circles\n",
      "/kaggle/input/facebook/0.circles\n",
      "/kaggle/input/facebook/414.edges\n",
      "/kaggle/input/facebook/414.feat\n",
      "/kaggle/input/facebook/1684.feat\n",
      "/kaggle/input/facebook/698.egofeat\n",
      "/kaggle/input/facebook/414.circles\n",
      "/kaggle/input/facebook/1912.edges\n",
      "/kaggle/input/facebook/1684.edges\n",
      "/kaggle/input/facebook/686.featnames\n",
      "/kaggle/input/facebook/107.circles\n",
      "/kaggle/input/facebook/1912.feat\n",
      "/kaggle/input/facebook/414.featnames\n",
      "/kaggle/input/facebook/1912.egofeat\n",
      "/kaggle/input/facebook/3437.edges\n",
      "/kaggle/input/facebook/3980.egofeat\n",
      "/kaggle/input/facebook/414.egofeat\n",
      "/kaggle/input/facebook/348.circles\n",
      "/kaggle/input/facebook/686.edges\n",
      "/kaggle/input/facebook/107.egofeat\n",
      "/kaggle/input/facebook/0.edges\n",
      "/kaggle/input/facebook/698.edges\n",
      "/kaggle/input/facebook/0.egofeat\n",
      "/kaggle/input/facebook/348.featnames\n",
      "/kaggle/input/facebook/3980.edges\n",
      "/kaggle/input/facebook/0.featnames\n",
      "/kaggle/input/facebook/3980.circles\n",
      "/kaggle/input/facebook/1912.circles\n",
      "/kaggle/input/facebook/1684.circles\n",
      "/kaggle/input/facebook/3437.egofeat\n",
      "/kaggle/input/facebook/107.edges\n",
      "/kaggle/input/facebook/3980.feat\n",
      "/kaggle/input/facebook/348.edges\n",
      "/kaggle/input/facebook-combined/facebook_combined.txt\n"
     ]
    }
   ],
   "source": [
    "# This Python 3 environment comes with many helpful analytics libraries installed\n",
    "# It is defined by the kaggle/python Docker image: https://github.com/kaggle/docker-python\n",
    "# For example, here's several helpful packages to load\n",
    "\n",
    "import numpy as np # linear algebra\n",
    "import pandas as pd # data processing, CSV file I/O (e.g. pd.read_csv)\n",
    "\n",
    "# Input data files are available in the read-only \"../input/\" directory\n",
    "# For example, running this (by clicking run or pressing Shift+Enter) will list all files under the input directory\n",
    "\n",
    "import os\n",
    "for dirname, _, filenames in os.walk('/kaggle/input'):\n",
    "    for filename in filenames:\n",
    "        print(os.path.join(dirname, filename))\n",
    "\n",
    "# You can write up to 20GB to the current directory (/kaggle/working/) that gets preserved as output when you create a version using \"Save & Run All\" \n",
    "# You can also write temporary files to /kaggle/temp/, but they won't be saved outside of the current session"
   ]
  },
  {
   "cell_type": "markdown",
   "id": "b5036722",
   "metadata": {
    "papermill": {
     "duration": 0.001549,
     "end_time": "2025-03-31T15:38:14.553197",
     "exception": false,
     "start_time": "2025-03-31T15:38:14.551648",
     "status": "completed"
    },
    "tags": []
   },
   "source": [
    "Files:\n",
    "\n",
    "nodeId.edges : The edges in the ego network for the node 'nodeId'. Edges are undirected for facebook, and directed (a follows b) for twitter and gplus. The 'ego' node does not appear, but it is assumed that they follow every node id that appears in this file.\n",
    "\n",
    "nodeId.circles : The set of circles for the ego node. Each line contains one circle, consisting of a series of node ids. The first entry in each line is the name of the circle.\n",
    "\n",
    "nodeId.feat : The features for each of the nodes that appears in the edge file.\n",
    "\n",
    "nodeId.egofeat : The features for the ego user.\n",
    "\n",
    "nodeId.featnames : The names of each of the feature dimensions. Features are '1' if the user has this property in their profile, and '0' otherwise. This file has been anonymized for facebook users, since the names of the features would reveal private data."
   ]
  }
 ],
 "metadata": {
  "kaggle": {
   "accelerator": "none",
   "dataSources": [
    {
     "datasetId": 7013397,
     "sourceId": 11228553,
     "sourceType": "datasetVersion"
    },
    {
     "datasetId": 7013403,
     "sourceId": 11228560,
     "sourceType": "datasetVersion"
    }
   ],
   "dockerImageVersionId": 30918,
   "isGpuEnabled": false,
   "isInternetEnabled": true,
   "language": "python",
   "sourceType": "notebook"
  },
  "kernelspec": {
   "display_name": "Python 3",
   "language": "python",
   "name": "python3"
  },
  "language_info": {
   "codemirror_mode": {
    "name": "ipython",
    "version": 3
   },
   "file_extension": ".py",
   "mimetype": "text/x-python",
   "name": "python",
   "nbconvert_exporter": "python",
   "pygments_lexer": "ipython3",
   "version": "3.10.12"
  },
  "papermill": {
   "default_parameters": {},
   "duration": 4.9982,
   "end_time": "2025-03-31T15:38:15.377559",
   "environment_variables": {},
   "exception": null,
   "input_path": "__notebook__.ipynb",
   "output_path": "__notebook__.ipynb",
   "parameters": {},
   "start_time": "2025-03-31T15:38:10.379359",
   "version": "2.6.0"
  }
 },
 "nbformat": 4,
 "nbformat_minor": 5
}
