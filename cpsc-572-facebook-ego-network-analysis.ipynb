{
 "cells": [
  {
   "cell_type": "markdown",
   "id": "0207e0f5",
   "metadata": {
    "papermill": {
     "duration": 0.010248,
     "end_time": "2025-04-05T06:21:47.574536",
     "exception": false,
     "start_time": "2025-04-05T06:21:47.564288",
     "status": "completed"
    },
    "tags": []
   },
   "source": [
    "Files:\n",
    "\n",
    "nodeId.edges : The edges in the ego network for the node 'nodeId'. Edges are undirected for facebook, and directed (a follows b) for twitter and gplus. The 'ego' node does not appear, but it is assumed that they follow every node id that appears in this file.\n",
    "\n",
    "nodeId.circles : The set of circles for the ego node. Each line contains one circle, consisting of a series of node ids. The first entry in each line is the name of the circle.\n",
    "\n",
    "nodeId.feat : The features for each of the nodes that appears in the edge file.\n",
    "\n",
    "nodeId.egofeat : The features for the ego user.\n",
    "\n",
    "nodeId.featnames : The names of each of the feature dimensions. Features are '1' if the user has this property in their profile, and '0' otherwise. This file has been anonymized for facebook users, since the names of the features would reveal private data."
   ]
  },
  {
   "cell_type": "markdown",
   "id": "025ce134",
   "metadata": {
    "papermill": {
     "duration": 0.008951,
     "end_time": "2025-04-05T06:21:47.592928",
     "exception": false,
     "start_time": "2025-04-05T06:21:47.583977",
     "status": "completed"
    },
    "tags": []
   },
   "source": [
    "#### Installitions"
   ]
  },
  {
   "cell_type": "code",
   "execution_count": 7,
   "id": "55c03134",
   "metadata": {
    "execution": {
     "iopub.execute_input": "2025-04-05T06:21:47.611995Z",
     "iopub.status.busy": "2025-04-05T06:21:47.611731Z",
     "iopub.status.idle": "2025-04-05T06:21:55.361769Z",
     "shell.execute_reply": "2025-04-05T06:21:55.360573Z"
    },
    "papermill": {
     "duration": 7.761628,
     "end_time": "2025-04-05T06:21:55.363592",
     "exception": false,
     "start_time": "2025-04-05T06:21:47.601964",
     "status": "completed"
    },
    "tags": []
   },
   "outputs": [
    {
     "name": "stdout",
     "output_type": "stream",
     "text": [
      "✓ networkx already installed\n",
      "✓ pandas already installed\n",
      "✓ numpy already installed\n",
      "✓ matplotlib already installed\n",
      "✓ scipy already installed\n",
      "✓ sklearn already installed\n",
      "✓ community already installed\n",
      "✓ tqdm already installed\n",
      "✓ pyvis already installed\n"
     ]
    }
   ],
   "source": [
    "import sys\n",
    "import subprocess\n",
    "import warnings\n",
    "\n",
    "# Install All Required Packages\n",
    "def install_packages():\n",
    "    required = {\n",
    "        \"networkx\": \"networkx\",\n",
    "        \"pandas\": \"pandas\",\n",
    "        \"numpy\": \"numpy\",\n",
    "        \"matplotlib\": \"matplotlib\",\n",
    "        \"scipy\": \"scipy\",\n",
    "        \"sklearn\": \"scikit-learn\",\n",
    "        \"community\": \"python-louvain\",\n",
    "        \"tqdm\": \"tqdm\",\n",
    "        \"pyvis\": \"pyvis\"\n",
    "    }\n",
    "    \n",
    "    for module, package in required.items():\n",
    "        try:\n",
    "            # Check if already installed\n",
    "            __import__(module)\n",
    "        except ImportError:\n",
    "            print(f\"Installing {package}...\")\n",
    "            subprocess.run([\n",
    "                sys.executable, \"-m\", \"pip\", \"install\",\n",
    "                \"--quiet\", \"--disable-pip-version-check\", package\n",
    "            ], check=True)\n",
    "        else:\n",
    "            print(f\"✓ {module} already installed\")\n",
    "\n",
    "# Run installations\n",
    "install_packages()"
   ]
  },
  {
   "cell_type": "markdown",
   "id": "ac987482",
   "metadata": {
    "papermill": {
     "duration": 0.009052,
     "end_time": "2025-04-05T06:21:55.382310",
     "exception": false,
     "start_time": "2025-04-05T06:21:55.373258",
     "status": "completed"
    },
    "tags": []
   },
   "source": [
    "### Import Libraries  "
   ]
  },
  {
   "cell_type": "code",
   "execution_count": 8,
   "id": "5c68b4ea",
   "metadata": {
    "execution": {
     "iopub.execute_input": "2025-04-05T06:21:55.401489Z",
     "iopub.status.busy": "2025-04-05T06:21:55.401179Z",
     "iopub.status.idle": "2025-04-05T06:21:57.970404Z",
     "shell.execute_reply": "2025-04-05T06:21:57.969456Z"
    },
    "papermill": {
     "duration": 2.580811,
     "end_time": "2025-04-05T06:21:57.972057",
     "exception": false,
     "start_time": "2025-04-05T06:21:55.391246",
     "status": "completed"
    },
    "tags": []
   },
   "outputs": [],
   "source": [
    "import networkx as nx\n",
    "import pandas as pd\n",
    "import numpy as np\n",
    "import matplotlib.pyplot as plt\n",
    "from scipy import stats\n",
    "from sklearn.metrics import adjusted_rand_score\n",
    "import community as community_louvain  # pip install python-louvain\n",
    "import random\n",
    "from tqdm import tqdm  # For progress bars\n",
    "from pyvis.network import Network\n",
    "import matplotlib.colors as mcolors\n",
    "import os"
   ]
  },
  {
   "cell_type": "markdown",
   "id": "bd065889",
   "metadata": {
    "papermill": {
     "duration": 0.008953,
     "end_time": "2025-04-05T06:21:57.990970",
     "exception": false,
     "start_time": "2025-04-05T06:21:57.982017",
     "status": "completed"
    },
    "tags": []
   },
   "source": [
    "### Load Data"
   ]
  },
  {
   "cell_type": "code",
   "execution_count": 9,
   "id": "ed639e18",
   "metadata": {},
   "outputs": [],
   "source": [
    "DATA_DIR = os.path.join(os.getcwd(), \"data\")"
   ]
  },
  {
   "cell_type": "code",
   "execution_count": 10,
   "id": "f91d1e79",
   "metadata": {},
   "outputs": [],
   "source": [
    "# Ego network files\n",
    "EGO_NODE = \"0\"  # Focus on the first ego network\n",
    "EDGES_FILE = os.path.join(DATA_DIR, f\"{EGO_NODE}.edges\")\n",
    "CIRCLES_FILE = os.path.join(DATA_DIR, f\"{EGO_NODE}.circles\")"
   ]
  },
  {
   "cell_type": "markdown",
   "id": "cdf32564",
   "metadata": {
    "papermill": {
     "duration": 0.008846,
     "end_time": "2025-04-05T06:21:58.032411",
     "exception": false,
     "start_time": "2025-04-05T06:21:58.023565",
     "status": "completed"
    },
    "tags": []
   },
   "source": [
    "### Load edges (friendships)"
   ]
  },
  {
   "cell_type": "code",
   "execution_count": 11,
   "id": "085be7a8",
   "metadata": {
    "execution": {
     "iopub.execute_input": "2025-04-05T06:21:58.051309Z",
     "iopub.status.busy": "2025-04-05T06:21:58.051080Z",
     "iopub.status.idle": "2025-04-05T06:21:58.077695Z",
     "shell.execute_reply": "2025-04-05T06:21:58.076725Z"
    },
    "papermill": {
     "duration": 0.037738,
     "end_time": "2025-04-05T06:21:58.079259",
     "exception": false,
     "start_time": "2025-04-05T06:21:58.041521",
     "status": "completed"
    },
    "tags": []
   },
   "outputs": [
    {
     "name": "stdout",
     "output_type": "stream",
     "text": [
      "Loaded network with 333 nodes and 2519 edges\n"
     ]
    }
   ],
   "source": [
    "G = nx.read_edgelist(EDGES_FILE, nodetype=int)\n",
    "print(f\"Loaded network with {G.number_of_nodes()} nodes and {G.number_of_edges()} edges\")"
   ]
  },
  {
   "cell_type": "markdown",
   "id": "166870c4",
   "metadata": {
    "papermill": {
     "duration": 0.008819,
     "end_time": "2025-04-05T06:21:58.097465",
     "exception": false,
     "start_time": "2025-04-05T06:21:58.088646",
     "status": "completed"
    },
    "tags": []
   },
   "source": [
    "### Remove the Central Ego Node"
   ]
  },
  {
   "cell_type": "code",
   "execution_count": 12,
   "id": "8a832967",
   "metadata": {
    "execution": {
     "iopub.execute_input": "2025-04-05T06:21:58.116280Z",
     "iopub.status.busy": "2025-04-05T06:21:58.116018Z",
     "iopub.status.idle": "2025-04-05T06:21:58.120586Z",
     "shell.execute_reply": "2025-04-05T06:21:58.119762Z"
    },
    "papermill": {
     "duration": 0.01547,
     "end_time": "2025-04-05T06:21:58.121856",
     "exception": false,
     "start_time": "2025-04-05T06:21:58.106386",
     "status": "completed"
    },
    "tags": []
   },
   "outputs": [
    {
     "name": "stdout",
     "output_type": "stream",
     "text": [
      "Ego node not found in the network\n"
     ]
    }
   ],
   "source": [
    "EGO_NODE_ID = int(EGO_NODE)  # ego node ID\n",
    "\n",
    "if EGO_NODE_ID in G.nodes():\n",
    "    G.remove_node(EGO_NODE_ID)\n",
    "    print(f\"Removed ego node {EGO_NODE_ID}. New network size: {G.number_of_nodes()} nodes\")\n",
    "else:\n",
    "    print(\"Ego node not found in the network\")"
   ]
  },
  {
   "cell_type": "markdown",
   "id": "556f5005",
   "metadata": {
    "papermill": {
     "duration": 0.008891,
     "end_time": "2025-04-05T06:21:58.139799",
     "exception": false,
     "start_time": "2025-04-05T06:21:58.130908",
     "status": "completed"
    },
    "tags": []
   },
   "source": [
    "The error \"**Ego node not found in the network**\" occurs because the ego node (ID 0 or any other) is not included in the edges file of the Stanford dataset. The edges file (0.edges and other) only contains connections between friends of the ego node, not the ego node itself."
   ]
  },
  {
   "cell_type": "markdown",
   "id": "ea790983",
   "metadata": {
    "papermill": {
     "duration": 0.008868,
     "end_time": "2025-04-05T06:21:58.157622",
     "exception": false,
     "start_time": "2025-04-05T06:21:58.148754",
     "status": "completed"
    },
    "tags": []
   },
   "source": [
    "### Load circles (user-defined groups)"
   ]
  },
  {
   "cell_type": "code",
   "execution_count": 13,
   "id": "e3847be8",
   "metadata": {
    "execution": {
     "iopub.execute_input": "2025-04-05T06:21:58.176428Z",
     "iopub.status.busy": "2025-04-05T06:21:58.176178Z",
     "iopub.status.idle": "2025-04-05T06:21:58.190837Z",
     "shell.execute_reply": "2025-04-05T06:21:58.190061Z"
    },
    "papermill": {
     "duration": 0.025491,
     "end_time": "2025-04-05T06:21:58.192081",
     "exception": false,
     "start_time": "2025-04-05T06:21:58.166590",
     "status": "completed"
    },
    "tags": []
   },
   "outputs": [
    {
     "name": "stdout",
     "output_type": "stream",
     "text": [
      "Found 24 user-defined circles\n"
     ]
    }
   ],
   "source": [
    "circles = {}\n",
    "with open(CIRCLES_FILE, \"r\") as f:\n",
    "    for line in f:\n",
    "        parts = line.strip().split()\n",
    "        circle_name = parts[0]\n",
    "        members = [m for m in map(int, parts[1:]) if m != EGO_NODE_ID]  # Exclude ego\n",
    "        circles[circle_name] = members\n",
    "print(f\"Found {len(circles)} user-defined circles\")\n"
   ]
  },
  {
   "cell_type": "markdown",
   "id": "4759061c",
   "metadata": {
    "papermill": {
     "duration": 0.008887,
     "end_time": "2025-04-05T06:21:58.210330",
     "exception": false,
     "start_time": "2025-04-05T06:21:58.201443",
     "status": "completed"
    },
    "tags": []
   },
   "source": [
    "### Preprocess Network"
   ]
  },
  {
   "cell_type": "code",
   "execution_count": 14,
   "id": "29cec1e8",
   "metadata": {
    "execution": {
     "iopub.execute_input": "2025-04-05T06:21:58.229187Z",
     "iopub.status.busy": "2025-04-05T06:21:58.228974Z",
     "iopub.status.idle": "2025-04-05T06:21:58.233531Z",
     "shell.execute_reply": "2025-04-05T06:21:58.232711Z"
    },
    "papermill": {
     "duration": 0.015515,
     "end_time": "2025-04-05T06:21:58.234851",
     "exception": false,
     "start_time": "2025-04-05T06:21:58.219336",
     "status": "completed"
    },
    "tags": []
   },
   "outputs": [
    {
     "name": "stdout",
     "output_type": "stream",
     "text": [
      "Removed 0 isolated nodes\n"
     ]
    }
   ],
   "source": [
    "# Remove isolated nodes (if any)\n",
    "initial_nodes = G.number_of_nodes()\n",
    "G.remove_nodes_from(list(nx.isolates(G)))\n",
    "print(f\"Removed {initial_nodes - G.number_of_nodes()} isolated nodes\")"
   ]
  },
  {
   "cell_type": "markdown",
   "id": "8f92a26e",
   "metadata": {
    "papermill": {
     "duration": 0.008991,
     "end_time": "2025-04-05T06:21:58.252997",
     "exception": false,
     "start_time": "2025-04-05T06:21:58.244006",
     "status": "completed"
    },
    "tags": []
   },
   "source": [
    "### Basic Statistics"
   ]
  },
  {
   "cell_type": "code",
   "execution_count": 15,
   "id": "9f8338d3",
   "metadata": {
    "execution": {
     "iopub.execute_input": "2025-04-05T06:21:58.272321Z",
     "iopub.status.busy": "2025-04-05T06:21:58.272081Z",
     "iopub.status.idle": "2025-04-05T06:21:59.237740Z",
     "shell.execute_reply": "2025-04-05T06:21:59.236746Z"
    },
    "papermill": {
     "duration": 0.977025,
     "end_time": "2025-04-05T06:21:59.239105",
     "exception": false,
     "start_time": "2025-04-05T06:21:58.262080",
     "status": "completed"
    },
    "tags": []
   },
   "outputs": [
    {
     "name": "stdout",
     "output_type": "stream",
     "text": [
      "\n",
      "Basic Statistics:\n",
      "- Nodes: 333, Edges: 2519\n",
      "- Avg. degree: 15.13\n",
      "- Clustering coefficient: 0.508\n",
      "- Avg. path length (LCC): 3.75\n"
     ]
    }
   ],
   "source": [
    "# Network size\n",
    "n_nodes = G.number_of_nodes()\n",
    "n_edges = G.number_of_edges()\n",
    "\n",
    "# Degree distribution\n",
    "degrees = [d for _, d in G.degree()]\n",
    "avg_degree = np.mean(degrees)\n",
    "\n",
    "# Clustering coefficient\n",
    "clustering = nx.average_clustering(G)\n",
    "\n",
    "# Average shortest path length (using largest connected component)\n",
    "lcc = max(nx.connected_components(G), key=len)\n",
    "subgraph = G.subgraph(lcc)\n",
    "avg_path_length = nx.average_shortest_path_length(subgraph)\n",
    "\n",
    "print(\"\\nBasic Statistics:\")\n",
    "print(f\"- Nodes: {n_nodes}, Edges: {n_edges}\")\n",
    "print(f\"- Avg. degree: {avg_degree:.2f}\")\n",
    "print(f\"- Clustering coefficient: {clustering:.3f}\")\n",
    "print(f\"- Avg. path length (LCC): {avg_path_length:.2f}\")\n",
    "# print(f\"Community {comm_id}: Density = {density:.3f}\")"
   ]
  },
  {
   "cell_type": "markdown",
   "id": "63b2943e",
   "metadata": {
    "papermill": {
     "duration": 0.009176,
     "end_time": "2025-04-05T06:21:59.258282",
     "exception": false,
     "start_time": "2025-04-05T06:21:59.249106",
     "status": "completed"
    },
    "tags": []
   },
   "source": [
    "**Key Observations**\n",
    "* **Network Size**: 333 nodes (users), 2519 edges (friendships).\n",
    "* **Average Degree**: 15.13\n",
    "    * Each user has ~15 friends on average.\n",
    "    * **Implication**: This is a dense social network (typical for ego networks).\n",
    "* **Clustering Coefficient**: 0.508\n",
    "    * **Interpretation**: High clustering (close to 0.5) indicates strong community structure.\n",
    "    * **Context**: Social networks often have high clustering due to triadic closure (friends of friends tend to become friends).\n",
    "* **Average Path Length (LCC)**: 3.75\n",
    "    * **Meaning**: Two random users in the largest connected component are connected by ~4 steps (small-world property)."
   ]
  },
  {
   "cell_type": "markdown",
   "id": "41b103b9",
   "metadata": {
    "papermill": {
     "duration": 0.009056,
     "end_time": "2025-04-05T06:21:59.276548",
     "exception": false,
     "start_time": "2025-04-05T06:21:59.267492",
     "status": "completed"
    },
    "tags": []
   },
   "source": [
    "### Null Model (Erdős-Rényi)"
   ]
  },
  {
   "cell_type": "code",
   "execution_count": 16,
   "id": "b3d22c05",
   "metadata": {
    "execution": {
     "iopub.execute_input": "2025-04-05T06:21:59.295942Z",
     "iopub.status.busy": "2025-04-05T06:21:59.295698Z",
     "iopub.status.idle": "2025-04-05T06:21:59.298591Z",
     "shell.execute_reply": "2025-04-05T06:21:59.297956Z"
    },
    "papermill": {
     "duration": 0.014021,
     "end_time": "2025-04-05T06:21:59.299861",
     "exception": false,
     "start_time": "2025-04-05T06:21:59.285840",
     "status": "completed"
    },
    "tags": []
   },
   "outputs": [],
   "source": [
    "# n_simulations = 100  # Reduced from 1000 for speed\n",
    "# clustering_er = []\n",
    "# path_length_er = []\n",
    "\n",
    "# # Generate ER networks with same n_nodes and n_edges\n",
    "# p = n_edges / (n_nodes * (n_nodes - 1) / 2)  # Connection probability\n",
    "\n",
    "# for _ in range(n_simulations):\n",
    "#     G_er = nx.erdos_renyi_graph(n_nodes, p)\n",
    "    \n",
    "#     # Calculate metrics\n",
    "#     clustering_er.append(nx.average_clustering(G_er))\n",
    "    \n",
    "#     # Handle disconnected ER graphs\n",
    "#     lcc_er = max(nx.connected_components(G_er), key=len)\n",
    "#     if len(lcc_er) > 1:\n",
    "#         subgraph_er = G_er.subgraph(lcc_er)\n",
    "#         path_length_er.append(nx.average_shortest_path_length(subgraph_er))"
   ]
  },
  {
   "cell_type": "markdown",
   "id": "5083f159",
   "metadata": {
    "papermill": {
     "duration": 0.009105,
     "end_time": "2025-04-05T06:21:59.318286",
     "exception": false,
     "start_time": "2025-04-05T06:21:59.309181",
     "status": "completed"
    },
    "tags": []
   },
   "source": [
    "### Null Model (Configuration Model)"
   ]
  },
  {
   "cell_type": "code",
   "execution_count": 17,
   "id": "9f0bb424",
   "metadata": {
    "execution": {
     "iopub.execute_input": "2025-04-05T06:21:59.337481Z",
     "iopub.status.busy": "2025-04-05T06:21:59.337227Z",
     "iopub.status.idle": "2025-04-05T06:22:00.219995Z",
     "shell.execute_reply": "2025-04-05T06:22:00.219230Z"
    },
    "papermill": {
     "duration": 0.894027,
     "end_time": "2025-04-05T06:22:00.221475",
     "exception": false,
     "start_time": "2025-04-05T06:21:59.327448",
     "status": "completed"
    },
    "tags": []
   },
   "outputs": [],
   "source": [
    "# Generate degree-preserving randomized graph\n",
    "degree_seq = [d for _, d in G.degree()]\n",
    "null_model = nx.configuration_model(degree_seq)\n",
    "\n",
    "# Convert to simple graph (remove parallel edges/self-loops)\n",
    "null_model = nx.Graph(null_model)\n",
    "null_model.remove_edges_from(nx.selfloop_edges(null_model))\n",
    "\n",
    "# Calculate null model metrics\n",
    "clustering_null = nx.average_clustering(null_model)\n",
    "lcc_null = max(nx.connected_components(null_model), key=len)\n",
    "path_length_null = nx.average_shortest_path_length(null_model.subgraph(lcc_null))"
   ]
  },
  {
   "cell_type": "markdown",
   "id": "b92cd2cf",
   "metadata": {
    "papermill": {
     "duration": 0.009288,
     "end_time": "2025-04-05T06:22:00.242375",
     "exception": false,
     "start_time": "2025-04-05T06:22:00.233087",
     "status": "completed"
    },
    "tags": []
   },
   "source": [
    "### Compare Real vs. Null"
   ]
  },
  {
   "cell_type": "code",
   "execution_count": 18,
   "id": "80876f0a",
   "metadata": {
    "execution": {
     "iopub.execute_input": "2025-04-05T06:22:00.262141Z",
     "iopub.status.busy": "2025-04-05T06:22:00.261874Z",
     "iopub.status.idle": "2025-04-05T06:22:00.264946Z",
     "shell.execute_reply": "2025-04-05T06:22:00.264290Z"
    },
    "papermill": {
     "duration": 0.014423,
     "end_time": "2025-04-05T06:22:00.266165",
     "exception": false,
     "start_time": "2025-04-05T06:22:00.251742",
     "status": "completed"
    },
    "tags": []
   },
   "outputs": [],
   "source": [
    "# # Clustering comparison\n",
    "# z_clustering = (clustering - np.mean(clustering_er)) / np.std(clustering_er)\n",
    "\n",
    "# # Path length comparison\n",
    "# z_path = (avg_path_length - np.mean(path_length_er)) / np.std(path_length_er)\n",
    "\n",
    "# print(\"\\nNull Model Comparison:\")\n",
    "# print(f\"- Clustering z-score: {z_clustering:.2f}\")\n",
    "# print(f\"- Path length z-score: {z_path:.2f}\")"
   ]
  },
  {
   "cell_type": "code",
   "execution_count": 19,
   "id": "be6709a3",
   "metadata": {
    "execution": {
     "iopub.execute_input": "2025-04-05T06:22:00.285855Z",
     "iopub.status.busy": "2025-04-05T06:22:00.285627Z",
     "iopub.status.idle": "2025-04-05T06:22:00.289568Z",
     "shell.execute_reply": "2025-04-05T06:22:00.288683Z"
    },
    "papermill": {
     "duration": 0.015158,
     "end_time": "2025-04-05T06:22:00.290865",
     "exception": false,
     "start_time": "2025-04-05T06:22:00.275707",
     "status": "completed"
    },
    "tags": []
   },
   "outputs": [
    {
     "name": "stdout",
     "output_type": "stream",
     "text": [
      "\n",
      "Null Model Comparison (Configuration Model):\n",
      "- Real clustering: 0.508 vs. Null: 0.131\n",
      "- Real path length: 3.75 vs. Null: 2.58\n"
     ]
    }
   ],
   "source": [
    "print(\"\\nNull Model Comparison (Configuration Model):\")\n",
    "print(f\"- Real clustering: {clustering:.3f} vs. Null: {clustering_null:.3f}\")\n",
    "print(f\"- Real path length: {avg_path_length:.2f} vs. Null: {path_length_null:.2f}\")"
   ]
  },
  {
   "cell_type": "markdown",
   "id": "0c22b464",
   "metadata": {
    "papermill": {
     "duration": 0.00907,
     "end_time": "2025-04-05T06:22:00.309271",
     "exception": false,
     "start_time": "2025-04-05T06:22:00.300201",
     "status": "completed"
    },
    "tags": []
   },
   "source": [
    "**Critical Findings**\n",
    "* **Clustering Coefficient:**\n",
    "    * The real network’s clustering is **0.508** above the Configuration (C) null model which is **0.147**.\n",
    "    * **Interpretation**: The real network’s clustering is **3.5× higher** than the null model.\n",
    "    * **Implication**: Friends of the ego node form **tightly-knit communities** (e.g., coworkers, family). This aligns with real-world social dynamics where individuals cluster into groups.\n",
    "* **Average Path Length**\n",
    "    * The real network’s path length is **3.75** longer than the Configuration model which is at **2.57**.\n",
    "    * **Interpretation**: The real network’s path length is **1.5× longer** than the null model.\n",
    "    * **Implication**: While the network has small-world properties (short paths relative to its size), the **presence of communities** increases the distance between nodes in different groups."
   ]
  },
  {
   "cell_type": "markdown",
   "id": "3192b6f1",
   "metadata": {
    "papermill": {
     "duration": 0.009103,
     "end_time": "2025-04-05T06:22:00.327707",
     "exception": false,
     "start_time": "2025-04-05T06:22:00.318604",
     "status": "completed"
    },
    "tags": []
   },
   "source": [
    "### Visualizations"
   ]
  },
  {
   "cell_type": "code",
   "execution_count": 20,
   "id": "3d76151b",
   "metadata": {
    "execution": {
     "iopub.execute_input": "2025-04-05T06:22:00.347286Z",
     "iopub.status.busy": "2025-04-05T06:22:00.347038Z",
     "iopub.status.idle": "2025-04-05T06:22:02.052382Z",
     "shell.execute_reply": "2025-04-05T06:22:02.051553Z"
    },
    "papermill": {
     "duration": 1.716914,
     "end_time": "2025-04-05T06:22:02.054004",
     "exception": false,
     "start_time": "2025-04-05T06:22:00.337090",
     "status": "completed"
    },
    "tags": []
   },
   "outputs": [
    {
     "ename": "FileNotFoundError",
     "evalue": "[Errno 2] No such file or directory: '/kaggle/working/part1_results.png'",
     "output_type": "error",
     "traceback": [
      "\u001b[1;31m---------------------------------------------------------------------------\u001b[0m",
      "\u001b[1;31mFileNotFoundError\u001b[0m                         Traceback (most recent call last)",
      "Cell \u001b[1;32mIn[20], line 36\u001b[0m\n\u001b[0;32m     33\u001b[0m plt\u001b[38;5;241m.\u001b[39msubplots_adjust(hspace\u001b[38;5;241m=\u001b[39m\u001b[38;5;241m0.3\u001b[39m, wspace\u001b[38;5;241m=\u001b[39m\u001b[38;5;241m0.3\u001b[39m)  \u001b[38;5;66;03m# Control vertical/horizontal spacing\u001b[39;00m\n\u001b[0;32m     34\u001b[0m plt\u001b[38;5;241m.\u001b[39mtight_layout()\n\u001b[1;32m---> 36\u001b[0m \u001b[43mplt\u001b[49m\u001b[38;5;241;43m.\u001b[39;49m\u001b[43msavefig\u001b[49m\u001b[43m(\u001b[49m\u001b[38;5;124;43m\"\u001b[39;49m\u001b[38;5;124;43m/kaggle/working/part1_results.png\u001b[39;49m\u001b[38;5;124;43m\"\u001b[39;49m\u001b[43m)\u001b[49m\n\u001b[0;32m     37\u001b[0m plt\u001b[38;5;241m.\u001b[39mshow()\n",
      "File \u001b[1;32mc:\\Users\\ayman\\AppData\\Local\\Programs\\Python\\Python313\\Lib\\site-packages\\matplotlib\\pyplot.py:1243\u001b[0m, in \u001b[0;36msavefig\u001b[1;34m(*args, **kwargs)\u001b[0m\n\u001b[0;32m   1240\u001b[0m fig \u001b[38;5;241m=\u001b[39m gcf()\n\u001b[0;32m   1241\u001b[0m \u001b[38;5;66;03m# savefig default implementation has no return, so mypy is unhappy\u001b[39;00m\n\u001b[0;32m   1242\u001b[0m \u001b[38;5;66;03m# presumably this is here because subclasses can return?\u001b[39;00m\n\u001b[1;32m-> 1243\u001b[0m res \u001b[38;5;241m=\u001b[39m \u001b[43mfig\u001b[49m\u001b[38;5;241;43m.\u001b[39;49m\u001b[43msavefig\u001b[49m\u001b[43m(\u001b[49m\u001b[38;5;241;43m*\u001b[39;49m\u001b[43margs\u001b[49m\u001b[43m,\u001b[49m\u001b[43m \u001b[49m\u001b[38;5;241;43m*\u001b[39;49m\u001b[38;5;241;43m*\u001b[39;49m\u001b[43mkwargs\u001b[49m\u001b[43m)\u001b[49m  \u001b[38;5;66;03m# type: ignore[func-returns-value]\u001b[39;00m\n\u001b[0;32m   1244\u001b[0m fig\u001b[38;5;241m.\u001b[39mcanvas\u001b[38;5;241m.\u001b[39mdraw_idle()  \u001b[38;5;66;03m# Need this if 'transparent=True', to reset colors.\u001b[39;00m\n\u001b[0;32m   1245\u001b[0m \u001b[38;5;28;01mreturn\u001b[39;00m res\n",
      "File \u001b[1;32mc:\\Users\\ayman\\AppData\\Local\\Programs\\Python\\Python313\\Lib\\site-packages\\matplotlib\\figure.py:3490\u001b[0m, in \u001b[0;36mFigure.savefig\u001b[1;34m(self, fname, transparent, **kwargs)\u001b[0m\n\u001b[0;32m   3488\u001b[0m     \u001b[38;5;28;01mfor\u001b[39;00m ax \u001b[38;5;129;01min\u001b[39;00m \u001b[38;5;28mself\u001b[39m\u001b[38;5;241m.\u001b[39maxes:\n\u001b[0;32m   3489\u001b[0m         _recursively_make_axes_transparent(stack, ax)\n\u001b[1;32m-> 3490\u001b[0m \u001b[38;5;28;43mself\u001b[39;49m\u001b[38;5;241;43m.\u001b[39;49m\u001b[43mcanvas\u001b[49m\u001b[38;5;241;43m.\u001b[39;49m\u001b[43mprint_figure\u001b[49m\u001b[43m(\u001b[49m\u001b[43mfname\u001b[49m\u001b[43m,\u001b[49m\u001b[43m \u001b[49m\u001b[38;5;241;43m*\u001b[39;49m\u001b[38;5;241;43m*\u001b[39;49m\u001b[43mkwargs\u001b[49m\u001b[43m)\u001b[49m\n",
      "File \u001b[1;32mc:\\Users\\ayman\\AppData\\Local\\Programs\\Python\\Python313\\Lib\\site-packages\\matplotlib\\backend_bases.py:2184\u001b[0m, in \u001b[0;36mFigureCanvasBase.print_figure\u001b[1;34m(self, filename, dpi, facecolor, edgecolor, orientation, format, bbox_inches, pad_inches, bbox_extra_artists, backend, **kwargs)\u001b[0m\n\u001b[0;32m   2180\u001b[0m \u001b[38;5;28;01mtry\u001b[39;00m:\n\u001b[0;32m   2181\u001b[0m     \u001b[38;5;66;03m# _get_renderer may change the figure dpi (as vector formats\u001b[39;00m\n\u001b[0;32m   2182\u001b[0m     \u001b[38;5;66;03m# force the figure dpi to 72), so we need to set it again here.\u001b[39;00m\n\u001b[0;32m   2183\u001b[0m     \u001b[38;5;28;01mwith\u001b[39;00m cbook\u001b[38;5;241m.\u001b[39m_setattr_cm(\u001b[38;5;28mself\u001b[39m\u001b[38;5;241m.\u001b[39mfigure, dpi\u001b[38;5;241m=\u001b[39mdpi):\n\u001b[1;32m-> 2184\u001b[0m         result \u001b[38;5;241m=\u001b[39m \u001b[43mprint_method\u001b[49m\u001b[43m(\u001b[49m\n\u001b[0;32m   2185\u001b[0m \u001b[43m            \u001b[49m\u001b[43mfilename\u001b[49m\u001b[43m,\u001b[49m\n\u001b[0;32m   2186\u001b[0m \u001b[43m            \u001b[49m\u001b[43mfacecolor\u001b[49m\u001b[38;5;241;43m=\u001b[39;49m\u001b[43mfacecolor\u001b[49m\u001b[43m,\u001b[49m\n\u001b[0;32m   2187\u001b[0m \u001b[43m            \u001b[49m\u001b[43medgecolor\u001b[49m\u001b[38;5;241;43m=\u001b[39;49m\u001b[43medgecolor\u001b[49m\u001b[43m,\u001b[49m\n\u001b[0;32m   2188\u001b[0m \u001b[43m            \u001b[49m\u001b[43morientation\u001b[49m\u001b[38;5;241;43m=\u001b[39;49m\u001b[43morientation\u001b[49m\u001b[43m,\u001b[49m\n\u001b[0;32m   2189\u001b[0m \u001b[43m            \u001b[49m\u001b[43mbbox_inches_restore\u001b[49m\u001b[38;5;241;43m=\u001b[39;49m\u001b[43m_bbox_inches_restore\u001b[49m\u001b[43m,\u001b[49m\n\u001b[0;32m   2190\u001b[0m \u001b[43m            \u001b[49m\u001b[38;5;241;43m*\u001b[39;49m\u001b[38;5;241;43m*\u001b[39;49m\u001b[43mkwargs\u001b[49m\u001b[43m)\u001b[49m\n\u001b[0;32m   2191\u001b[0m \u001b[38;5;28;01mfinally\u001b[39;00m:\n\u001b[0;32m   2192\u001b[0m     \u001b[38;5;28;01mif\u001b[39;00m bbox_inches \u001b[38;5;129;01mand\u001b[39;00m restore_bbox:\n",
      "File \u001b[1;32mc:\\Users\\ayman\\AppData\\Local\\Programs\\Python\\Python313\\Lib\\site-packages\\matplotlib\\backend_bases.py:2040\u001b[0m, in \u001b[0;36mFigureCanvasBase._switch_canvas_and_return_print_method.<locals>.<lambda>\u001b[1;34m(*args, **kwargs)\u001b[0m\n\u001b[0;32m   2036\u001b[0m     optional_kws \u001b[38;5;241m=\u001b[39m {  \u001b[38;5;66;03m# Passed by print_figure for other renderers.\u001b[39;00m\n\u001b[0;32m   2037\u001b[0m         \u001b[38;5;124m\"\u001b[39m\u001b[38;5;124mdpi\u001b[39m\u001b[38;5;124m\"\u001b[39m, \u001b[38;5;124m\"\u001b[39m\u001b[38;5;124mfacecolor\u001b[39m\u001b[38;5;124m\"\u001b[39m, \u001b[38;5;124m\"\u001b[39m\u001b[38;5;124medgecolor\u001b[39m\u001b[38;5;124m\"\u001b[39m, \u001b[38;5;124m\"\u001b[39m\u001b[38;5;124morientation\u001b[39m\u001b[38;5;124m\"\u001b[39m,\n\u001b[0;32m   2038\u001b[0m         \u001b[38;5;124m\"\u001b[39m\u001b[38;5;124mbbox_inches_restore\u001b[39m\u001b[38;5;124m\"\u001b[39m}\n\u001b[0;32m   2039\u001b[0m     skip \u001b[38;5;241m=\u001b[39m optional_kws \u001b[38;5;241m-\u001b[39m {\u001b[38;5;241m*\u001b[39minspect\u001b[38;5;241m.\u001b[39msignature(meth)\u001b[38;5;241m.\u001b[39mparameters}\n\u001b[1;32m-> 2040\u001b[0m     print_method \u001b[38;5;241m=\u001b[39m functools\u001b[38;5;241m.\u001b[39mwraps(meth)(\u001b[38;5;28;01mlambda\u001b[39;00m \u001b[38;5;241m*\u001b[39margs, \u001b[38;5;241m*\u001b[39m\u001b[38;5;241m*\u001b[39mkwargs: \u001b[43mmeth\u001b[49m\u001b[43m(\u001b[49m\n\u001b[0;32m   2041\u001b[0m \u001b[43m        \u001b[49m\u001b[38;5;241;43m*\u001b[39;49m\u001b[43margs\u001b[49m\u001b[43m,\u001b[49m\u001b[43m \u001b[49m\u001b[38;5;241;43m*\u001b[39;49m\u001b[38;5;241;43m*\u001b[39;49m\u001b[43m{\u001b[49m\u001b[43mk\u001b[49m\u001b[43m:\u001b[49m\u001b[43m \u001b[49m\u001b[43mv\u001b[49m\u001b[43m \u001b[49m\u001b[38;5;28;43;01mfor\u001b[39;49;00m\u001b[43m \u001b[49m\u001b[43mk\u001b[49m\u001b[43m,\u001b[49m\u001b[43m \u001b[49m\u001b[43mv\u001b[49m\u001b[43m \u001b[49m\u001b[38;5;129;43;01min\u001b[39;49;00m\u001b[43m \u001b[49m\u001b[43mkwargs\u001b[49m\u001b[38;5;241;43m.\u001b[39;49m\u001b[43mitems\u001b[49m\u001b[43m(\u001b[49m\u001b[43m)\u001b[49m\u001b[43m \u001b[49m\u001b[38;5;28;43;01mif\u001b[39;49;00m\u001b[43m \u001b[49m\u001b[43mk\u001b[49m\u001b[43m \u001b[49m\u001b[38;5;129;43;01mnot\u001b[39;49;00m\u001b[43m \u001b[49m\u001b[38;5;129;43;01min\u001b[39;49;00m\u001b[43m \u001b[49m\u001b[43mskip\u001b[49m\u001b[43m}\u001b[49m\u001b[43m)\u001b[49m)\n\u001b[0;32m   2042\u001b[0m \u001b[38;5;28;01melse\u001b[39;00m:  \u001b[38;5;66;03m# Let third-parties do as they see fit.\u001b[39;00m\n\u001b[0;32m   2043\u001b[0m     print_method \u001b[38;5;241m=\u001b[39m meth\n",
      "File \u001b[1;32mc:\\Users\\ayman\\AppData\\Local\\Programs\\Python\\Python313\\Lib\\site-packages\\matplotlib\\backends\\backend_agg.py:481\u001b[0m, in \u001b[0;36mFigureCanvasAgg.print_png\u001b[1;34m(self, filename_or_obj, metadata, pil_kwargs)\u001b[0m\n\u001b[0;32m    434\u001b[0m \u001b[38;5;28;01mdef\u001b[39;00m\u001b[38;5;250m \u001b[39m\u001b[38;5;21mprint_png\u001b[39m(\u001b[38;5;28mself\u001b[39m, filename_or_obj, \u001b[38;5;241m*\u001b[39m, metadata\u001b[38;5;241m=\u001b[39m\u001b[38;5;28;01mNone\u001b[39;00m, pil_kwargs\u001b[38;5;241m=\u001b[39m\u001b[38;5;28;01mNone\u001b[39;00m):\n\u001b[0;32m    435\u001b[0m \u001b[38;5;250m    \u001b[39m\u001b[38;5;124;03m\"\"\"\u001b[39;00m\n\u001b[0;32m    436\u001b[0m \u001b[38;5;124;03m    Write the figure to a PNG file.\u001b[39;00m\n\u001b[0;32m    437\u001b[0m \n\u001b[1;32m   (...)\u001b[0m\n\u001b[0;32m    479\u001b[0m \u001b[38;5;124;03m        *metadata*, including the default 'Software' key.\u001b[39;00m\n\u001b[0;32m    480\u001b[0m \u001b[38;5;124;03m    \"\"\"\u001b[39;00m\n\u001b[1;32m--> 481\u001b[0m     \u001b[38;5;28;43mself\u001b[39;49m\u001b[38;5;241;43m.\u001b[39;49m\u001b[43m_print_pil\u001b[49m\u001b[43m(\u001b[49m\u001b[43mfilename_or_obj\u001b[49m\u001b[43m,\u001b[49m\u001b[43m \u001b[49m\u001b[38;5;124;43m\"\u001b[39;49m\u001b[38;5;124;43mpng\u001b[39;49m\u001b[38;5;124;43m\"\u001b[39;49m\u001b[43m,\u001b[49m\u001b[43m \u001b[49m\u001b[43mpil_kwargs\u001b[49m\u001b[43m,\u001b[49m\u001b[43m \u001b[49m\u001b[43mmetadata\u001b[49m\u001b[43m)\u001b[49m\n",
      "File \u001b[1;32mc:\\Users\\ayman\\AppData\\Local\\Programs\\Python\\Python313\\Lib\\site-packages\\matplotlib\\backends\\backend_agg.py:430\u001b[0m, in \u001b[0;36mFigureCanvasAgg._print_pil\u001b[1;34m(self, filename_or_obj, fmt, pil_kwargs, metadata)\u001b[0m\n\u001b[0;32m    425\u001b[0m \u001b[38;5;250m\u001b[39m\u001b[38;5;124;03m\"\"\"\u001b[39;00m\n\u001b[0;32m    426\u001b[0m \u001b[38;5;124;03mDraw the canvas, then save it using `.image.imsave` (to which\u001b[39;00m\n\u001b[0;32m    427\u001b[0m \u001b[38;5;124;03m*pil_kwargs* and *metadata* are forwarded).\u001b[39;00m\n\u001b[0;32m    428\u001b[0m \u001b[38;5;124;03m\"\"\"\u001b[39;00m\n\u001b[0;32m    429\u001b[0m FigureCanvasAgg\u001b[38;5;241m.\u001b[39mdraw(\u001b[38;5;28mself\u001b[39m)\n\u001b[1;32m--> 430\u001b[0m \u001b[43mmpl\u001b[49m\u001b[38;5;241;43m.\u001b[39;49m\u001b[43mimage\u001b[49m\u001b[38;5;241;43m.\u001b[39;49m\u001b[43mimsave\u001b[49m\u001b[43m(\u001b[49m\n\u001b[0;32m    431\u001b[0m \u001b[43m    \u001b[49m\u001b[43mfilename_or_obj\u001b[49m\u001b[43m,\u001b[49m\u001b[43m \u001b[49m\u001b[38;5;28;43mself\u001b[39;49m\u001b[38;5;241;43m.\u001b[39;49m\u001b[43mbuffer_rgba\u001b[49m\u001b[43m(\u001b[49m\u001b[43m)\u001b[49m\u001b[43m,\u001b[49m\u001b[43m \u001b[49m\u001b[38;5;28;43mformat\u001b[39;49m\u001b[38;5;241;43m=\u001b[39;49m\u001b[43mfmt\u001b[49m\u001b[43m,\u001b[49m\u001b[43m \u001b[49m\u001b[43morigin\u001b[49m\u001b[38;5;241;43m=\u001b[39;49m\u001b[38;5;124;43m\"\u001b[39;49m\u001b[38;5;124;43mupper\u001b[39;49m\u001b[38;5;124;43m\"\u001b[39;49m\u001b[43m,\u001b[49m\n\u001b[0;32m    432\u001b[0m \u001b[43m    \u001b[49m\u001b[43mdpi\u001b[49m\u001b[38;5;241;43m=\u001b[39;49m\u001b[38;5;28;43mself\u001b[39;49m\u001b[38;5;241;43m.\u001b[39;49m\u001b[43mfigure\u001b[49m\u001b[38;5;241;43m.\u001b[39;49m\u001b[43mdpi\u001b[49m\u001b[43m,\u001b[49m\u001b[43m \u001b[49m\u001b[43mmetadata\u001b[49m\u001b[38;5;241;43m=\u001b[39;49m\u001b[43mmetadata\u001b[49m\u001b[43m,\u001b[49m\u001b[43m \u001b[49m\u001b[43mpil_kwargs\u001b[49m\u001b[38;5;241;43m=\u001b[39;49m\u001b[43mpil_kwargs\u001b[49m\u001b[43m)\u001b[49m\n",
      "File \u001b[1;32mc:\\Users\\ayman\\AppData\\Local\\Programs\\Python\\Python313\\Lib\\site-packages\\matplotlib\\image.py:1634\u001b[0m, in \u001b[0;36mimsave\u001b[1;34m(fname, arr, vmin, vmax, cmap, format, origin, dpi, metadata, pil_kwargs)\u001b[0m\n\u001b[0;32m   1632\u001b[0m pil_kwargs\u001b[38;5;241m.\u001b[39msetdefault(\u001b[38;5;124m\"\u001b[39m\u001b[38;5;124mformat\u001b[39m\u001b[38;5;124m\"\u001b[39m, \u001b[38;5;28mformat\u001b[39m)\n\u001b[0;32m   1633\u001b[0m pil_kwargs\u001b[38;5;241m.\u001b[39msetdefault(\u001b[38;5;124m\"\u001b[39m\u001b[38;5;124mdpi\u001b[39m\u001b[38;5;124m\"\u001b[39m, (dpi, dpi))\n\u001b[1;32m-> 1634\u001b[0m \u001b[43mimage\u001b[49m\u001b[38;5;241;43m.\u001b[39;49m\u001b[43msave\u001b[49m\u001b[43m(\u001b[49m\u001b[43mfname\u001b[49m\u001b[43m,\u001b[49m\u001b[43m \u001b[49m\u001b[38;5;241;43m*\u001b[39;49m\u001b[38;5;241;43m*\u001b[39;49m\u001b[43mpil_kwargs\u001b[49m\u001b[43m)\u001b[49m\n",
      "File \u001b[1;32mc:\\Users\\ayman\\AppData\\Local\\Programs\\Python\\Python313\\Lib\\site-packages\\PIL\\Image.py:2591\u001b[0m, in \u001b[0;36mImage.save\u001b[1;34m(self, fp, format, **params)\u001b[0m\n\u001b[0;32m   2589\u001b[0m         fp \u001b[38;5;241m=\u001b[39m builtins\u001b[38;5;241m.\u001b[39mopen(filename, \u001b[38;5;124m\"\u001b[39m\u001b[38;5;124mr+b\u001b[39m\u001b[38;5;124m\"\u001b[39m)\n\u001b[0;32m   2590\u001b[0m     \u001b[38;5;28;01melse\u001b[39;00m:\n\u001b[1;32m-> 2591\u001b[0m         fp \u001b[38;5;241m=\u001b[39m \u001b[43mbuiltins\u001b[49m\u001b[38;5;241;43m.\u001b[39;49m\u001b[43mopen\u001b[49m\u001b[43m(\u001b[49m\u001b[43mfilename\u001b[49m\u001b[43m,\u001b[49m\u001b[43m \u001b[49m\u001b[38;5;124;43m\"\u001b[39;49m\u001b[38;5;124;43mw+b\u001b[39;49m\u001b[38;5;124;43m\"\u001b[39;49m\u001b[43m)\u001b[49m\n\u001b[0;32m   2592\u001b[0m \u001b[38;5;28;01melse\u001b[39;00m:\n\u001b[0;32m   2593\u001b[0m     fp \u001b[38;5;241m=\u001b[39m cast(IO[\u001b[38;5;28mbytes\u001b[39m], fp)\n",
      "\u001b[1;31mFileNotFoundError\u001b[0m: [Errno 2] No such file or directory: '/kaggle/working/part1_results.png'"
     ]
    },
    {
     "data": {
      "image/png": "[encoded data removed]",
      "text/plain": [
       "<Figure size 1200x800 with 4 Axes>"
      ]
     },
     "metadata": {},
     "output_type": "display_data"
    }
   ],
   "source": [
    "plt.figure(figsize=(12, 8))  # Adjusted for better aspect ratio\n",
    "\n",
    "# Degree distribution\n",
    "plt.subplot(221)  # Row 1, Col 1\n",
    "plt.hist(degrees, bins=30, edgecolor=\"k\", alpha=0.7)\n",
    "plt.title(\"Degree Distribution\")\n",
    "plt.xlabel(\"Degree\")\n",
    "plt.ylabel(\"Count\")\n",
    "\n",
    "# Clustering comparison\n",
    "plt.subplot(222)  # Row 1, Col 2\n",
    "plt.hist(clustering_null, bins=20, edgecolor=\"k\", alpha=0.7, label=\"Configuration Model\")\n",
    "plt.axvline(clustering, color=\"r\", linestyle=\"--\", label=\"Real Network\")\n",
    "plt.title(\"Clustering Coefficient\")\n",
    "plt.legend()\n",
    "\n",
    "# Path length comparison\n",
    "plt.subplot(223)  # Row 2, Col 1\n",
    "plt.hist(path_length_null, bins=20, edgecolor=\"k\", alpha=0.7, label=\"Configuration Model\")\n",
    "plt.axvline(avg_path_length, color=\"r\", linestyle=\"--\", label=\"Real Network\")\n",
    "plt.title(\"Average Path Length\")\n",
    "plt.legend()\n",
    "\n",
    "# Network Structure (Excluding Ego Node)\n",
    "plt.subplot(224)  # Row 2, Col 2\n",
    "pos = nx.spring_layout(G, seed=42)\n",
    "nx.draw_networkx_nodes(G, pos, node_size=15, alpha=0.8)  # Reduced node size\n",
    "nx.draw_networkx_edges(G, pos, alpha=0.03, edge_color=\"gray\")  # More transparent edges\n",
    "plt.title(\"Network Structure\")\n",
    "plt.axis(\"off\")\n",
    "\n",
    "# Adjust spacing\n",
    "plt.subplots_adjust(hspace=0.3, wspace=0.3)  # Control vertical/horizontal spacing\n",
    "plt.tight_layout()\n",
    "\n",
    "plt.savefig(\"/kaggle/working/part1_results.png\")\n",
    "plt.show()"
   ]
  },
  {
   "cell_type": "markdown",
   "id": "e0262d57",
   "metadata": {
    "papermill": {
     "duration": 0.010655,
     "end_time": "2025-04-05T06:22:02.076657",
     "exception": false,
     "start_time": "2025-04-05T06:22:02.066002",
     "status": "completed"
    },
    "tags": []
   },
   "source": [
    "**Inferences from Data & Visualizations**\n",
    "* **Degree Distribution (Top-Left)**\n",
    "    * **Observation**: The distribution is **right-skewed**, with most nodes having low degrees (5–15 connections) and a few hubs with very high degrees (30+).\n",
    "    * **Implication**:\n",
    "      * The network follows a **scale-free-like structure**, where a small number of hubs (highly connected individuals) act as central connectors.\n",
    "      * These hubs are critical for information spread, as they can reach many nodes directly.\n",
    "\n",
    "* **Clustering Coefficient (Top-Right)**\n",
    "     * **Observation**: TThe real network’s clustering coefficient **(0.51)** is **3.5× higher** than the null model **(0.15)**.\n",
    "    * **Implication**:\n",
    "      * Friends of the ego node form **tightly-knit communities** (e.g., family, coworkers).\n",
    "      * This aligns with real-world social behavior where individuals cluster into groups.\n",
    "\n",
    "* **Average Path Length (Bottom-Left)**\n",
    "     * **Observation**: The real network has a longer average path length (3.75) compared to the null model (2.57).\n",
    "    * **Implication**:\n",
    "      * While the network exhibits **small-world properties** (short paths relative to its size), the presence of communities increases the distance between nodes in different groups.\n",
    "      * Information may spread quickly within communities but slower across them\n",
    "\n",
    "* **Clustering Coefficient (Top-Right)**\n",
    "     * **Observation**: The visualization shows a **modular structure** with dense clusters (likely communities) sparsely connected to each other.\n",
    "    * **Implication**:\n",
    "      * Communities represent distinct social circles (e.g., friends from work vs. family).\n",
    "      * **Bridge nodes** (not immediately visible here but hinted by path length) likely connect these clusters."
   ]
  },
  {
   "cell_type": "markdown",
   "id": "db1fdbd3",
   "metadata": {
    "papermill": {
     "duration": 0.010603,
     "end_time": "2025-04-05T06:22:02.097868",
     "exception": false,
     "start_time": "2025-04-05T06:22:02.087265",
     "status": "completed"
    },
    "tags": []
   },
   "source": [
    "### Synthesis & Practical Insights\n",
    "1. **Targeting Strategy**:\n",
    "    * **Hubs** (high-degree nodes) are ideal for broad, rapid outreach within communities.\n",
    "    * **Bridge nodes** (to be identified later) are critical for cross-community influence.\n",
    "2. **Structural Advantage**:\n",
    "    * The network’s **high clustering** and **modularity** make it resilient to random failures but vulnerable to targeted hub removal.\n",
    "3. **Null Model Validation**:\n",
    "    * The stark differences from the null model confirm the network’s **socially driven structure**, not random noise."
   ]
  },
  {
   "cell_type": "markdown",
   "id": "e07b0624",
   "metadata": {
    "papermill": {
     "duration": 0.010504,
     "end_time": "2025-04-05T06:22:02.118926",
     "exception": false,
     "start_time": "2025-04-05T06:22:02.108422",
     "status": "completed"
    },
    "tags": []
   },
   "source": [
    "### Key Takeaways\n",
    "1. **Community-Driven Structure**:\n",
    "    * High clustering and longer paths suggest a **modular network** with distinct communities.\n",
    "    * Example: Friends from work, school, and family form separate clusters.\n",
    "2. **Small-World Tradeoff**:\n",
    "    * The network balances clustering and connectivity:\n",
    "        * **Local**: Dense communities (high clustering).\n",
    "        * **Global**: Efficient but not maximally random (paths are longer than null model).\n",
    "3. **Null Model Validation**:\n",
    "    * The configuration model preserves node degrees but randomizes connections.\n",
    "    * The stark difference in clustering confirms the network’s **non-random, socially meaningful structure**."
   ]
  },
  {
   "cell_type": "markdown",
   "id": "661947f0",
   "metadata": {
    "papermill": {
     "duration": 0.01043,
     "end_time": "2025-04-05T06:22:02.139911",
     "exception": false,
     "start_time": "2025-04-05T06:22:02.129481",
     "status": "completed"
    },
    "tags": []
   },
   "source": [
    "### Why This Matters for Your Project\n",
    "1. **Political Outreach**: Target **bridge nodes** (users connecting communities) to maximize cross-community influence.\n",
    "2. **Validation**: The structural properties confirm the network is representative of real social systems, not random noise."
   ]
  },
  {
   "cell_type": "markdown",
   "id": "a60908af",
   "metadata": {
    "papermill": {
     "duration": 0.010484,
     "end_time": "2025-04-05T06:22:02.160934",
     "exception": false,
     "start_time": "2025-04-05T06:22:02.150450",
     "status": "completed"
    },
    "tags": []
   },
   "source": [
    "### Why We Switched from Erdős-Rényi (ER) to Configuration Model\n",
    "1. **Problem with the ER Model**: The Erdős-Rényi model generates random networks where edges are placed uniformly and independently. While useful for basic comparisons, it has two critical limitations:\n",
    "    * **Ignores Degree Distribution**: ER does not preserve the real network’s **heterogeneous degree structure** (e.g., hubs with many connections, most nodes with few).\n",
    "    * **Fails to Capture Social Realities**: Social networks like Facebook are **not random**—they have communities, hubs, and clustering. ER’s Poisson-like degree distribution poorly matches real-world social graphs.\n",
    "    \n",
    "2. **Advantages of the Configuration Model**: The configuration model **preserves the exact degree sequence** of the real network while randomizing connections. This allows us to:\n",
    "    * **Isolate Structural Effects**: By keeping degrees fixed, we test if clustering/path length arise **from social organization** (not just degree distribution).\n",
    "    * **Benchmark Meaningfully**: Differences in clustering/path length now reflect **true structural properties** (e.g., communities, small-worldness)."
   ]
  },
  {
   "cell_type": "markdown",
   "id": "20aa700a",
   "metadata": {
    "papermill": {
     "duration": 0.010497,
     "end_time": "2025-04-05T06:22:02.182160",
     "exception": false,
     "start_time": "2025-04-05T06:22:02.171663",
     "status": "completed"
    },
    "tags": []
   },
   "source": [
    "#### Limitations to Note\n",
    "* **Ego Network Bias**: The dataset is a partial snapshot centered on one user. Conclusions may not generalize to the full Facebook graph."
   ]
  },
  {
   "cell_type": "markdown",
   "id": "38406e39",
   "metadata": {
    "papermill": {
     "duration": 0.010649,
     "end_time": "2025-04-05T06:22:02.203339",
     "exception": false,
     "start_time": "2025-04-05T06:22:02.192690",
     "status": "completed"
    },
    "tags": []
   },
   "source": [
    "### Community Detection (Louvain)"
   ]
  },
  {
   "cell_type": "code",
   "execution_count": null,
   "id": "ceabfd0a",
   "metadata": {
    "execution": {
     "iopub.execute_input": "2025-04-05T06:22:02.225522Z",
     "iopub.status.busy": "2025-04-05T06:22:02.225242Z",
     "iopub.status.idle": "2025-04-05T06:22:02.270209Z",
     "shell.execute_reply": "2025-04-05T06:22:02.269329Z"
    },
    "papermill": {
     "duration": 0.057581,
     "end_time": "2025-04-05T06:22:02.271527",
     "exception": false,
     "start_time": "2025-04-05T06:22:02.213946",
     "status": "completed"
    },
    "tags": []
   },
   "outputs": [
    {
     "name": "stdout",
     "output_type": "stream",
     "text": [
      "Detected 14 algorithmic communities\n"
     ]
    }
   ],
   "source": [
    "# Run Louvain algorithm\n",
    "partition = community_louvain.best_partition(G)\n",
    "communities = {}\n",
    "for node, comm_id in partition.items():\n",
    "    communities.setdefault(comm_id, []).append(node)\n",
    "\n",
    "print(f\"Detected {len(communities)} algorithmic communities\")"
   ]
  },
  {
   "cell_type": "markdown",
   "id": "378a77c2",
   "metadata": {
    "papermill": {
     "duration": 0.010437,
     "end_time": "2025-04-05T06:22:02.292614",
     "exception": false,
     "start_time": "2025-04-05T06:22:02.282177",
     "status": "completed"
    },
    "tags": []
   },
   "source": [
    "### Compare to User-Defined Circles"
   ]
  },
  {
   "cell_type": "code",
   "execution_count": null,
   "id": "940a5897",
   "metadata": {
    "execution": {
     "iopub.execute_input": "2025-04-05T06:22:02.314650Z",
     "iopub.status.busy": "2025-04-05T06:22:02.314392Z",
     "iopub.status.idle": "2025-04-05T06:22:02.330293Z",
     "shell.execute_reply": "2025-04-05T06:22:02.329528Z"
    },
    "papermill": {
     "duration": 0.028392,
     "end_time": "2025-04-05T06:22:02.331567",
     "exception": false,
     "start_time": "2025-04-05T06:22:02.303175",
     "status": "completed"
    },
    "tags": []
   },
   "outputs": [
    {
     "name": "stdout",
     "output_type": "stream",
     "text": [
      "Adjusted Rand Index (Louvain vs. Circles): 0.184\n"
     ]
    }
   ],
   "source": [
    "# Convert circles/communities to label lists for ARI\n",
    "true_labels = []\n",
    "pred_labels = []\n",
    "\n",
    "# Assign nodes to their groups\n",
    "all_nodes = list(G.nodes)\n",
    "node_to_comm = {node: idx for idx, comm in communities.items() for node in comm}\n",
    "node_to_circle = {node: idx for idx, (_, nodes) in enumerate(circles.items()) for node in nodes}\n",
    "\n",
    "# Handle nodes not in any circle (assign -1)\n",
    "for node in all_nodes:\n",
    "    true_labels.append(node_to_circle.get(node, -1))\n",
    "    pred_labels.append(node_to_comm.get(node, -1))\n",
    "\n",
    "# Calculate Adjusted Rand Index (ARI)\n",
    "ari = adjusted_rand_score(true_labels, pred_labels)\n",
    "print(f\"Adjusted Rand Index (Louvain vs. Circles): {ari:.3f}\")"
   ]
  },
  {
   "cell_type": "markdown",
   "id": "c2fa7790",
   "metadata": {
    "papermill": {
     "duration": 0.010551,
     "end_time": "2025-04-05T06:22:02.352770",
     "exception": false,
     "start_time": "2025-04-05T06:22:02.342219",
     "status": "completed"
    },
    "tags": []
   },
   "source": [
    "* **Algorithmic Communities Detected**: 13\n",
    "* **Adjusted Rand Index (ARI)**: 0.221; Low alignment between Louvain communities and user-defined circles.\n",
    "    * **Interpretation**: Algorithmic communities now partially overlap with user-defined circles (e.g., some structural clusters align with social roles like \"family\").\n",
    "    * **Implication**: Structural targeting can capture some social groupings but requires validation against ground-truth labels."
   ]
  },
  {
   "cell_type": "markdown",
   "id": "e42d772f",
   "metadata": {
    "papermill": {
     "duration": 0.010492,
     "end_time": "2025-04-05T06:22:02.373907",
     "exception": false,
     "start_time": "2025-04-05T06:22:02.363415",
     "status": "completed"
    },
    "tags": []
   },
   "source": [
    "### Visualize Communities vs. User Circles"
   ]
  },
  {
   "cell_type": "code",
   "execution_count": null,
   "id": "433bb6e0",
   "metadata": {
    "execution": {
     "iopub.execute_input": "2025-04-05T06:22:02.433073Z",
     "iopub.status.busy": "2025-04-05T06:22:02.432796Z",
     "iopub.status.idle": "2025-04-05T06:22:03.322664Z",
     "shell.execute_reply": "2025-04-05T06:22:03.321793Z"
    },
    "papermill": {
     "duration": 0.938801,
     "end_time": "2025-04-05T06:22:03.323934",
     "exception": false,
     "start_time": "2025-04-05T06:22:02.385133",
     "status": "completed"
    },
    "tags": []
   },
   "outputs": [
    {
     "data": {
      "image/png": "[encoded data removed]",
      "text/plain": [
       "<Figure size 1500x600 with 2 Axes>"
      ]
     },
     "metadata": {},
     "output_type": "display_data"
    }
   ],
   "source": [
    "# Plot Louvain communities\n",
    "plt.figure(figsize=(15, 6))\n",
    "pos = nx.spring_layout(G, seed=42)\n",
    "\n",
    "plt.subplot(121)\n",
    "nx.draw_networkx_nodes(G, pos, node_color=list(partition.values()), cmap=plt.cm.tab20, node_size=20)\n",
    "nx.draw_networkx_edges(G, pos, alpha=0.1, edge_color=\"gray\")\n",
    "plt.title(\"Algorithmic Communities (Louvain)\")\n",
    "\n",
    "# Plot user-defined circles\n",
    "plt.subplot(122)\n",
    "circle_labels = {node: idx for idx, (_, nodes) in enumerate(circles.items()) for node in nodes}\n",
    "nx.draw_networkx_nodes(G, pos, node_color=[circle_labels.get(n, -1) for n in G.nodes()], cmap=plt.cm.tab20, node_size=20)\n",
    "nx.draw_networkx_edges(G, pos, alpha=0.1, edge_color=\"gray\")\n",
    "plt.title(\"User-Defined Circles\")\n",
    "\n",
    "plt.tight_layout()\n",
    "plt.savefig(\"/kaggle/working/community_comparison.png\")\n",
    "plt.show()"
   ]
  },
  {
   "cell_type": "markdown",
   "id": "0eeccac0",
   "metadata": {
    "papermill": {
     "duration": 0.011914,
     "end_time": "2025-04-05T06:22:03.348504",
     "exception": false,
     "start_time": "2025-04-05T06:22:03.336590",
     "status": "completed"
    },
    "tags": []
   },
   "source": [
    "### Centrality Analysis"
   ]
  },
  {
   "cell_type": "code",
   "execution_count": null,
   "id": "66ec1951",
   "metadata": {
    "execution": {
     "iopub.execute_input": "2025-04-05T06:22:03.373299Z",
     "iopub.status.busy": "2025-04-05T06:22:03.373044Z",
     "iopub.status.idle": "2025-04-05T06:22:03.501996Z",
     "shell.execute_reply": "2025-04-05T06:22:03.501136Z"
    },
    "papermill": {
     "duration": 0.142814,
     "end_time": "2025-04-05T06:22:03.503300",
     "exception": false,
     "start_time": "2025-04-05T06:22:03.360486",
     "status": "completed"
    },
    "tags": []
   },
   "outputs": [
    {
     "name": "stdout",
     "output_type": "stream",
     "text": [
      "\n",
      "Top nodes per community:\n",
      "   community  node    degree\n",
      "0          0   271  0.584071\n",
      "1          0    56  0.575221\n",
      "2          0    26  0.548673\n",
      "3          0    67  0.548673\n",
      "4          0   252  0.486726\n"
     ]
    }
   ],
   "source": [
    "# Calculate centrality for nodes IN THEIR COMMUNITIES\n",
    "centrality_data = []\n",
    "\n",
    "for comm_id, nodes in communities.items():\n",
    "    subgraph = G.subgraph(nodes)\n",
    "    \n",
    "    # Degree centrality\n",
    "    degree_cent = nx.degree_centrality(subgraph)\n",
    "    \n",
    "    # Betweenness centrality (handle small communities)\n",
    "    try:\n",
    "        k_val = min(10, len(subgraph))  # Ensure k ≤ community size\n",
    "        betweenness_cent = nx.betweenness_centrality(subgraph, k=k_val) if len(subgraph) > 1 else {node: 0 for node in subgraph}\n",
    "    except Exception as e:\n",
    "        print(f\"Error in community {comm_id} (size={len(subgraph)}): {e}\")\n",
    "        betweenness_cent = {node: 0 for node in subgraph}\n",
    "    \n",
    "    # Eigenvector centrality\n",
    "    try:\n",
    "        eigen_cent = nx.eigenvector_centrality(subgraph, max_iter=1000)\n",
    "    except nx.PowerIterationFailedConvergence:\n",
    "        eigen_cent = {node: 0 for node in subgraph}  # Fallback\n",
    "    \n",
    "    for node in nodes:\n",
    "        centrality_data.append({\n",
    "            \"node\": node,\n",
    "            \"community\": comm_id,\n",
    "            \"degree\": degree_cent.get(node, 0),\n",
    "            \"betweenness\": betweenness_cent.get(node, 0),\n",
    "            \"eigenvector\": eigen_cent.get(node, 0)\n",
    "        })\n",
    "\n",
    "# Convert to DataFrame\n",
    "df_centrality = pd.DataFrame(centrality_data)\n",
    "\n",
    "# Identify top 5% nodes in each community\n",
    "# Explicitly include \"community\" to silence the warning\n",
    "top_nodes = df_centrality.groupby(\"community\")[[\"community\", \"node\", \"degree\"]].apply(\n",
    "    lambda x: x.nlargest(int(0.05 * len(x)), \"degree\")\n",
    ").reset_index(drop=True)\n",
    "\n",
    "print(\"\\nTop nodes per community:\")\n",
    "print(top_nodes.head())\n"
   ]
  },
  {
   "cell_type": "markdown",
   "id": "1750c938",
   "metadata": {
    "papermill": {
     "duration": 0.012178,
     "end_time": "2025-04-05T06:22:03.529761",
     "exception": false,
     "start_time": "2025-04-05T06:22:03.517583",
     "status": "completed"
    },
    "tags": []
   },
   "source": [
    "* **Key (Top) Nodes**:\n",
    "    * **Node 322 (Community 0)**: Degree = 0.505 (local hub).\n",
    "    * **Node 53 (Community 1)**: Degree = 0.697 (most connected in its community).\n",
    "* **Centrality Distributions**:\n",
    "    * **Degree**: Right-skewed; indicating hubs (most nodes have low influence, a few hubs dominate).\n",
    "    * **Betweenness**: Sparse (limited bridge nodes between communities).\n",
    "    * **Eigenvector**: Correlated with degree, hubs are central in their subgraphs (highlighting influential subgraphs)."
   ]
  },
  {
   "cell_type": "code",
   "execution_count": null,
   "id": "a2aacbb7",
   "metadata": {
    "execution": {
     "iopub.execute_input": "2025-04-05T06:22:03.555009Z",
     "iopub.status.busy": "2025-04-05T06:22:03.554763Z",
     "iopub.status.idle": "2025-04-05T06:22:03.563979Z",
     "shell.execute_reply": "2025-04-05T06:22:03.562634Z"
    },
    "papermill": {
     "duration": 0.023301,
     "end_time": "2025-04-05T06:22:03.565172",
     "exception": false,
     "start_time": "2025-04-05T06:22:03.541871",
     "status": "completed"
    },
    "tags": []
   },
   "outputs": [
    {
     "name": "stdout",
     "output_type": "stream",
     "text": [
      "Community 0: Density = 0.194\n",
      "Community 1: Density = 0.434\n",
      "Community 2: Density = 0.162\n",
      "Community 3: Density = 0.824\n",
      "Community 4: Density = 0.128\n",
      "Community 5: Density = 0.492\n",
      "Community 6: Density = 0.193\n",
      "Community 7: Density = 0.867\n",
      "Community 9: Density = 0.213\n",
      "Community 11: Density = 1.000\n",
      "Community 12: Density = 0.643\n",
      "Community 13: Density = 0.667\n",
      "Community 8: Density = 1.000\n",
      "Community 10: Density = 1.000\n"
     ]
    }
   ],
   "source": [
    "# Density\n",
    "community_ids = []\n",
    "densities = []\n",
    "for comm_id, nodes in communities.items():\n",
    "    subgraph = G.subgraph(nodes)\n",
    "    density = nx.density(subgraph)\n",
    "    community_ids.append(comm_id)\n",
    "    densities.append(density)\n",
    "    print(f\"Community {comm_id}: Density = {density:.3f}\")"
   ]
  },
  {
   "cell_type": "code",
   "execution_count": null,
   "id": "4dea8433",
   "metadata": {
    "execution": {
     "iopub.execute_input": "2025-04-05T06:22:03.590312Z",
     "iopub.status.busy": "2025-04-05T06:22:03.590104Z",
     "iopub.status.idle": "2025-04-05T06:22:04.409703Z",
     "shell.execute_reply": "2025-04-05T06:22:04.408927Z"
    },
    "papermill": {
     "duration": 0.834128,
     "end_time": "2025-04-05T06:22:04.411498",
     "exception": false,
     "start_time": "2025-04-05T06:22:03.577370",
     "status": "completed"
    },
    "tags": []
   },
   "outputs": [
    {
     "data": {
      "image/png": "[encoded data removed]",
      "text/plain": [
       "<Figure size 1200x600 with 1 Axes>"
      ]
     },
     "metadata": {},
     "output_type": "display_data"
    }
   ],
   "source": [
    "# Create bar plot\n",
    "plt.figure(figsize=(12, 6))\n",
    "bars = plt.bar(\n",
    "    [f\"Community {cid}\" for cid in community_ids], \n",
    "    densities, \n",
    ")\n",
    "\n",
    "# Customize plot\n",
    "plt.title(\"Density of Algorithmic Communities (Louvain)\", fontsize=14, pad=20)\n",
    "plt.xlabel(\"Community ID\", fontsize=12)\n",
    "plt.ylabel(\"Density\", fontsize=12)\n",
    "plt.xticks(rotation=45, ha='right')  # Rotate x-labels for readability\n",
    "plt.ylim(0, 1.1)  # Density ranges from 0 to 1\n",
    "\n",
    "# Add density values on top of bars\n",
    "for bar in bars:\n",
    "    height = bar.get_height()\n",
    "    plt.text(\n",
    "        bar.get_x() + bar.get_width()/2, \n",
    "        height + 0.02, \n",
    "        f\"{height:.3f}\", \n",
    "        ha='center', \n",
    "        va='bottom',\n",
    "        fontsize=10\n",
    "    )\n",
    "\n",
    "# Add grid for clarity\n",
    "plt.grid(axis='y', linestyle='--', alpha=0.7)\n",
    "\n",
    "# Save and show\n",
    "plt.tight_layout()\n",
    "plt.savefig(\"/kaggle/working/community_density_plot.png\", dpi=300, bbox_inches='tight')\n",
    "plt.show()"
   ]
  },
  {
   "cell_type": "code",
   "execution_count": null,
   "id": "716985d4",
   "metadata": {
    "execution": {
     "iopub.execute_input": "2025-04-05T06:22:04.439876Z",
     "iopub.status.busy": "2025-04-05T06:22:04.439624Z",
     "iopub.status.idle": "2025-04-05T06:22:04.885032Z",
     "shell.execute_reply": "2025-04-05T06:22:04.884120Z"
    },
    "papermill": {
     "duration": 0.461162,
     "end_time": "2025-04-05T06:22:04.886758",
     "exception": false,
     "start_time": "2025-04-05T06:22:04.425596",
     "status": "completed"
    },
    "tags": []
   },
   "outputs": [
    {
     "name": "stdout",
     "output_type": "stream",
     "text": [
      "Top Bridge Nodes: [277, 175, 19, 23, 25]\n"
     ]
    }
   ],
   "source": [
    "betweenness = nx.betweenness_centrality(G)\n",
    "top_bridges = sorted(betweenness, key=betweenness.get, reverse=True)[:5]\n",
    "print(f\"Top Bridge Nodes: {top_bridges}\")"
   ]
  },
  {
   "cell_type": "markdown",
   "id": "a237615c",
   "metadata": {
    "papermill": {
     "duration": 0.013153,
     "end_time": "2025-04-05T06:22:04.914238",
     "exception": false,
     "start_time": "2025-04-05T06:22:04.901085",
     "status": "completed"
    },
    "tags": []
   },
   "source": [
    "#### Visualizations"
   ]
  },
  {
   "cell_type": "code",
   "execution_count": null,
   "id": "4f224a44",
   "metadata": {
    "execution": {
     "iopub.execute_input": "2025-04-05T06:22:04.941509Z",
     "iopub.status.busy": "2025-04-05T06:22:04.941240Z",
     "iopub.status.idle": "2025-04-05T06:22:05.520773Z",
     "shell.execute_reply": "2025-04-05T06:22:05.519851Z"
    },
    "papermill": {
     "duration": 0.594752,
     "end_time": "2025-04-05T06:22:05.522273",
     "exception": false,
     "start_time": "2025-04-05T06:22:04.927521",
     "status": "completed"
    },
    "tags": []
   },
   "outputs": [
    {
     "data": {
      "image/png": "[encoded data removed]",
      "text/plain": [
       "<Figure size 1500x500 with 2 Axes>"
      ]
     },
     "metadata": {},
     "output_type": "display_data"
    }
   ],
   "source": [
    "plt.figure(figsize=(15, 5))\n",
    "\n",
    "# Community sizes\n",
    "plt.subplot(131)\n",
    "comm_sizes = [len(nodes) for nodes in communities.values()]\n",
    "circle_sizes = [len(nodes) for nodes in circles.values()]\n",
    "plt.bar([\"Louvain\", \"User Circles\"], [np.mean(comm_sizes), np.mean(circle_sizes)])\n",
    "plt.title(\"Average Community Size\")\n",
    "plt.ylabel(\"Nodes\")\n",
    "\n",
    "# Centrality distribution\n",
    "plt.subplot(132)\n",
    "for metric in [\"degree\", \"betweenness\", \"eigenvector\"]:\n",
    "    plt.hist(df_centrality[metric], bins=20, alpha=0.5, label=metric)\n",
    "plt.title(\"Centrality Distribution\")\n",
    "plt.legend()\n",
    "\n",
    "# Save outputs\n",
    "plt.tight_layout()\n",
    "plt.savefig(\"/kaggle/working/part2_results.png\")\n",
    "plt.show()"
   ]
  },
  {
   "cell_type": "markdown",
   "id": "be0ea35f",
   "metadata": {
    "papermill": {
     "duration": 0.013678,
     "end_time": "2025-04-05T06:22:05.551159",
     "exception": false,
     "start_time": "2025-04-05T06:22:05.537481",
     "status": "completed"
    },
    "tags": []
   },
   "source": [
    "* **Community Size**:\n",
    "    * Louvain communities are larger (structural groupings; avg ~25 nodes).\n",
    "    * User circles are smaller (focused social roles; avg ~14 nodes).\n",
    "    * **Implication**: Algorithmic communities aggregate multiple social circles (e.g., merging \"family\" and \"colleagues\" if densely connected)\n",
    "* **Centrality Distribution**:\n",
    "    1. **Degree Centrality**:\n",
    "        * **Observation**: The distribution is right-skewed, with most nodes having low degrees (0.0–0.2) and a few hubs (0.5–0.7).\n",
    "        * **Implication**:\n",
    "           * **Hubs Dominate**: A small fraction of nodes (e.g., Node 53 with degree 0.697) act as critical connectors within their communities.\n",
    "           * **Targeting Strategy**: Prioritize these hubs for rapid local influence.\n",
    "\n",
    "    2. **Betweenness Centrality**\n",
    "        * **Observation**: The distribution is sparse, with most nodes scoring near 0 and very few above 0.1.\n",
    "        * **Implication**:     \n",
    "            * **Limited Bridges**: Few nodes connect different communities.\n",
    "            * **Limitation**: Cross-community influence will require targeting multiple hubs.\n",
    "    3. **Eigenvector Centrality**\n",
    "        * **Observation**: Distribution peaks at low values (0.0–0.2) but correlates with degree.\n",
    "        * **Implication**:\n",
    "            * **Hub Influence**\n",
    "            * **Network Resilience**: Communities rely heavily on hubs—removing them could fragment the network.: Nodes with high degree centrality (e.g., Node 53) also score high in eigenvector centrality, indicating they are connected to other influential nodes."
   ]
  },
  {
   "cell_type": "markdown",
   "id": "677f1a38",
   "metadata": {
    "papermill": {
     "duration": 0.0134,
     "end_time": "2025-04-05T06:22:05.578424",
     "exception": false,
     "start_time": "2025-04-05T06:22:05.565024",
     "status": "completed"
    },
    "tags": []
   },
   "source": [
    "### Key Takeaways\n",
    "* **Structural Hierarchy**: Hubs (high degree) > Bridges (high betweenness) > Peripheral Nodes (low centrality).\n",
    "* **Practical Insight**:\n",
    "    * Use degree centrality as the primary metric for outreach—it captures both direct reach and eigenvector influence.\n",
    "    * Supplement with user-defined circles (e.g., target hubs in \"Political\" circles) to add social context."
   ]
  },
  {
   "cell_type": "markdown",
   "id": "003d5e7c",
   "metadata": {
    "papermill": {
     "duration": 0.013391,
     "end_time": "2025-04-05T06:22:05.605478",
     "exception": false,
     "start_time": "2025-04-05T06:22:05.592087",
     "status": "completed"
    },
    "tags": []
   },
   "source": [
    "Highlights a hierarchical structure: a few hubs (e.g., Node 53, degree = 0.697) dominate local influence, while sparse betweenness scores indicate limited bridges between communities. This suggests outreach should prioritize hubs within algorithmically detected communities, even if they don’t fully align with user-defined circles (ARI = 0.221)."
   ]
  },
  {
   "cell_type": "markdown",
   "id": "14738c07",
   "metadata": {
    "papermill": {
     "duration": 0.013791,
     "end_time": "2025-04-05T06:22:05.633131",
     "exception": false,
     "start_time": "2025-04-05T06:22:05.619340",
     "status": "completed"
    },
    "tags": []
   },
   "source": [
    "### Interactive Community & Centrality Visualization"
   ]
  },
  {
   "cell_type": "code",
   "execution_count": null,
   "id": "6c6635f0",
   "metadata": {
    "execution": {
     "iopub.execute_input": "2025-04-05T06:22:05.661545Z",
     "iopub.status.busy": "2025-04-05T06:22:05.661243Z",
     "iopub.status.idle": "2025-04-05T06:22:06.033141Z",
     "shell.execute_reply": "2025-04-05T06:22:06.032258Z"
    },
    "papermill": {
     "duration": 0.387449,
     "end_time": "2025-04-05T06:22:06.034438",
     "exception": false,
     "start_time": "2025-04-05T06:22:05.646989",
     "status": "completed"
    },
    "tags": []
   },
   "outputs": [
    {
     "name": "stdout",
     "output_type": "stream",
     "text": [
      "Warning: When  cdn_resources is 'local' jupyter notebook has issues displaying graphics on chrome/safari. Use cdn_resources='in_line' or cdn_resources='remote' if you have issues viewing graphics in a notebook.\n",
      "communities.html\n"
     ]
    },
    {
     "data": {
      "text/html": [
       "\n",
       "        <iframe\n",
       "            width=\"100%\"\n",
       "            height=\"600px\"\n",
       "            src=\"communities.html\"\n",
       "            frameborder=\"0\"\n",
       "            allowfullscreen\n",
       "            \n",
       "        ></iframe>\n",
       "        "
      ],
      "text/plain": [
       "<IPython.lib.display.IFrame at 0x78ae5cfafee0>"
      ]
     },
     "execution_count": 22,
     "metadata": {},
     "output_type": "execute_result"
    }
   ],
   "source": [
    "# Assign colors/sizes\n",
    "colors = list(mcolors.TABLEAU_COLORS.values())\n",
    "for node in G.nodes():\n",
    "    # Color by community\n",
    "    G.nodes[node][\"color\"] = colors[partition[node] % len(colors)]\n",
    "    # Default size\n",
    "    G.nodes[node][\"size\"] = 10\n",
    "\n",
    "# Highlight top nodes in red\n",
    "for node in top_nodes[\"node\"]:\n",
    "    G.nodes[node][\"size\"] = 30\n",
    "    G.nodes[node][\"color\"] = \"#ff0000\"\n",
    "\n",
    "# Generate plot\n",
    "net = Network(\n",
    "    notebook=True, \n",
    "    height=\"600px\", \n",
    "    width=\"100%\",\n",
    "    bgcolor=\"#222222\", # for better visualization\n",
    "    font_color=\"white\"\n",
    ")\n",
    "net.from_nx(G)\n",
    "net.show(\"communities.html\")"
   ]
  },
  {
   "cell_type": "code",
   "execution_count": null,
   "id": "8ef82ab5",
   "metadata": {
    "execution": {
     "iopub.execute_input": "2025-04-05T06:22:06.063771Z",
     "iopub.status.busy": "2025-04-05T06:22:06.063536Z",
     "iopub.status.idle": "2025-04-05T06:22:06.066189Z",
     "shell.execute_reply": "2025-04-05T06:22:06.065573Z"
    },
    "papermill": {
     "duration": 0.018731,
     "end_time": "2025-04-05T06:22:06.067510",
     "exception": false,
     "start_time": "2025-04-05T06:22:06.048779",
     "status": "completed"
    },
    "tags": []
   },
   "outputs": [],
   "source": [
    "# Save top nodes for later\n",
    "# top_nodes.to_csv(\"/kaggle/working/top_nodes.csv\", index=False)"
   ]
  },
  {
   "cell_type": "markdown",
   "id": "a74f2c73",
   "metadata": {
    "papermill": {
     "duration": 0.013975,
     "end_time": "2025-04-05T06:22:06.095433",
     "exception": false,
     "start_time": "2025-04-05T06:22:06.081458",
     "status": "completed"
    },
    "tags": []
   },
   "source": [
    "### Critical Analysis\n",
    "* ARI Score: Quantifies overlap between Louvain communities and user circles\n",
    "* Centrality Metrics: Degree, betweenness (approximated), eigenvector\n",
    "* Top 5% Nodes: Identifies high-degree targets per community\n",
    "\n"
   ]
  },
  {
   "cell_type": "markdown",
   "id": "58c9f63b",
   "metadata": {
    "papermill": {
     "duration": 0.013761,
     "end_time": "2025-04-05T06:22:06.122942",
     "exception": false,
     "start_time": "2025-04-05T06:22:06.109181",
     "status": "completed"
    },
    "tags": []
   },
   "source": [
    "### Implications for Political Outreach\n",
    "* **Targeting Strategy**:\n",
    "    * Use high-degree hubs (e.g., Node 346) for broad reach.\n",
    "    * Validate against user circles to ensure relevance (low ARI suggests structural targeting alone is insufficient).\n",
    "* **Hybrid Approach**: Combine algorithmic efficiency with user-defined social context."
   ]
  },
  {
   "cell_type": "markdown",
   "id": "ea24a2c8",
   "metadata": {
    "papermill": {
     "duration": 0.013918,
     "end_time": "2025-04-05T06:22:06.150702",
     "exception": false,
     "start_time": "2025-04-05T06:22:06.136784",
     "status": "completed"
    },
    "tags": []
   },
   "source": [
    "### Threshold Model Function"
   ]
  },
  {
   "cell_type": "code",
   "execution_count": null,
   "id": "a4524073",
   "metadata": {
    "execution": {
     "iopub.execute_input": "2025-04-05T06:22:06.179146Z",
     "iopub.status.busy": "2025-04-05T06:22:06.178898Z",
     "iopub.status.idle": "2025-04-05T06:22:06.183891Z",
     "shell.execute_reply": "2025-04-05T06:22:06.183091Z"
    },
    "papermill": {
     "duration": 0.020487,
     "end_time": "2025-04-05T06:22:06.185023",
     "exception": false,
     "start_time": "2025-04-05T06:22:06.164536",
     "status": "completed"
    },
    "tags": []
   },
   "outputs": [],
   "source": [
    "def threshold_model(G, seeds, threshold=0.2):\n",
    "    activated = set(seeds)\n",
    "    new_activations = set(seeds)\n",
    "    steps = [len(activated)]  # Track activation over time\n",
    "    \n",
    "    while new_activations:\n",
    "        candidates = set()\n",
    "        for node in new_activations:\n",
    "            neighbors = list(G.neighbors(node))\n",
    "            for neighbor in neighbors:\n",
    "                if neighbor not in activated:\n",
    "                    active_neighbors = len([n for n in G.neighbors(neighbor) if n in activated])\n",
    "                    degree = G.degree(neighbor)\n",
    "                    if degree == 0:\n",
    "                        continue  # Avoid division by zero\n",
    "                    if active_neighbors / degree >= threshold:\n",
    "                        candidates.add(neighbor)\n",
    "        new_activations = candidates\n",
    "        activated.update(new_activations)\n",
    "        steps.append(len(activated))\n",
    "    \n",
    "    return steps"
   ]
  },
  {
   "cell_type": "code",
   "execution_count": null,
   "id": "ac0c9adc",
   "metadata": {
    "execution": {
     "iopub.execute_input": "2025-04-05T06:22:06.213375Z",
     "iopub.status.busy": "2025-04-05T06:22:06.213143Z",
     "iopub.status.idle": "2025-04-05T06:22:06.215997Z",
     "shell.execute_reply": "2025-04-05T06:22:06.215398Z"
    },
    "papermill": {
     "duration": 0.018318,
     "end_time": "2025-04-05T06:22:06.217127",
     "exception": false,
     "start_time": "2025-04-05T06:22:06.198809",
     "status": "completed"
    },
    "tags": []
   },
   "outputs": [],
   "source": [
    "# def threshold_model(G, seeds, threshold=0.2):\n",
    "#     activated = set(seeds)\n",
    "#     new_activations = set(seeds)\n",
    "#     activation_steps = [set(activated)]  # Track sets of activated nodes\n",
    "\n",
    "#     while new_activations:\n",
    "#         candidates = set()\n",
    "#         for node in new_activations:\n",
    "#             for neighbor in G.neighbors(node):\n",
    "#                 if neighbor not in activated:\n",
    "#                     active_neighbors = len([n for n in G.neighbors(neighbor) if n in activated])\n",
    "#                     if G.degree(neighbor) == 0:\n",
    "#                         continue  # Avoid division by zero\n",
    "#                     if active_neighbors / G.degree(neighbor) >= threshold:\n",
    "#                         candidates.add(neighbor)\n",
    "#         new_activations = candidates\n",
    "#         activated.update(new_activations)\n",
    "#         activation_steps.append(set(activated))  # Save the current state\n",
    "\n",
    "#     return activation_steps"
   ]
  },
  {
   "cell_type": "markdown",
   "id": "99dd535e",
   "metadata": {
    "papermill": {
     "duration": 0.013675,
     "end_time": "2025-04-05T06:22:06.244842",
     "exception": false,
     "start_time": "2025-04-05T06:22:06.231167",
     "status": "completed"
    },
    "tags": []
   },
   "source": [
    "### Run Simulations"
   ]
  },
  {
   "cell_type": "code",
   "execution_count": null,
   "id": "a5291871",
   "metadata": {
    "execution": {
     "iopub.execute_input": "2025-04-05T06:22:06.273245Z",
     "iopub.status.busy": "2025-04-05T06:22:06.273040Z",
     "iopub.status.idle": "2025-04-05T06:22:06.282609Z",
     "shell.execute_reply": "2025-04-05T06:22:06.281907Z"
    },
    "papermill": {
     "duration": 0.025033,
     "end_time": "2025-04-05T06:22:06.283771",
     "exception": false,
     "start_time": "2025-04-05T06:22:06.258738",
     "status": "completed"
    },
    "tags": []
   },
   "outputs": [
    {
     "name": "stdout",
     "output_type": "stream",
     "text": [
      "Number of seeds for fair comparison: 11\n"
     ]
    }
   ],
   "source": [
    "# Use the network (G) and top nodes\n",
    "# Targeted seeding (top nodes)\n",
    "target_seeds = top_nodes[\"node\"].tolist()\n",
    "target_steps = threshold_model(G, target_seeds)\n",
    "\n",
    "n_seeds = len(target_seeds)\n",
    "print(f\"Number of seeds for fair comparison: {n_seeds}\")\n",
    "\n",
    "# Random seeding (same number of seeds)\n",
    "random_seeds = random.sample(list(G.nodes()), n_seeds)\n",
    "random_steps = threshold_model(G, random_seeds)"
   ]
  },
  {
   "cell_type": "markdown",
   "id": "f4975095",
   "metadata": {
    "papermill": {
     "duration": 0.013799,
     "end_time": "2025-04-05T06:22:06.311450",
     "exception": false,
     "start_time": "2025-04-05T06:22:06.297651",
     "status": "completed"
    },
    "tags": []
   },
   "source": [
    "### Compare Results"
   ]
  },
  {
   "cell_type": "code",
   "execution_count": null,
   "id": "dbb28685",
   "metadata": {
    "execution": {
     "iopub.execute_input": "2025-04-05T06:22:06.339796Z",
     "iopub.status.busy": "2025-04-05T06:22:06.339582Z",
     "iopub.status.idle": "2025-04-05T06:22:06.343877Z",
     "shell.execute_reply": "2025-04-05T06:22:06.343207Z"
    },
    "papermill": {
     "duration": 0.019766,
     "end_time": "2025-04-05T06:22:06.345005",
     "exception": false,
     "start_time": "2025-04-05T06:22:06.325239",
     "status": "completed"
    },
    "tags": []
   },
   "outputs": [
    {
     "name": "stdout",
     "output_type": "stream",
     "text": [
      "\n",
      "Final Coverage:\n",
      "- Targeted: 291 nodes (87.4%)\n",
      "- Random: 51 nodes (15.3%)\n"
     ]
    }
   ],
   "source": [
    "print(\"\\nFinal Coverage:\")\n",
    "print(f\"- Targeted: {target_steps[-1]} nodes ({target_steps[-1]/G.number_of_nodes()*100:.1f}%)\")\n",
    "print(f\"- Random: {random_steps[-1]} nodes ({random_steps[-1]/G.number_of_nodes()*100:.1f}%)\")"
   ]
  },
  {
   "cell_type": "markdown",
   "id": "8bed4fc8",
   "metadata": {
    "papermill": {
     "duration": 0.013671,
     "end_time": "2025-04-05T06:22:06.372544",
     "exception": false,
     "start_time": "2025-04-05T06:22:06.358873",
     "status": "completed"
    },
    "tags": []
   },
   "source": [
    "### Visualize Activation Spread"
   ]
  },
  {
   "cell_type": "code",
   "execution_count": null,
   "id": "91d76d5d",
   "metadata": {
    "execution": {
     "iopub.execute_input": "2025-04-05T06:22:06.400998Z",
     "iopub.status.busy": "2025-04-05T06:22:06.400768Z",
     "iopub.status.idle": "2025-04-05T06:22:06.808889Z",
     "shell.execute_reply": "2025-04-05T06:22:06.808034Z"
    },
    "papermill": {
     "duration": 0.4237,
     "end_time": "2025-04-05T06:22:06.810220",
     "exception": false,
     "start_time": "2025-04-05T06:22:06.386520",
     "status": "completed"
    },
    "tags": []
   },
   "outputs": [
    {
     "data": {
      "image/png": "[encoded data removed]",
      "text/plain": [
       "<Figure size 1000x600 with 1 Axes>"
      ]
     },
     "metadata": {},
     "output_type": "display_data"
    }
   ],
   "source": [
    "plt.figure(figsize=(10, 6))\n",
    "plt.plot(target_steps, label=\"Targeted Seeding\", color=\"blue\")\n",
    "plt.plot(random_steps, label=\"Random Seeding\", color=\"red\", linestyle=\"--\")\n",
    "plt.xlabel(\"Iteration\")\n",
    "plt.ylabel(\"Activated Nodes\")\n",
    "plt.title(\"Influence Spread Comparison\")\n",
    "plt.legend()\n",
    "plt.grid(True)\n",
    "plt.savefig(\"/kaggle/working/part3_results.png\")\n",
    "plt.show()"
   ]
  },
  {
   "cell_type": "markdown",
   "id": "20abafe1",
   "metadata": {
    "papermill": {
     "duration": 0.014737,
     "end_time": "2025-04-05T06:22:06.840622",
     "exception": false,
     "start_time": "2025-04-05T06:22:06.825885",
     "status": "completed"
    },
    "tags": []
   },
   "source": [
    "### Final Coverage Analysis\n",
    "* **Targeted Seeding**: Activated **307/333 nodes (92.2%)**.\n",
    "    * Why This Matters:\n",
    "        * The top 5% central nodes (from eairlier analysis) acted as **super-spreaders**, leveraging the network’s small-world structure (high clustering, short paths) to trigger rapid cascades.\n",
    "        * The dense connectivity (avg. degree = 15.13) allowed influence to propagate efficiently.\n",
    "* **Random Seeding**: Activated **26/333 nodes (7.8%)**.\n",
    "   * **Why This Happened**:\n",
    "       * Random nodes lacked the centrality or community positioning needed to trigger large cascades.\n",
    "       * Reflects the **power-law-like degree distribution** (most nodes have low degree, few hubs dominate)."
   ]
  },
  {
   "cell_type": "markdown",
   "id": "8ef2aa47",
   "metadata": {
    "papermill": {
     "duration": 0.014843,
     "end_time": "2025-04-05T06:22:06.870240",
     "exception": false,
     "start_time": "2025-04-05T06:22:06.855397",
     "status": "completed"
    },
    "tags": []
   },
   "source": [
    "###  Activation Curve Insights\n",
    "* **Targeted Curve**:\n",
    "    * Steep initial growth (hubs activate many neighbors immediately).\n",
    "    * Saturation at 92% suggests near-complete network coverage.\n",
    "* **Random Curve**:\n",
    "    * Flat growth due to poor seed selection.\n",
    "    * Most random seeds failed to activate neighbors beyond their immediate connections."
   ]
  },
  {
   "cell_type": "markdown",
   "id": "da84f841",
   "metadata": {
    "papermill": {
     "duration": 0.014618,
     "end_time": "2025-04-05T06:22:06.899622",
     "exception": false,
     "start_time": "2025-04-05T06:22:06.885004",
     "status": "completed"
    },
    "tags": []
   },
   "source": [
    "###  Why Such Extreme Results? - When ER model was used\n",
    "* **Network Structure**:\n",
    "    * **Small-World Properties**: High clustering (0.508) and short paths (3.75) enable rapid spread.\n",
    "    * **Hub Dominance**: A few high-degree nodes (e.g., Node 346 with degree 0.73) act as gatekeepers.\n",
    "* **Threshold Model**:\n",
    "    * A 20% activation threshold is low, making cascades easier.\n",
    "    * No \"recovery\" mechanism (unlike SIR models) leads to irreversible activation.\n",
    "\n",
    "### Why Results Changed\n",
    "* Improved ARI (0.221): Louvain communities now better align with user circles, improving structural relevance.\n",
    "* Revised Null Model: Configuration model benchmarking validated non-random clustering/path length."
   ]
  },
  {
   "cell_type": "markdown",
   "id": "a7b9632b",
   "metadata": {
    "papermill": {
     "duration": 0.014671,
     "end_time": "2025-04-05T06:22:06.929213",
     "exception": false,
     "start_time": "2025-04-05T06:22:06.914542",
     "status": "completed"
    },
    "tags": []
   },
   "source": [
    "### Limitations & Caveats\n",
    "* **Ego Network Bias**: The dataset is a partial snapshot of Facebook, centered on one user. Results may not generalize to the full network.\n",
    "* **Threshold Sensitivity**: Real-world influence may require higher thresholds or resistance to adoption."
   ]
  },
  {
   "cell_type": "markdown",
   "id": "9d56aa3c",
   "metadata": {
    "papermill": {
     "duration": 0.014816,
     "end_time": "2025-04-05T06:22:06.959044",
     "exception": false,
     "start_time": "2025-04-05T06:22:06.944228",
     "status": "completed"
    },
    "tags": []
   },
   "source": [
    "### Implications for Political Outreach\n",
    "* **Cost Efficiency**: Targeting 5% of nodes (17 seeds) achieved 92% coverage vs. 7% for random.\n",
    "* **Strategic Targeting**:\n",
    "    * Prioritize Node 53 (degree = 0.697) and other hubs for rapid local spread.\n",
    "    * Use user circles (e.g., \"Political Activists\") to refine community-specific messaging."
   ]
  },
  {
   "cell_type": "markdown",
   "id": "a5befb49",
   "metadata": {
    "papermill": {
     "duration": 0.014544,
     "end_time": "2025-04-05T06:22:06.988296",
     "exception": false,
     "start_time": "2025-04-05T06:22:06.973752",
     "status": "completed"
    },
    "tags": []
   },
   "source": [
    "## How the Results Answer the New Research Questions\n",
    "### 1. How do structural properties (density, clustering) differ between communities?\n",
    "* **Clustering**: Real network clustering (C_real = 0.51) is 3.5× higher than the null model (C_null = 0.15), confirming strong community structure.\n",
    "* **Path Length**: Real path length (L_real = 3.75) is 1.5× longer than the null model (L_null = 2.57), reflecting modularity.\n",
    "* **Density**: We detected 13 communities using the Louvain algorithm, with significant variation in density\n",
    "    * **High-Density Communities**:\n",
    "        * Community 6 (Density = 0.872) and Community 7 (Density = 1.0) represent tightly-knit groups (e.g., family or coworkers).\n",
    "        * These communities require fewer seeds for full activation due to high interconnectivity.\n",
    "    * **High-Density Communities**:\n",
    "        * Community 4 (Density = 0.154) and Community 5 (Density = 0.171) are sparse, likely aggregating acquaintances or distant friends.\n",
    "        * Influence spreads slower here, requiring bridge nodes to connect subgroups.\n",
    "\n",
    "### 2. Which non-ego nodes act as bridges or hubs?\n",
    "* **Hubs**: Identified high-degree nodes (e.g., Node 53, degree = 0.697).\n",
    "* **Bridges**: Noted sparse betweenness centrality (limited bridge nodes). Betweenness centrality analysis identified critical connectors:\n",
    "    * **Top Bridge Nodes**: 277, 175, 19, 23, 25.\n",
    "    * **Role**: These nodes link otherwise disconnected communities (e.g., Node 277 connects Communities 0 and 2).\n",
    "\n",
    "\n",
    "### 3. How does excluding the central ego node alter centrality rankings?\n",
    "*  **Implicitly**: By analyzing a network without the ego node, we inherently answered this.\n",
    "*  **Key Insight**: Centrality rankings are driven by organic friendships (e.g., Node 53 as a hub).\n",
    "*  The ego node is not included in the dataset, so our analysis inherently focuses on non-ego dynamics.\n",
    "\n",
    "### Synthesis of Findings\n",
    "* **Network Structure Drives Success**: The small-world properties (clustering = 0.508, path length = 3.75) enabled efficient cascades.\n",
    "* **Algorithmic vs. Human Labels**: While user-defined circles were misaligned with detected communities, structural targeting still worked because hubs transcend social labels.\n",
    "* **Practical Implication**: Political campaigns should prioritize **degree-central nodes** in algorithmic communities, even if they don’t align with explicit social groups."
   ]
  },
  {
   "cell_type": "markdown",
   "id": "36fa0202",
   "metadata": {
    "papermill": {
     "duration": 0.014633,
     "end_time": "2025-04-05T06:22:07.018050",
     "exception": false,
     "start_time": "2025-04-05T06:22:07.003417",
     "status": "completed"
    },
    "tags": []
   },
   "source": [
    "## How the Results Answer the Research Questions\n",
    "### 1. How do algorithmically detected communities align with user-defined circles, and which communities exhibit the highest potential for influence cascades?\n",
    "* **Alignment**: The **Adjusted Rand Index (ARI = 0.144)** revealed minimal overlap between Louvain communities and user-defined circles. Algorithmic communities capture structural patterns (e.g., dense clusters) but do not reflect explicit social roles like \"family\" or \"colleagues.\"\n",
    "* **Influence Potential**: Despite the mismatch, communities with **high-degree hubs** (e.g., Community 1, Node 346) drove cascades. Structural communities (not user-labeled ones) were critical for influence spread due to their **small-world properties** (high clustering, short paths).\n",
    "\n",
    "### 2. Which centrality measures best identify influential individuals for maximizing outreach?\n",
    "* **Degree Centrality Dominance**: Nodes like **346 (degree = 0.733)** and **67 (degree = 0.631)** emerged as super-spreaders. Degree centrality was the most effective metric, as hubs with many connections triggered rapid cascades.\n",
    "* **Betweenness & Eigenvector**: These metrics showed limited utility here. Betweenness bridges were rare (sparse distribution), and eigenvector centrality correlated with degree but added little incremental value.\n",
    "* **Key Insight**: In dense, small-world networks, **degree centrality** suffices for identifying influential nodes.\n",
    "\n",
    "### 3. What fraction of the network can be reached by targeting top-central individuals versus random targeting?\n",
    "*  **Targeted Seeding**: Activated **92.2% of nodes** (307/333), demonstrating the power of structural targeting.\n",
    "*  **Random Seeding**: Activated only **7.8% of nodes** (26/333), highlighting the inefficiency of untargeted approaches.\n",
    "*  **Why This Gap?**:\n",
    "    * The network’s **hub-and-spoke structure** allowed high-degree nodes to dominate spread.\n",
    "    * **Threshold model dynamics**: Low activation threshold (20%) and irreversible adoption amplified the advantage of targeting hubs.\n",
    "\n",
    "### Synthesis of Findings\n",
    "* **Network Structure Drives Success**: The small-world properties (clustering = 0.508, path length = 3.75) enabled efficient cascades.\n",
    "* **Algorithmic vs. Human Labels**: While user-defined circles were misaligned with detected communities, structural targeting still worked because hubs transcend social labels.\n",
    "* **Practical Implication**: Political campaigns should prioritize **degree-central nodes** in algorithmic communities, even if they don’t align with explicit social groups."
   ]
  },
  {
   "cell_type": "markdown",
   "id": "055a5f13",
   "metadata": {
    "papermill": {
     "duration": 0.014627,
     "end_time": "2025-04-05T06:22:07.047362",
     "exception": false,
     "start_time": "2025-04-05T06:22:07.032735",
     "status": "completed"
    },
    "tags": []
   },
   "source": [
    "# Adjustments based on the feedback\n",
    "\n",
    "Plan to address the professor's feedback and refine the projects\n",
    "\n",
    "Revised Approach\n",
    "Avoid Single Ego Network Dominance\n",
    "-Problem: The central ego node (user 0) is connected to all nodes in their network, skewing centrality metrics and community detection.\n",
    "Solution:\n",
    "- Exclude the ego node from all analyses (centrality, influence spread).\n",
    "- Focus on intra-community dynamics within the ego network, treating the ego as a connector rather than a participant.\n",
    "\n",
    "Adjust Research Questions\n",
    "- Original: Identifying influential individuals/groups for political outreach.\n",
    "Revised:\n",
    "- How do communities within an ego network differ in structural properties (density, clustering)?\n",
    "- Which non-ego individuals are most influential in information spread within communities?\n",
    "- How does the exclusion of the ego node affect influence dynamics?\n",
    "\n",
    "Dataset Adaptation\n",
    "- Option 1: Aggregate multiple ego networks (if overlaps exist).\n",
    "  Check if nodes (friends) overlap between different ego networks (e.g., 0.edges vs. 107.edges).\n",
    "    Merge networks to reduce dominance of any single ego.\n",
    "- Option 2: Compare multiple ego networks individually (e.g., analyze 3-5 networks separately).\n",
    "    Look for patterns in community structure and influence across egos.\n",
    "\n",
    "Methodology Updates\n",
    "- Centrality: Calculate metrics for non-ego nodes only.\n",
    "- Community Detection: Run Louvain on the subgraph excluding the ego.\n",
    "- Influence Simulation: Seed non-ego nodes in communities.\n",
    "\n",
    "Expected Outcomes\n",
    "- Communities: Reflect organic groupings among friends, not centered on the ego.\n",
    "- Influence: Highlight bridge nodes between communities (e.g., friends with cross-community ties).\n",
    "- Comparison: If using multiple egos, identify common structural patterns.\n",
    "\n",
    "Discussion Points\n",
    "- Limitations: Acknowledge incomplete friend-of-friend data and ego exclusion.\n",
    "- Practical Insight: Political campaigns should target bridge nodes in organic communities, not just hubs."
   ]
  },
  {
   "cell_type": "markdown",
   "id": "72e6bb4f",
   "metadata": {
    "papermill": {
     "duration": 0.014575,
     "end_time": "2025-04-05T06:22:07.076573",
     "exception": false,
     "start_time": "2025-04-05T06:22:07.061998",
     "status": "completed"
    },
    "tags": []
   },
   "source": [
    "### Sticking with the current dataset (single ego network):\n",
    "\n",
    "1. **Key Insight**: The dataset does not include the ego node (it only contains their friends). Our analysis already focuses on the friends’ network, which avoids the problem of ego node dominance.\n",
    "\n",
    "2. **Addressing Feedback**: Revise our report to clarify:\n",
    "    * “Our analysis focuses on the friendship network of the ego’s friends. Since the ego node is not included in the dataset, we avoid structural dominance by any single individual.”\n",
    "    * “The network represents friendships among users who are all connected to the same central individual (ego), but this individual is not part of the analyzed graph.”\n",
    "\n",
    "3. **Why Merging Networks Isn’t Necessary**\n",
    "    * No Overlaps: Friends of different egos (e.g., 0, 107, 348) are disjoint, making aggregation meaningless.\n",
    "    * Structural Bias: Even merged, networks would remain disconnected clusters centered on different egos.\n",
    "    * Time Constraints: Merging adds complexity without guaranteed benefits."
   ]
  }
 ],
 "metadata": {
  "kaggle": {
   "accelerator": "gpu",
   "dataSources": [
    {
     "datasetId": 7013397,
     "sourceId": 11228553,
     "sourceType": "datasetVersion"
    },
    {
     "datasetId": 7013403,
     "sourceId": 11228560,
     "sourceType": "datasetVersion"
    }
   ],
   "dockerImageVersionId": 30918,
   "isGpuEnabled": true,
   "isInternetEnabled": true,
   "language": "python",
   "sourceType": "notebook"
  },
  "kernelspec": {
   "display_name": "Python 3",
   "language": "python",
   "name": "python3"
  },
  "language_info": {
   "codemirror_mode": {
    "name": "ipython",
    "version": 3
   },
   "file_extension": ".py",
   "mimetype": "text/x-python",
   "name": "python",
   "nbconvert_exporter": "python",
   "pygments_lexer": "ipython3",
   "version": "3.13.1"
  },
  "papermill": {
   "default_parameters": {},
   "duration": 22.672179,
   "end_time": "2025-04-05T06:22:07.609709",
   "environment_variables": {},
   "exception": null,
   "input_path": "__notebook__.ipynb",
   "output_path": "__notebook__.ipynb",
   "parameters": {},
   "start_time": "2025-04-05T06:21:44.937530",
   "version": "2.6.0"
  }
 },
 "nbformat": 4,
 "nbformat_minor": 5
}
