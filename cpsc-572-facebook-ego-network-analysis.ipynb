{
 "cells": [
  {
   "cell_type": "markdown",
   "id": "982131da",
   "metadata": {
    "papermill": {
     "duration": 0.00434,
     "end_time": "2025-04-02T15:30:06.906491",
     "exception": false,
     "start_time": "2025-04-02T15:30:06.902151",
     "status": "completed"
    },
    "tags": []
   },
   "source": [
    "Files:\n",
    "\n",
    "nodeId.edges : The edges in the ego network for the node 'nodeId'. Edges are undirected for facebook, and directed (a follows b) for twitter and gplus. The 'ego' node does not appear, but it is assumed that they follow every node id that appears in this file.\n",
    "\n",
    "nodeId.circles : The set of circles for the ego node. Each line contains one circle, consisting of a series of node ids. The first entry in each line is the name of the circle.\n",
    "\n",
    "nodeId.feat : The features for each of the nodes that appears in the edge file.\n",
    "\n",
    "nodeId.egofeat : The features for the ego user.\n",
    "\n",
    "nodeId.featnames : The names of each of the feature dimensions. Features are '1' if the user has this property in their profile, and '0' otherwise. This file has been anonymized for facebook users, since the names of the features would reveal private data."
   ]
  },
  {
   "cell_type": "markdown",
   "id": "28b2d212",
   "metadata": {
    "papermill": {
     "duration": 0.003426,
     "end_time": "2025-04-02T15:30:06.914065",
     "exception": false,
     "start_time": "2025-04-02T15:30:06.910639",
     "status": "completed"
    },
    "tags": []
   },
   "source": [
    "### Import Libraries  "
   ]
  },
  {
   "cell_type": "code",
   "execution_count": 1,
   "id": "89322bd1",
   "metadata": {
    "execution": {
     "iopub.execute_input": "2025-04-02T15:30:06.921489Z",
     "iopub.status.busy": "2025-04-02T15:30:06.921210Z",
     "iopub.status.idle": "2025-04-02T15:30:09.138152Z",
     "shell.execute_reply": "2025-04-02T15:30:09.137572Z"
    },
    "papermill": {
     "duration": 2.222256,
     "end_time": "2025-04-02T15:30:09.139762",
     "exception": false,
     "start_time": "2025-04-02T15:30:06.917506",
     "status": "completed"
    },
    "tags": []
   },
   "outputs": [],
   "source": [
    "import networkx as nx\n",
    "import pandas as pd\n",
    "import numpy as np\n",
    "import matplotlib.pyplot as plt\n",
    "from scipy import stats\n",
    "import os"
   ]
  },
  {
   "cell_type": "markdown",
   "id": "2c4d1b06",
   "metadata": {
    "papermill": {
     "duration": 0.003087,
     "end_time": "2025-04-02T15:30:09.146249",
     "exception": false,
     "start_time": "2025-04-02T15:30:09.143162",
     "status": "completed"
    },
    "tags": []
   },
   "source": [
    "### Load Data"
   ]
  },
  {
   "cell_type": "code",
   "execution_count": 2,
   "id": "e5cc7a11",
   "metadata": {
    "execution": {
     "iopub.execute_input": "2025-04-02T15:30:09.153209Z",
     "iopub.status.busy": "2025-04-02T15:30:09.152743Z",
     "iopub.status.idle": "2025-04-02T15:30:09.156247Z",
     "shell.execute_reply": "2025-04-02T15:30:09.155467Z"
    },
    "papermill": {
     "duration": 0.008295,
     "end_time": "2025-04-02T15:30:09.157553",
     "exception": false,
     "start_time": "2025-04-02T15:30:09.149258",
     "status": "completed"
    },
    "tags": []
   },
   "outputs": [],
   "source": [
    "BASE_PATH = \"/kaggle/input/facebook/\"\n",
    "EGO_NODE = \"0\"  # Focus on the first ego network"
   ]
  },
  {
   "cell_type": "markdown",
   "id": "777a2467",
   "metadata": {
    "papermill": {
     "duration": 0.002782,
     "end_time": "2025-04-02T15:30:09.163363",
     "exception": false,
     "start_time": "2025-04-02T15:30:09.160581",
     "status": "completed"
    },
    "tags": []
   },
   "source": [
    "### Load edges (friendships)"
   ]
  },
  {
   "cell_type": "code",
   "execution_count": 3,
   "id": "e3bbb296",
   "metadata": {
    "execution": {
     "iopub.execute_input": "2025-04-02T15:30:09.170354Z",
     "iopub.status.busy": "2025-04-02T15:30:09.170091Z",
     "iopub.status.idle": "2025-04-02T15:30:09.195312Z",
     "shell.execute_reply": "2025-04-02T15:30:09.194493Z"
    },
    "papermill": {
     "duration": 0.030117,
     "end_time": "2025-04-02T15:30:09.196710",
     "exception": false,
     "start_time": "2025-04-02T15:30:09.166593",
     "status": "completed"
    },
    "tags": []
   },
   "outputs": [
    {
     "name": "stdout",
     "output_type": "stream",
     "text": [
      "Loaded network with 333 nodes and 2519 edges\n"
     ]
    }
   ],
   "source": [
    "G = nx.read_edgelist(f\"{BASE_PATH}{EGO_NODE}.edges\", nodetype=int)\n",
    "print(f\"Loaded network with {G.number_of_nodes()} nodes and {G.number_of_edges()} edges\")"
   ]
  },
  {
   "cell_type": "markdown",
   "id": "e0816acc",
   "metadata": {
    "papermill": {
     "duration": 0.002882,
     "end_time": "2025-04-02T15:30:09.202857",
     "exception": false,
     "start_time": "2025-04-02T15:30:09.199975",
     "status": "completed"
    },
    "tags": []
   },
   "source": [
    "### Load circles (user-defined groups)"
   ]
  },
  {
   "cell_type": "code",
   "execution_count": 4,
   "id": "6c3ec6f7",
   "metadata": {
    "execution": {
     "iopub.execute_input": "2025-04-02T15:30:09.209732Z",
     "iopub.status.busy": "2025-04-02T15:30:09.209505Z",
     "iopub.status.idle": "2025-04-02T15:30:09.219450Z",
     "shell.execute_reply": "2025-04-02T15:30:09.218587Z"
    },
    "papermill": {
     "duration": 0.014666,
     "end_time": "2025-04-02T15:30:09.220690",
     "exception": false,
     "start_time": "2025-04-02T15:30:09.206024",
     "status": "completed"
    },
    "tags": []
   },
   "outputs": [
    {
     "name": "stdout",
     "output_type": "stream",
     "text": [
      "Found 24 user-defined circles\n"
     ]
    }
   ],
   "source": [
    "circles = {}\n",
    "with open(f\"{BASE_PATH}{EGO_NODE}.circles\", \"r\") as f:\n",
    "    for line in f:\n",
    "        parts = line.strip().split()\n",
    "        circle_name = parts[0]\n",
    "        members = list(map(int, parts[1:]))  # Convert node IDs to integers\n",
    "        circles[circle_name] = members\n",
    "print(f\"Found {len(circles)} user-defined circles\")\n"
   ]
  },
  {
   "cell_type": "markdown",
   "id": "5b0214b2",
   "metadata": {
    "papermill": {
     "duration": 0.003112,
     "end_time": "2025-04-02T15:30:09.226885",
     "exception": false,
     "start_time": "2025-04-02T15:30:09.223773",
     "status": "completed"
    },
    "tags": []
   },
   "source": [
    "### Preprocess Network"
   ]
  },
  {
   "cell_type": "code",
   "execution_count": 5,
   "id": "027cb06f",
   "metadata": {
    "execution": {
     "iopub.execute_input": "2025-04-02T15:30:09.233845Z",
     "iopub.status.busy": "2025-04-02T15:30:09.233642Z",
     "iopub.status.idle": "2025-04-02T15:30:09.238089Z",
     "shell.execute_reply": "2025-04-02T15:30:09.237475Z"
    },
    "papermill": {
     "duration": 0.00927,
     "end_time": "2025-04-02T15:30:09.239325",
     "exception": false,
     "start_time": "2025-04-02T15:30:09.230055",
     "status": "completed"
    },
    "tags": []
   },
   "outputs": [
    {
     "name": "stdout",
     "output_type": "stream",
     "text": [
      "Removed 0 isolated nodes\n"
     ]
    }
   ],
   "source": [
    "# Remove isolated nodes (if any)\n",
    "initial_nodes = G.number_of_nodes()\n",
    "G.remove_nodes_from(list(nx.isolates(G)))\n",
    "print(f\"Removed {initial_nodes - G.number_of_nodes()} isolated nodes\")"
   ]
  },
  {
   "cell_type": "markdown",
   "id": "b300bc13",
   "metadata": {
    "papermill": {
     "duration": 0.003129,
     "end_time": "2025-04-02T15:30:09.245555",
     "exception": false,
     "start_time": "2025-04-02T15:30:09.242426",
     "status": "completed"
    },
    "tags": []
   },
   "source": [
    "### Basic Statistics"
   ]
  },
  {
   "cell_type": "code",
   "execution_count": 6,
   "id": "1a66b317",
   "metadata": {
    "execution": {
     "iopub.execute_input": "2025-04-02T15:30:09.252501Z",
     "iopub.status.busy": "2025-04-02T15:30:09.252297Z",
     "iopub.status.idle": "2025-04-02T15:30:10.210979Z",
     "shell.execute_reply": "2025-04-02T15:30:10.209732Z"
    },
    "papermill": {
     "duration": 0.963837,
     "end_time": "2025-04-02T15:30:10.212604",
     "exception": false,
     "start_time": "2025-04-02T15:30:09.248767",
     "status": "completed"
    },
    "tags": []
   },
   "outputs": [
    {
     "name": "stdout",
     "output_type": "stream",
     "text": [
      "\n",
      "Basic Statistics:\n",
      "- Nodes: 333, Edges: 2519\n",
      "- Avg. degree: 15.13\n",
      "- Clustering coefficient: 0.508\n",
      "- Avg. path length (LCC): 3.75\n"
     ]
    }
   ],
   "source": [
    "# Network size\n",
    "n_nodes = G.number_of_nodes()\n",
    "n_edges = G.number_of_edges()\n",
    "\n",
    "# Degree distribution\n",
    "degrees = [d for _, d in G.degree()]\n",
    "avg_degree = np.mean(degrees)\n",
    "\n",
    "# Clustering coefficient\n",
    "clustering = nx.average_clustering(G)\n",
    "\n",
    "# Average shortest path length (using largest connected component)\n",
    "lcc = max(nx.connected_components(G), key=len)\n",
    "subgraph = G.subgraph(lcc)\n",
    "avg_path_length = nx.average_shortest_path_length(subgraph)\n",
    "\n",
    "print(\"\\nBasic Statistics:\")\n",
    "print(f\"- Nodes: {n_nodes}, Edges: {n_edges}\")\n",
    "print(f\"- Avg. degree: {avg_degree:.2f}\")\n",
    "print(f\"- Clustering coefficient: {clustering:.3f}\")\n",
    "print(f\"- Avg. path length (LCC): {avg_path_length:.2f}\")"
   ]
  },
  {
   "cell_type": "markdown",
   "id": "51716ebd",
   "metadata": {
    "papermill": {
     "duration": 0.003228,
     "end_time": "2025-04-02T15:30:10.220875",
     "exception": false,
     "start_time": "2025-04-02T15:30:10.217647",
     "status": "completed"
    },
    "tags": []
   },
   "source": [
    "### Null Model (Erdős-Rényi)"
   ]
  },
  {
   "cell_type": "code",
   "execution_count": 7,
   "id": "8f4da0eb",
   "metadata": {
    "execution": {
     "iopub.execute_input": "2025-04-02T15:30:10.228805Z",
     "iopub.status.busy": "2025-04-02T15:30:10.228525Z",
     "iopub.status.idle": "2025-04-02T15:30:55.461737Z",
     "shell.execute_reply": "2025-04-02T15:30:55.460770Z"
    },
    "papermill": {
     "duration": 45.238758,
     "end_time": "2025-04-02T15:30:55.463357",
     "exception": false,
     "start_time": "2025-04-02T15:30:10.224599",
     "status": "completed"
    },
    "tags": []
   },
   "outputs": [],
   "source": [
    "n_simulations = 100  # Reduced from 1000 for speed\n",
    "clustering_er = []\n",
    "path_length_er = []\n",
    "\n",
    "# Generate ER networks with same n_nodes and n_edges\n",
    "p = n_edges / (n_nodes * (n_nodes - 1) / 2)  # Connection probability\n",
    "\n",
    "for _ in range(n_simulations):\n",
    "    G_er = nx.erdos_renyi_graph(n_nodes, p)\n",
    "    \n",
    "    # Calculate metrics\n",
    "    clustering_er.append(nx.average_clustering(G_er))\n",
    "    \n",
    "    # Handle disconnected ER graphs\n",
    "    lcc_er = max(nx.connected_components(G_er), key=len)\n",
    "    if len(lcc_er) > 1:\n",
    "        subgraph_er = G_er.subgraph(lcc_er)\n",
    "        path_length_er.append(nx.average_shortest_path_length(subgraph_er))"
   ]
  },
  {
   "cell_type": "markdown",
   "id": "438d931f",
   "metadata": {
    "papermill": {
     "duration": 0.003549,
     "end_time": "2025-04-02T15:30:55.470615",
     "exception": false,
     "start_time": "2025-04-02T15:30:55.467066",
     "status": "completed"
    },
    "tags": []
   },
   "source": [
    "### Compare Real vs. Null"
   ]
  },
  {
   "cell_type": "code",
   "execution_count": 8,
   "id": "e72d3e39",
   "metadata": {
    "execution": {
     "iopub.execute_input": "2025-04-02T15:30:55.478425Z",
     "iopub.status.busy": "2025-04-02T15:30:55.478072Z",
     "iopub.status.idle": "2025-04-02T15:30:55.485249Z",
     "shell.execute_reply": "2025-04-02T15:30:55.484352Z"
    },
    "papermill": {
     "duration": 0.01267,
     "end_time": "2025-04-02T15:30:55.486532",
     "exception": false,
     "start_time": "2025-04-02T15:30:55.473862",
     "status": "completed"
    },
    "tags": []
   },
   "outputs": [
    {
     "name": "stdout",
     "output_type": "stream",
     "text": [
      "\n",
      "Null Model Comparison:\n",
      "- Clustering z-score: 204.86\n",
      "- Path length z-score: 94.84\n"
     ]
    }
   ],
   "source": [
    "# Clustering comparison\n",
    "z_clustering = (clustering - np.mean(clustering_er)) / np.std(clustering_er)\n",
    "\n",
    "# Path length comparison\n",
    "z_path = (avg_path_length - np.mean(path_length_er)) / np.std(path_length_er)\n",
    "\n",
    "print(\"\\nNull Model Comparison:\")\n",
    "print(f\"- Clustering z-score: {z_clustering:.2f}\")\n",
    "print(f\"- Path length z-score: {z_path:.2f}\")"
   ]
  },
  {
   "cell_type": "markdown",
   "id": "f65a7429",
   "metadata": {
    "papermill": {
     "duration": 0.003366,
     "end_time": "2025-04-02T15:30:55.493566",
     "exception": false,
     "start_time": "2025-04-02T15:30:55.490200",
     "status": "completed"
    },
    "tags": []
   },
   "source": [
    "### Visualizations"
   ]
  },
  {
   "cell_type": "code",
   "execution_count": 9,
   "id": "3deaaacc",
   "metadata": {
    "execution": {
     "iopub.execute_input": "2025-04-02T15:30:55.502943Z",
     "iopub.status.busy": "2025-04-02T15:30:55.502679Z",
     "iopub.status.idle": "2025-04-02T15:30:56.757376Z",
     "shell.execute_reply": "2025-04-02T15:30:56.756386Z"
    },
    "papermill": {
     "duration": 1.261591,
     "end_time": "2025-04-02T15:30:56.758863",
     "exception": false,
     "start_time": "2025-04-02T15:30:55.497272",
     "status": "completed"
    },
    "tags": []
   },
   "outputs": [
    {
     "data": {
      "image/png": "[encoded data removed]",
      "text/plain": [
       "<Figure size 1500x400 with 3 Axes>"
      ]
     },
     "metadata": {},
     "output_type": "display_data"
    }
   ],
   "source": [
    "plt.figure(figsize=(15, 4))\n",
    "\n",
    "# Degree distribution\n",
    "plt.subplot(131)\n",
    "plt.hist(degrees, bins=30, edgecolor=\"k\", alpha=0.7)\n",
    "plt.title(\"Degree Distribution\")\n",
    "plt.xlabel(\"Degree\")\n",
    "plt.ylabel(\"Count\")\n",
    "\n",
    "# Clustering comparison\n",
    "plt.subplot(132)\n",
    "plt.hist(clustering_er, bins=20, edgecolor=\"k\", alpha=0.7, label=\"ER Model\")\n",
    "plt.axvline(clustering, color=\"r\", linestyle=\"--\", label=\"Real Network\")\n",
    "plt.title(\"Clustering Coefficient\")\n",
    "plt.legend()\n",
    "\n",
    "# Path length comparison\n",
    "plt.subplot(133)\n",
    "plt.hist(path_length_er, bins=20, edgecolor=\"k\", alpha=0.7, label=\"ER Model\")\n",
    "plt.axvline(avg_path_length, color=\"r\", linestyle=\"--\", label=\"Real Network\")\n",
    "plt.title(\"Average Path Length\")\n",
    "plt.legend()\n",
    "\n",
    "plt.tight_layout()\n",
    "plt.savefig(\"/kaggle/working/day1_results.png\")  # Save to Kaggle output\n",
    "plt.show()"
   ]
  }
 ],
 "metadata": {
  "kaggle": {
   "accelerator": "none",
   "dataSources": [
    {
     "datasetId": 7013397,
     "sourceId": 11228553,
     "sourceType": "datasetVersion"
    },
    {
     "datasetId": 7013403,
     "sourceId": 11228560,
     "sourceType": "datasetVersion"
    }
   ],
   "dockerImageVersionId": 30918,
   "isGpuEnabled": false,
   "isInternetEnabled": true,
   "language": "python",
   "sourceType": "notebook"
  },
  "kernelspec": {
   "display_name": "Python 3",
   "language": "python",
   "name": "python3"
  },
  "language_info": {
   "codemirror_mode": {
    "name": "ipython",
    "version": 3
   },
   "file_extension": ".py",
   "mimetype": "text/x-python",
   "name": "python",
   "nbconvert_exporter": "python",
   "pygments_lexer": "ipython3",
   "version": "3.10.12"
  },
  "papermill": {
   "default_parameters": {},
   "duration": 53.014835,
   "end_time": "2025-04-02T15:30:57.280613",
   "environment_variables": {},
   "exception": null,
   "input_path": "__notebook__.ipynb",
   "output_path": "__notebook__.ipynb",
   "parameters": {},
   "start_time": "2025-04-02T15:30:04.265778",
   "version": "2.6.0"
  }
 },
 "nbformat": 4,
 "nbformat_minor": 5
}
