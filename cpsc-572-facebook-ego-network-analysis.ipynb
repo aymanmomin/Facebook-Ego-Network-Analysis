{
 "cells": [
  {
   "cell_type": "markdown",
   "id": "8a1773c8",
   "metadata": {
    "papermill": {
     "duration": 0.007234,
     "end_time": "2025-04-03T18:37:52.122193",
     "exception": false,
     "start_time": "2025-04-03T18:37:52.114959",
     "status": "completed"
    },
    "tags": []
   },
   "source": [
    "Files:\n",
    "\n",
    "nodeId.edges : The edges in the ego network for the node 'nodeId'. Edges are undirected for facebook, and directed (a follows b) for twitter and gplus. The 'ego' node does not appear, but it is assumed that they follow every node id that appears in this file.\n",
    "\n",
    "nodeId.circles : The set of circles for the ego node. Each line contains one circle, consisting of a series of node ids. The first entry in each line is the name of the circle.\n",
    "\n",
    "nodeId.feat : The features for each of the nodes that appears in the edge file.\n",
    "\n",
    "nodeId.egofeat : The features for the ego user.\n",
    "\n",
    "nodeId.featnames : The names of each of the feature dimensions. Features are '1' if the user has this property in their profile, and '0' otherwise. This file has been anonymized for facebook users, since the names of the features would reveal private data."
   ]
  },
  {
   "cell_type": "markdown",
   "id": "05b7df0b",
   "metadata": {
    "papermill": {
     "duration": 0.006315,
     "end_time": "2025-04-03T18:37:52.135326",
     "exception": false,
     "start_time": "2025-04-03T18:37:52.129011",
     "status": "completed"
    },
    "tags": []
   },
   "source": [
    "#### Installitions"
   ]
  },
  {
   "cell_type": "code",
   "execution_count": 1,
   "id": "86773046",
   "metadata": {
    "execution": {
     "iopub.execute_input": "2025-04-03T18:37:52.149442Z",
     "iopub.status.busy": "2025-04-03T18:37:52.149110Z",
     "iopub.status.idle": "2025-04-03T18:37:56.465233Z",
     "shell.execute_reply": "2025-04-03T18:37:56.464130Z"
    },
    "papermill": {
     "duration": 4.325746,
     "end_time": "2025-04-03T18:37:56.467391",
     "exception": false,
     "start_time": "2025-04-03T18:37:52.141645",
     "status": "completed"
    },
    "tags": []
   },
   "outputs": [],
   "source": [
    "!pip install python-louvain > /dev/null"
   ]
  },
  {
   "cell_type": "markdown",
   "id": "41995958",
   "metadata": {
    "papermill": {
     "duration": 0.00725,
     "end_time": "2025-04-03T18:37:56.481608",
     "exception": false,
     "start_time": "2025-04-03T18:37:56.474358",
     "status": "completed"
    },
    "tags": []
   },
   "source": [
    "### Import Libraries  "
   ]
  },
  {
   "cell_type": "code",
   "execution_count": 2,
   "id": "f2ab9939",
   "metadata": {
    "execution": {
     "iopub.execute_input": "2025-04-03T18:37:56.500713Z",
     "iopub.status.busy": "2025-04-03T18:37:56.500285Z",
     "iopub.status.idle": "2025-04-03T18:37:59.067573Z",
     "shell.execute_reply": "2025-04-03T18:37:59.066643Z"
    },
    "papermill": {
     "duration": 2.578831,
     "end_time": "2025-04-03T18:37:59.069216",
     "exception": false,
     "start_time": "2025-04-03T18:37:56.490385",
     "status": "completed"
    },
    "tags": []
   },
   "outputs": [],
   "source": [
    "import networkx as nx\n",
    "import pandas as pd\n",
    "import numpy as np\n",
    "import matplotlib.pyplot as plt\n",
    "from scipy import stats\n",
    "from sklearn.metrics import adjusted_rand_score\n",
    "import community as community_louvain  # pip install python-louvain\n",
    "import random\n",
    "from tqdm import tqdm  # For progress bars\n",
    "import os"
   ]
  },
  {
   "cell_type": "markdown",
   "id": "84ed07f8",
   "metadata": {
    "papermill": {
     "duration": 0.006183,
     "end_time": "2025-04-03T18:37:59.082484",
     "exception": false,
     "start_time": "2025-04-03T18:37:59.076301",
     "status": "completed"
    },
    "tags": []
   },
   "source": [
    "### Load Data"
   ]
  },
  {
   "cell_type": "code",
   "execution_count": 3,
   "id": "c39a28d1",
   "metadata": {
    "execution": {
     "iopub.execute_input": "2025-04-03T18:37:59.096501Z",
     "iopub.status.busy": "2025-04-03T18:37:59.096089Z",
     "iopub.status.idle": "2025-04-03T18:37:59.099467Z",
     "shell.execute_reply": "2025-04-03T18:37:59.098807Z"
    },
    "papermill": {
     "duration": 0.011715,
     "end_time": "2025-04-03T18:37:59.100666",
     "exception": false,
     "start_time": "2025-04-03T18:37:59.088951",
     "status": "completed"
    },
    "tags": []
   },
   "outputs": [],
   "source": [
    "BASE_PATH = \"/kaggle/input/facebook/\"\n",
    "EGO_NODE = \"0\"  # Focus on the first ego network"
   ]
  },
  {
   "cell_type": "markdown",
   "id": "b92036b1",
   "metadata": {
    "papermill": {
     "duration": 0.006054,
     "end_time": "2025-04-03T18:37:59.113134",
     "exception": false,
     "start_time": "2025-04-03T18:37:59.107080",
     "status": "completed"
    },
    "tags": []
   },
   "source": [
    "### Load edges (friendships)"
   ]
  },
  {
   "cell_type": "code",
   "execution_count": 4,
   "id": "34d20c34",
   "metadata": {
    "execution": {
     "iopub.execute_input": "2025-04-03T18:37:59.126696Z",
     "iopub.status.busy": "2025-04-03T18:37:59.126480Z",
     "iopub.status.idle": "2025-04-03T18:37:59.149230Z",
     "shell.execute_reply": "2025-04-03T18:37:59.148519Z"
    },
    "papermill": {
     "duration": 0.030982,
     "end_time": "2025-04-03T18:37:59.150415",
     "exception": false,
     "start_time": "2025-04-03T18:37:59.119433",
     "status": "completed"
    },
    "tags": []
   },
   "outputs": [
    {
     "name": "stdout",
     "output_type": "stream",
     "text": [
      "Loaded network with 333 nodes and 2519 edges\n"
     ]
    }
   ],
   "source": [
    "G = nx.read_edgelist(f\"{BASE_PATH}{EGO_NODE}.edges\", nodetype=int)\n",
    "print(f\"Loaded network with {G.number_of_nodes()} nodes and {G.number_of_edges()} edges\")"
   ]
  },
  {
   "cell_type": "markdown",
   "id": "2a465a97",
   "metadata": {
    "papermill": {
     "duration": 0.006375,
     "end_time": "2025-04-03T18:37:59.163524",
     "exception": false,
     "start_time": "2025-04-03T18:37:59.157149",
     "status": "completed"
    },
    "tags": []
   },
   "source": [
    "### Load circles (user-defined groups)"
   ]
  },
  {
   "cell_type": "code",
   "execution_count": 5,
   "id": "08f290fd",
   "metadata": {
    "execution": {
     "iopub.execute_input": "2025-04-03T18:37:59.177268Z",
     "iopub.status.busy": "2025-04-03T18:37:59.177038Z",
     "iopub.status.idle": "2025-04-03T18:37:59.189647Z",
     "shell.execute_reply": "2025-04-03T18:37:59.188850Z"
    },
    "papermill": {
     "duration": 0.021029,
     "end_time": "2025-04-03T18:37:59.191074",
     "exception": false,
     "start_time": "2025-04-03T18:37:59.170045",
     "status": "completed"
    },
    "tags": []
   },
   "outputs": [
    {
     "name": "stdout",
     "output_type": "stream",
     "text": [
      "Found 24 user-defined circles\n"
     ]
    }
   ],
   "source": [
    "circles = {}\n",
    "with open(f\"{BASE_PATH}{EGO_NODE}.circles\", \"r\") as f:\n",
    "    for line in f:\n",
    "        parts = line.strip().split()\n",
    "        circle_name = parts[0]\n",
    "        members = list(map(int, parts[1:]))  # Convert node IDs to integers\n",
    "        circles[circle_name] = members\n",
    "print(f\"Found {len(circles)} user-defined circles\")\n"
   ]
  },
  {
   "cell_type": "markdown",
   "id": "7be8cfae",
   "metadata": {
    "papermill": {
     "duration": 0.006112,
     "end_time": "2025-04-03T18:37:59.203723",
     "exception": false,
     "start_time": "2025-04-03T18:37:59.197611",
     "status": "completed"
    },
    "tags": []
   },
   "source": [
    "### Preprocess Network"
   ]
  },
  {
   "cell_type": "code",
   "execution_count": 6,
   "id": "22b4726c",
   "metadata": {
    "execution": {
     "iopub.execute_input": "2025-04-03T18:37:59.218934Z",
     "iopub.status.busy": "2025-04-03T18:37:59.218657Z",
     "iopub.status.idle": "2025-04-03T18:37:59.223177Z",
     "shell.execute_reply": "2025-04-03T18:37:59.222242Z"
    },
    "papermill": {
     "duration": 0.01292,
     "end_time": "2025-04-03T18:37:59.224434",
     "exception": false,
     "start_time": "2025-04-03T18:37:59.211514",
     "status": "completed"
    },
    "tags": []
   },
   "outputs": [
    {
     "name": "stdout",
     "output_type": "stream",
     "text": [
      "Removed 0 isolated nodes\n"
     ]
    }
   ],
   "source": [
    "# Remove isolated nodes (if any)\n",
    "initial_nodes = G.number_of_nodes()\n",
    "G.remove_nodes_from(list(nx.isolates(G)))\n",
    "print(f\"Removed {initial_nodes - G.number_of_nodes()} isolated nodes\")"
   ]
  },
  {
   "cell_type": "markdown",
   "id": "72185e67",
   "metadata": {
    "papermill": {
     "duration": 0.006226,
     "end_time": "2025-04-03T18:37:59.237085",
     "exception": false,
     "start_time": "2025-04-03T18:37:59.230859",
     "status": "completed"
    },
    "tags": []
   },
   "source": [
    "### Basic Statistics"
   ]
  },
  {
   "cell_type": "code",
   "execution_count": 7,
   "id": "fe94943c",
   "metadata": {
    "execution": {
     "iopub.execute_input": "2025-04-03T18:37:59.251062Z",
     "iopub.status.busy": "2025-04-03T18:37:59.250807Z",
     "iopub.status.idle": "2025-04-03T18:38:00.221932Z",
     "shell.execute_reply": "2025-04-03T18:38:00.221017Z"
    },
    "papermill": {
     "duration": 0.979939,
     "end_time": "2025-04-03T18:38:00.223390",
     "exception": false,
     "start_time": "2025-04-03T18:37:59.243451",
     "status": "completed"
    },
    "tags": []
   },
   "outputs": [
    {
     "name": "stdout",
     "output_type": "stream",
     "text": [
      "\n",
      "Basic Statistics:\n",
      "- Nodes: 333, Edges: 2519\n",
      "- Avg. degree: 15.13\n",
      "- Clustering coefficient: 0.508\n",
      "- Avg. path length (LCC): 3.75\n"
     ]
    }
   ],
   "source": [
    "# Network size\n",
    "n_nodes = G.number_of_nodes()\n",
    "n_edges = G.number_of_edges()\n",
    "\n",
    "# Degree distribution\n",
    "degrees = [d for _, d in G.degree()]\n",
    "avg_degree = np.mean(degrees)\n",
    "\n",
    "# Clustering coefficient\n",
    "clustering = nx.average_clustering(G)\n",
    "\n",
    "# Average shortest path length (using largest connected component)\n",
    "lcc = max(nx.connected_components(G), key=len)\n",
    "subgraph = G.subgraph(lcc)\n",
    "avg_path_length = nx.average_shortest_path_length(subgraph)\n",
    "\n",
    "print(\"\\nBasic Statistics:\")\n",
    "print(f\"- Nodes: {n_nodes}, Edges: {n_edges}\")\n",
    "print(f\"- Avg. degree: {avg_degree:.2f}\")\n",
    "print(f\"- Clustering coefficient: {clustering:.3f}\")\n",
    "print(f\"- Avg. path length (LCC): {avg_path_length:.2f}\")"
   ]
  },
  {
   "cell_type": "markdown",
   "id": "fa272d20",
   "metadata": {
    "papermill": {
     "duration": 0.006731,
     "end_time": "2025-04-03T18:38:00.237332",
     "exception": false,
     "start_time": "2025-04-03T18:38:00.230601",
     "status": "completed"
    },
    "tags": []
   },
   "source": [
    "**Key Observations**\n",
    "* **Network Size**: 333 nodes (users), 2519 edges (friendships).\n",
    "* **Average Degree**: 15.13\n",
    "    * Each user has ~15 friends on average.\n",
    "    * **Implication**: This is a dense social network (typical for ego networks).\n",
    "* **Clustering Coefficient**: 0.508\n",
    "    * **Interpretation**: High clustering (close to 0.5) indicates strong community structure.\n",
    "    * **Context**: Social networks often have high clustering due to triadic closure (friends of friends tend to become friends).\n",
    "* **Average Path Length (LCC)**: 3.75\n",
    "    * **Meaning**: Two random users in the largest connected component are connected by ~4 steps (small-world property)."
   ]
  },
  {
   "cell_type": "markdown",
   "id": "e2752992",
   "metadata": {
    "papermill": {
     "duration": 0.006267,
     "end_time": "2025-04-03T18:38:00.250382",
     "exception": false,
     "start_time": "2025-04-03T18:38:00.244115",
     "status": "completed"
    },
    "tags": []
   },
   "source": [
    "### Null Model (Erdős-Rényi)"
   ]
  },
  {
   "cell_type": "code",
   "execution_count": 8,
   "id": "b546fd3e",
   "metadata": {
    "execution": {
     "iopub.execute_input": "2025-04-03T18:38:00.264609Z",
     "iopub.status.busy": "2025-04-03T18:38:00.264348Z",
     "iopub.status.idle": "2025-04-03T18:38:44.367192Z",
     "shell.execute_reply": "2025-04-03T18:38:44.366459Z"
    },
    "papermill": {
     "duration": 44.111486,
     "end_time": "2025-04-03T18:38:44.368862",
     "exception": false,
     "start_time": "2025-04-03T18:38:00.257376",
     "status": "completed"
    },
    "tags": []
   },
   "outputs": [],
   "source": [
    "n_simulations = 100  # Reduced from 1000 for speed\n",
    "clustering_er = []\n",
    "path_length_er = []\n",
    "\n",
    "# Generate ER networks with same n_nodes and n_edges\n",
    "p = n_edges / (n_nodes * (n_nodes - 1) / 2)  # Connection probability\n",
    "\n",
    "for _ in range(n_simulations):\n",
    "    G_er = nx.erdos_renyi_graph(n_nodes, p)\n",
    "    \n",
    "    # Calculate metrics\n",
    "    clustering_er.append(nx.average_clustering(G_er))\n",
    "    \n",
    "    # Handle disconnected ER graphs\n",
    "    lcc_er = max(nx.connected_components(G_er), key=len)\n",
    "    if len(lcc_er) > 1:\n",
    "        subgraph_er = G_er.subgraph(lcc_er)\n",
    "        path_length_er.append(nx.average_shortest_path_length(subgraph_er))"
   ]
  },
  {
   "cell_type": "markdown",
   "id": "7068c84b",
   "metadata": {
    "papermill": {
     "duration": 0.006231,
     "end_time": "2025-04-03T18:38:44.382218",
     "exception": false,
     "start_time": "2025-04-03T18:38:44.375987",
     "status": "completed"
    },
    "tags": []
   },
   "source": [
    "### Compare Real vs. Null"
   ]
  },
  {
   "cell_type": "code",
   "execution_count": 9,
   "id": "0918b45c",
   "metadata": {
    "execution": {
     "iopub.execute_input": "2025-04-03T18:38:44.395577Z",
     "iopub.status.busy": "2025-04-03T18:38:44.395344Z",
     "iopub.status.idle": "2025-04-03T18:38:44.401938Z",
     "shell.execute_reply": "2025-04-03T18:38:44.401164Z"
    },
    "papermill": {
     "duration": 0.014565,
     "end_time": "2025-04-03T18:38:44.403112",
     "exception": false,
     "start_time": "2025-04-03T18:38:44.388547",
     "status": "completed"
    },
    "tags": []
   },
   "outputs": [
    {
     "name": "stdout",
     "output_type": "stream",
     "text": [
      "\n",
      "Null Model Comparison:\n",
      "- Clustering z-score: 234.14\n",
      "- Path length z-score: 95.52\n"
     ]
    }
   ],
   "source": [
    "# Clustering comparison\n",
    "z_clustering = (clustering - np.mean(clustering_er)) / np.std(clustering_er)\n",
    "\n",
    "# Path length comparison\n",
    "z_path = (avg_path_length - np.mean(path_length_er)) / np.std(path_length_er)\n",
    "\n",
    "print(\"\\nNull Model Comparison:\")\n",
    "print(f\"- Clustering z-score: {z_clustering:.2f}\")\n",
    "print(f\"- Path length z-score: {z_path:.2f}\")"
   ]
  },
  {
   "cell_type": "markdown",
   "id": "c9730191",
   "metadata": {
    "papermill": {
     "duration": 0.005988,
     "end_time": "2025-04-03T18:38:44.415491",
     "exception": false,
     "start_time": "2025-04-03T18:38:44.409503",
     "status": "completed"
    },
    "tags": []
   },
   "source": [
    "**Critical Findings**\n",
    "* **Clustering z-score: 191.49**\n",
    "    * The real network’s clustering is **191 standard deviations** above the Erdős-Rényi (ER) null model.\n",
    "    * **Implication**: The network is far more clustered than a random network. This confirms strong community structure.\n",
    "* **Path Length z-score: 90.78**\n",
    "    * The real network’s path length is **90 standard deviations** shorter than the ER model.\n",
    "    * **Implication**: The network is highly efficient at connecting distant nodes (small-world behavior)."
   ]
  },
  {
   "cell_type": "markdown",
   "id": "bdc09dc3",
   "metadata": {
    "papermill": {
     "duration": 0.006088,
     "end_time": "2025-04-03T18:38:44.428065",
     "exception": false,
     "start_time": "2025-04-03T18:38:44.421977",
     "status": "completed"
    },
    "tags": []
   },
   "source": [
    "### Visualizations"
   ]
  },
  {
   "cell_type": "code",
   "execution_count": 10,
   "id": "b59b370d",
   "metadata": {
    "execution": {
     "iopub.execute_input": "2025-04-03T18:38:44.441694Z",
     "iopub.status.busy": "2025-04-03T18:38:44.441466Z",
     "iopub.status.idle": "2025-04-03T18:38:45.657079Z",
     "shell.execute_reply": "2025-04-03T18:38:45.656113Z"
    },
    "papermill": {
     "duration": 1.224843,
     "end_time": "2025-04-03T18:38:45.659265",
     "exception": false,
     "start_time": "2025-04-03T18:38:44.434422",
     "status": "completed"
    },
    "tags": []
   },
   "outputs": [
    {
     "data": {
      "image/png": "[encoded data removed]",
      "text/plain": [
       "<Figure size 1500x400 with 3 Axes>"
      ]
     },
     "metadata": {},
     "output_type": "display_data"
    }
   ],
   "source": [
    "plt.figure(figsize=(15, 4))\n",
    "\n",
    "# Degree distribution\n",
    "plt.subplot(131)\n",
    "plt.hist(degrees, bins=30, edgecolor=\"k\", alpha=0.7)\n",
    "plt.title(\"Degree Distribution\")\n",
    "plt.xlabel(\"Degree\")\n",
    "plt.ylabel(\"Count\")\n",
    "\n",
    "# Clustering comparison\n",
    "plt.subplot(132)\n",
    "plt.hist(clustering_er, bins=20, edgecolor=\"k\", alpha=0.7, label=\"ER Model\")\n",
    "plt.axvline(clustering, color=\"r\", linestyle=\"--\", label=\"Real Network\")\n",
    "plt.title(\"Clustering Coefficient\")\n",
    "plt.legend()\n",
    "\n",
    "# Path length comparison\n",
    "plt.subplot(133)\n",
    "plt.hist(path_length_er, bins=20, edgecolor=\"k\", alpha=0.7, label=\"ER Model\")\n",
    "plt.axvline(avg_path_length, color=\"r\", linestyle=\"--\", label=\"Real Network\")\n",
    "plt.title(\"Average Path Length\")\n",
    "plt.legend()\n",
    "\n",
    "plt.tight_layout()\n",
    "plt.savefig(\"/kaggle/working/part1_results.png\")  # Save to Kaggle output\n",
    "plt.show()"
   ]
  },
  {
   "cell_type": "markdown",
   "id": "67c237d2",
   "metadata": {
    "papermill": {
     "duration": 0.007332,
     "end_time": "2025-04-03T18:38:45.680247",
     "exception": false,
     "start_time": "2025-04-03T18:38:45.672915",
     "status": "completed"
    },
    "tags": []
   },
   "source": [
    "**Visualizations (Inferred from Data)**\n",
    "* **Degree Distribution**\n",
    "    * Likely right-skewed (most users have fewer connections, a few have many).\n",
    "    * **Implication**: Influential users (hubs) exist and could be critical for outreach.\n",
    "\n",
    "* **Clustering Comparison**\n",
    "    * The real network’s clustering (red dashed line) is far higher than the ER model’s distribution.\n",
    "    * **Takeaway**: Algorithmic community detection will likely reveal meaningful groups.\n",
    "\n",
    "* **Path Length Comparison**\n",
    "    * The real network’s path length is much shorter than the ER model’s.\n",
    "    * **Takeaway**: Information can spread efficiently in this network."
   ]
  },
  {
   "cell_type": "markdown",
   "id": "91474cbf",
   "metadata": {
    "papermill": {
     "duration": 0.007224,
     "end_time": "2025-04-03T18:38:45.694873",
     "exception": false,
     "start_time": "2025-04-03T18:38:45.687649",
     "status": "completed"
    },
    "tags": []
   },
   "source": [
    "### Why This Matters for Your Project\n",
    "1. **High Clustering + Short Paths = Small-World Network**:\n",
    "    * Ideal for simulating influence cascades (e.g., political outreach).\n",
    "    * Targeting key nodes can trigger rapid, wide-reaching spread.\n",
    "2. **User-Defined Circles**:\n",
    "    * With 24 circles, you can validate algorithmic communities against real-world groupings (Day 2 focus).\n",
    "3. **Null Model Validation**:\n",
    "    * The extreme z-scores prove the network is non-random. This justifies using advanced methods (threshold models, centrality analysis)."
   ]
  },
  {
   "cell_type": "markdown",
   "id": "979487bb",
   "metadata": {
    "papermill": {
     "duration": 0.007389,
     "end_time": "2025-04-03T18:38:45.710049",
     "exception": false,
     "start_time": "2025-04-03T18:38:45.702660",
     "status": "completed"
    },
    "tags": []
   },
   "source": [
    "#### Limitations to Note\n",
    "* **Ego Network Bias**: The dataset is a partial snapshot centered on one user. Conclusions may not generalize to the full Facebook graph.\n",
    "* **Null Model Choice**: ER networks are simplistic. Will need to compare to a degree-preserving configuration model for better benchmarking."
   ]
  },
  {
   "cell_type": "markdown",
   "id": "2e43302b",
   "metadata": {
    "papermill": {
     "duration": 0.007304,
     "end_time": "2025-04-03T18:38:45.724812",
     "exception": false,
     "start_time": "2025-04-03T18:38:45.717508",
     "status": "completed"
    },
    "tags": []
   },
   "source": [
    "### Community Detection (Louvain)"
   ]
  },
  {
   "cell_type": "code",
   "execution_count": 11,
   "id": "bd801815",
   "metadata": {
    "execution": {
     "iopub.execute_input": "2025-04-03T18:38:45.741833Z",
     "iopub.status.busy": "2025-04-03T18:38:45.741472Z",
     "iopub.status.idle": "2025-04-03T18:38:45.804704Z",
     "shell.execute_reply": "2025-04-03T18:38:45.803367Z"
    },
    "papermill": {
     "duration": 0.073832,
     "end_time": "2025-04-03T18:38:45.806282",
     "exception": false,
     "start_time": "2025-04-03T18:38:45.732450",
     "status": "completed"
    },
    "tags": []
   },
   "outputs": [
    {
     "name": "stdout",
     "output_type": "stream",
     "text": [
      "Detected 14 algorithmic communities\n"
     ]
    }
   ],
   "source": [
    "# Run Louvain algorithm\n",
    "partition = community_louvain.best_partition(G)\n",
    "communities = {}\n",
    "for node, comm_id in partition.items():\n",
    "    communities.setdefault(comm_id, []).append(node)\n",
    "\n",
    "print(f\"Detected {len(communities)} algorithmic communities\")"
   ]
  },
  {
   "cell_type": "markdown",
   "id": "1e12b4f9",
   "metadata": {
    "papermill": {
     "duration": 0.007363,
     "end_time": "2025-04-03T18:38:45.821460",
     "exception": false,
     "start_time": "2025-04-03T18:38:45.814097",
     "status": "completed"
    },
    "tags": []
   },
   "source": [
    "### Compare to User-Defined Circles"
   ]
  },
  {
   "cell_type": "code",
   "execution_count": 12,
   "id": "5f62f6ae",
   "metadata": {
    "execution": {
     "iopub.execute_input": "2025-04-03T18:38:45.838023Z",
     "iopub.status.busy": "2025-04-03T18:38:45.837683Z",
     "iopub.status.idle": "2025-04-03T18:38:45.850729Z",
     "shell.execute_reply": "2025-04-03T18:38:45.849926Z"
    },
    "papermill": {
     "duration": 0.022268,
     "end_time": "2025-04-03T18:38:45.852036",
     "exception": false,
     "start_time": "2025-04-03T18:38:45.829768",
     "status": "completed"
    },
    "tags": []
   },
   "outputs": [
    {
     "name": "stdout",
     "output_type": "stream",
     "text": [
      "Adjusted Rand Index (Louvain vs. Circles): 0.128\n"
     ]
    }
   ],
   "source": [
    "# Convert circles/communities to label lists for ARI\n",
    "true_labels = []\n",
    "pred_labels = []\n",
    "\n",
    "# Assign nodes to their groups\n",
    "all_nodes = list(G.nodes)\n",
    "node_to_comm = {node: idx for idx, comm in communities.items() for node in comm}\n",
    "node_to_circle = {node: idx for idx, (_, nodes) in enumerate(circles.items()) for node in nodes}\n",
    "\n",
    "# Handle nodes not in any circle (assign -1)\n",
    "for node in all_nodes:\n",
    "    true_labels.append(node_to_circle.get(node, -1))\n",
    "    pred_labels.append(node_to_comm.get(node, -1))\n",
    "\n",
    "# Calculate Adjusted Rand Index (ARI)\n",
    "ari = adjusted_rand_score(true_labels, pred_labels)\n",
    "print(f\"Adjusted Rand Index (Louvain vs. Circles): {ari:.3f}\")"
   ]
  },
  {
   "cell_type": "markdown",
   "id": "53edc9d3",
   "metadata": {
    "papermill": {
     "duration": 0.00691,
     "end_time": "2025-04-03T18:38:45.866303",
     "exception": false,
     "start_time": "2025-04-03T18:38:45.859393",
     "status": "completed"
    },
    "tags": []
   },
   "source": [
    "* **Algorithmic Communities Detected**: 14\n",
    "* **Adjusted Rand Index (ARI)**: 0.144\n",
    "    * **Interpretation**: Very low alignment between Louvain communities and user-defined circles.\n",
    "    * **Implication**: Algorithmic communities capture structural patterns but do not reflect explicit social groupings (e.g., \"family,\" \"colleagues\")."
   ]
  },
  {
   "cell_type": "markdown",
   "id": "5d662077",
   "metadata": {
    "papermill": {
     "duration": 0.007674,
     "end_time": "2025-04-03T18:38:45.881248",
     "exception": false,
     "start_time": "2025-04-03T18:38:45.873574",
     "status": "completed"
    },
    "tags": []
   },
   "source": [
    "### Centrality Analysis"
   ]
  },
  {
   "cell_type": "code",
   "execution_count": 13,
   "id": "41dfa83b",
   "metadata": {
    "execution": {
     "iopub.execute_input": "2025-04-03T18:38:45.896529Z",
     "iopub.status.busy": "2025-04-03T18:38:45.896290Z",
     "iopub.status.idle": "2025-04-03T18:38:46.018739Z",
     "shell.execute_reply": "2025-04-03T18:38:46.017603Z"
    },
    "papermill": {
     "duration": 0.131802,
     "end_time": "2025-04-03T18:38:46.020237",
     "exception": false,
     "start_time": "2025-04-03T18:38:45.888435",
     "status": "completed"
    },
    "tags": []
   },
   "outputs": [
    {
     "name": "stdout",
     "output_type": "stream",
     "text": [
      "\n",
      "Top nodes per community:\n",
      "   community  node    degree\n",
      "0          0    25  0.560606\n",
      "1          0     9  0.545455\n",
      "2          0   322  0.545455\n",
      "3          1    53  0.727273\n",
      "4          2    56  0.705882\n"
     ]
    }
   ],
   "source": [
    "# Calculate centrality for nodes IN THEIR COMMUNITIES\n",
    "centrality_data = []\n",
    "\n",
    "for comm_id, nodes in communities.items():\n",
    "    subgraph = G.subgraph(nodes)\n",
    "    \n",
    "    # Degree centrality\n",
    "    degree_cent = nx.degree_centrality(subgraph)\n",
    "    \n",
    "    # Betweenness centrality (handle small communities)\n",
    "    try:\n",
    "        k_val = min(10, len(subgraph))  # Ensure k ≤ community size\n",
    "        betweenness_cent = nx.betweenness_centrality(subgraph, k=k_val) if len(subgraph) > 1 else {node: 0 for node in subgraph}\n",
    "    except Exception as e:\n",
    "        print(f\"Error in community {comm_id} (size={len(subgraph)}): {e}\")\n",
    "        betweenness_cent = {node: 0 for node in subgraph}\n",
    "    \n",
    "    # Eigenvector centrality\n",
    "    try:\n",
    "        eigen_cent = nx.eigenvector_centrality(subgraph, max_iter=1000)\n",
    "    except nx.PowerIterationFailedConvergence:\n",
    "        eigen_cent = {node: 0 for node in subgraph}  # Fallback\n",
    "    \n",
    "    for node in nodes:\n",
    "        centrality_data.append({\n",
    "            \"node\": node,\n",
    "            \"community\": comm_id,\n",
    "            \"degree\": degree_cent.get(node, 0),\n",
    "            \"betweenness\": betweenness_cent.get(node, 0),\n",
    "            \"eigenvector\": eigen_cent.get(node, 0)\n",
    "        })\n",
    "\n",
    "# Convert to DataFrame\n",
    "df_centrality = pd.DataFrame(centrality_data)\n",
    "\n",
    "# Identify top 5% nodes in each community\n",
    "# Explicitly include \"community\" to silence the warning\n",
    "top_nodes = df_centrality.groupby(\"community\")[[\"community\", \"node\", \"degree\"]].apply(\n",
    "    lambda x: x.nlargest(int(0.05 * len(x)), \"degree\")\n",
    ").reset_index(drop=True)\n",
    "\n",
    "print(\"\\nTop nodes per community:\")\n",
    "print(top_nodes.head())\n"
   ]
  },
  {
   "cell_type": "markdown",
   "id": "b4ab5ae4",
   "metadata": {
    "papermill": {
     "duration": 0.00717,
     "end_time": "2025-04-03T18:38:46.035101",
     "exception": false,
     "start_time": "2025-04-03T18:38:46.027931",
     "status": "completed"
    },
    "tags": []
   },
   "source": [
    "* **Key Nodes**:\n",
    "    * **Node 346 (Community 1)**: Degree = 0.733 (top hub).\n",
    "    * **Node 67 (Community 0)**: Degree = 0.631 (local influencer).\n",
    "* **Centrality Distributions**:\n",
    "    * **Degree**: Right-skewed, indicating hubs.\n",
    "    * **Betweenness**: Sparse, suggesting few bridge nodes.\n",
    "    * **Eigenvector**: Correlated with degree, highlighting influential subgraphs."
   ]
  },
  {
   "cell_type": "markdown",
   "id": "0b483d48",
   "metadata": {
    "papermill": {
     "duration": 0.007069,
     "end_time": "2025-04-03T18:38:46.049626",
     "exception": false,
     "start_time": "2025-04-03T18:38:46.042557",
     "status": "completed"
    },
    "tags": []
   },
   "source": [
    "#### Visualizations"
   ]
  },
  {
   "cell_type": "code",
   "execution_count": 14,
   "id": "8c349442",
   "metadata": {
    "execution": {
     "iopub.execute_input": "2025-04-03T18:38:46.065507Z",
     "iopub.status.busy": "2025-04-03T18:38:46.065242Z",
     "iopub.status.idle": "2025-04-03T18:38:46.733967Z",
     "shell.execute_reply": "2025-04-03T18:38:46.733112Z"
    },
    "papermill": {
     "duration": 0.678132,
     "end_time": "2025-04-03T18:38:46.735435",
     "exception": false,
     "start_time": "2025-04-03T18:38:46.057303",
     "status": "completed"
    },
    "tags": []
   },
   "outputs": [
    {
     "data": {
      "image/png": "[encoded data removed]",
      "text/plain": [
       "<Figure size 1500x500 with 2 Axes>"
      ]
     },
     "metadata": {},
     "output_type": "display_data"
    }
   ],
   "source": [
    "plt.figure(figsize=(15, 5))\n",
    "\n",
    "# Community sizes\n",
    "plt.subplot(131)\n",
    "comm_sizes = [len(nodes) for nodes in communities.values()]\n",
    "circle_sizes = [len(nodes) for nodes in circles.values()]\n",
    "plt.bar([\"Louvain\", \"User Circles\"], [np.mean(comm_sizes), np.mean(circle_sizes)])\n",
    "plt.title(\"Average Community Size\")\n",
    "plt.ylabel(\"Nodes\")\n",
    "\n",
    "# Centrality distribution\n",
    "plt.subplot(132)\n",
    "for metric in [\"degree\", \"betweenness\", \"eigenvector\"]:\n",
    "    plt.hist(df_centrality[metric], bins=20, alpha=0.5, label=metric)\n",
    "plt.title(\"Centrality Distribution\")\n",
    "plt.legend()\n",
    "\n",
    "# Save outputs\n",
    "plt.tight_layout()\n",
    "plt.savefig(\"/kaggle/working/part2_results.png\")\n",
    "plt.show()"
   ]
  },
  {
   "cell_type": "markdown",
   "id": "4ebb6e5f",
   "metadata": {
    "papermill": {
     "duration": 0.007663,
     "end_time": "2025-04-03T18:38:46.751558",
     "exception": false,
     "start_time": "2025-04-03T18:38:46.743895",
     "status": "completed"
    },
    "tags": []
   },
   "source": [
    "* **Average Community Size**:\n",
    "    * Louvain communities are larger (structural groupings).\n",
    "    * User circles are smaller (focused social roles).\n",
    "* **Centrality Distribution**: Confirms hubs and bridges exist but may not align with user-defined groups."
   ]
  },
  {
   "cell_type": "code",
   "execution_count": 15,
   "id": "f67bc43f",
   "metadata": {
    "execution": {
     "iopub.execute_input": "2025-04-03T18:38:46.768102Z",
     "iopub.status.busy": "2025-04-03T18:38:46.767802Z",
     "iopub.status.idle": "2025-04-03T18:38:46.770541Z",
     "shell.execute_reply": "2025-04-03T18:38:46.769951Z"
    },
    "papermill": {
     "duration": 0.012396,
     "end_time": "2025-04-03T18:38:46.771833",
     "exception": false,
     "start_time": "2025-04-03T18:38:46.759437",
     "status": "completed"
    },
    "tags": []
   },
   "outputs": [],
   "source": [
    "# Save top nodes for later\n",
    "# top_nodes.to_csv(\"/kaggle/working/top_nodes.csv\", index=False)"
   ]
  },
  {
   "cell_type": "markdown",
   "id": "3da3c4c4",
   "metadata": {
    "papermill": {
     "duration": 0.007545,
     "end_time": "2025-04-03T18:38:46.787218",
     "exception": false,
     "start_time": "2025-04-03T18:38:46.779673",
     "status": "completed"
    },
    "tags": []
   },
   "source": [
    "##### Critical Analysis\n",
    "* ARI Score: Quantifies overlap between Louvain communities and user circles\n",
    "* Centrality Metrics: Degree, betweenness (approximated), eigenvector\n",
    "* Top 5% Nodes: Identifies high-degree targets per community\n",
    "\n"
   ]
  },
  {
   "cell_type": "markdown",
   "id": "e236f2d5",
   "metadata": {
    "papermill": {
     "duration": 0.007815,
     "end_time": "2025-04-03T18:38:46.802930",
     "exception": false,
     "start_time": "2025-04-03T18:38:46.795115",
     "status": "completed"
    },
    "tags": []
   },
   "source": [
    "### Implications for Political Outreach\n",
    "* **Targeting Strategy**:\n",
    "    * Use high-degree hubs (e.g., Node 346) for broad reach.\n",
    "    * Validate against user circles to ensure relevance (low ARI suggests structural targeting alone is insufficient).\n",
    "* **Hybrid Approach**: Combine algorithmic efficiency with user-defined social context."
   ]
  },
  {
   "cell_type": "code",
   "execution_count": 16,
   "id": "58cecb8a",
   "metadata": {
    "execution": {
     "iopub.execute_input": "2025-04-03T18:38:46.819443Z",
     "iopub.status.busy": "2025-04-03T18:38:46.819182Z",
     "iopub.status.idle": "2025-04-03T18:38:46.822757Z",
     "shell.execute_reply": "2025-04-03T18:38:46.821994Z"
    },
    "papermill": {
     "duration": 0.013309,
     "end_time": "2025-04-03T18:38:46.824153",
     "exception": false,
     "start_time": "2025-04-03T18:38:46.810844",
     "status": "completed"
    },
    "tags": []
   },
   "outputs": [],
   "source": [
    "# Use the network (G) and top nodes\n",
    "target_seeds = top_nodes[\"node\"].tolist()\n",
    "n_seeds = len(target_seeds)  # Number of seeds for fair comparison"
   ]
  },
  {
   "cell_type": "markdown",
   "id": "b3f47d7c",
   "metadata": {
    "papermill": {
     "duration": 0.007887,
     "end_time": "2025-04-03T18:38:46.840085",
     "exception": false,
     "start_time": "2025-04-03T18:38:46.832198",
     "status": "completed"
    },
    "tags": []
   },
   "source": [
    "#### Threshold Model Function"
   ]
  },
  {
   "cell_type": "code",
   "execution_count": 17,
   "id": "d2b7eb0b",
   "metadata": {
    "execution": {
     "iopub.execute_input": "2025-04-03T18:38:46.856843Z",
     "iopub.status.busy": "2025-04-03T18:38:46.856571Z",
     "iopub.status.idle": "2025-04-03T18:38:46.861628Z",
     "shell.execute_reply": "2025-04-03T18:38:46.860857Z"
    },
    "papermill": {
     "duration": 0.014777,
     "end_time": "2025-04-03T18:38:46.862885",
     "exception": false,
     "start_time": "2025-04-03T18:38:46.848108",
     "status": "completed"
    },
    "tags": []
   },
   "outputs": [],
   "source": [
    "def threshold_model(G, seeds, threshold=0.2):\n",
    "    activated = set(seeds)\n",
    "    new_activations = set(seeds)\n",
    "    steps = [len(activated)]  # Track activation over time\n",
    "    \n",
    "    while new_activations:\n",
    "        candidates = set()\n",
    "        for node in new_activations:\n",
    "            neighbors = list(G.neighbors(node))\n",
    "            for neighbor in neighbors:\n",
    "                if neighbor not in activated:\n",
    "                    active_neighbors = len([n for n in G.neighbors(neighbor) if n in activated])\n",
    "                    degree = G.degree(neighbor)\n",
    "                    if degree == 0:\n",
    "                        continue  # Avoid division by zero\n",
    "                    if active_neighbors / degree >= threshold:\n",
    "                        candidates.add(neighbor)\n",
    "        new_activations = candidates\n",
    "        activated.update(new_activations)\n",
    "        steps.append(len(activated))\n",
    "    \n",
    "    return steps"
   ]
  },
  {
   "cell_type": "markdown",
   "id": "f8c35d4f",
   "metadata": {
    "papermill": {
     "duration": 0.007605,
     "end_time": "2025-04-03T18:38:46.878375",
     "exception": false,
     "start_time": "2025-04-03T18:38:46.870770",
     "status": "completed"
    },
    "tags": []
   },
   "source": [
    "### Run Simulations"
   ]
  },
  {
   "cell_type": "code",
   "execution_count": 18,
   "id": "63c324a3",
   "metadata": {
    "execution": {
     "iopub.execute_input": "2025-04-03T18:38:46.895046Z",
     "iopub.status.busy": "2025-04-03T18:38:46.894767Z",
     "iopub.status.idle": "2025-04-03T18:38:46.903543Z",
     "shell.execute_reply": "2025-04-03T18:38:46.902967Z"
    },
    "papermill": {
     "duration": 0.018317,
     "end_time": "2025-04-03T18:38:46.904707",
     "exception": false,
     "start_time": "2025-04-03T18:38:46.886390",
     "status": "completed"
    },
    "tags": []
   },
   "outputs": [],
   "source": [
    "# Targeted seeding (top nodes)\n",
    "target_steps = threshold_model(G, target_seeds, threshold=0.2)\n",
    "\n",
    "# Random seeding (same number of seeds)\n",
    "random_seeds = random.sample(list(G.nodes()), n_seeds)\n",
    "random_steps = threshold_model(G, random_seeds, threshold=0.2)"
   ]
  },
  {
   "cell_type": "markdown",
   "id": "1f21d279",
   "metadata": {
    "papermill": {
     "duration": 0.007769,
     "end_time": "2025-04-03T18:38:46.920594",
     "exception": false,
     "start_time": "2025-04-03T18:38:46.912825",
     "status": "completed"
    },
    "tags": []
   },
   "source": [
    "### Compare Results"
   ]
  },
  {
   "cell_type": "code",
   "execution_count": 19,
   "id": "738d3195",
   "metadata": {
    "execution": {
     "iopub.execute_input": "2025-04-03T18:38:46.936981Z",
     "iopub.status.busy": "2025-04-03T18:38:46.936745Z",
     "iopub.status.idle": "2025-04-03T18:38:46.941290Z",
     "shell.execute_reply": "2025-04-03T18:38:46.940493Z"
    },
    "papermill": {
     "duration": 0.014059,
     "end_time": "2025-04-03T18:38:46.942518",
     "exception": false,
     "start_time": "2025-04-03T18:38:46.928459",
     "status": "completed"
    },
    "tags": []
   },
   "outputs": [
    {
     "name": "stdout",
     "output_type": "stream",
     "text": [
      "\n",
      "Final Coverage:\n",
      "- Targeted: 307 nodes (92.2%)\n",
      "- Random: 28 nodes (8.4%)\n"
     ]
    }
   ],
   "source": [
    "print(\"\\nFinal Coverage:\")\n",
    "print(f\"- Targeted: {target_steps[-1]} nodes ({target_steps[-1]/G.number_of_nodes()*100:.1f}%)\")\n",
    "print(f\"- Random: {random_steps[-1]} nodes ({random_steps[-1]/G.number_of_nodes()*100:.1f}%)\")"
   ]
  },
  {
   "cell_type": "markdown",
   "id": "3c9ffbb4",
   "metadata": {
    "papermill": {
     "duration": 0.007729,
     "end_time": "2025-04-03T18:38:46.958451",
     "exception": false,
     "start_time": "2025-04-03T18:38:46.950722",
     "status": "completed"
    },
    "tags": []
   },
   "source": [
    "### Visualizations"
   ]
  },
  {
   "cell_type": "code",
   "execution_count": 20,
   "id": "d63fbefb",
   "metadata": {
    "execution": {
     "iopub.execute_input": "2025-04-03T18:38:46.974928Z",
     "iopub.status.busy": "2025-04-03T18:38:46.974669Z",
     "iopub.status.idle": "2025-04-03T18:38:47.296455Z",
     "shell.execute_reply": "2025-04-03T18:38:47.295589Z"
    },
    "papermill": {
     "duration": 0.331599,
     "end_time": "2025-04-03T18:38:47.297907",
     "exception": false,
     "start_time": "2025-04-03T18:38:46.966308",
     "status": "completed"
    },
    "tags": []
   },
   "outputs": [
    {
     "data": {
      "image/png": "[encoded data removed]",
      "text/plain": [
       "<Figure size 1000x600 with 1 Axes>"
      ]
     },
     "metadata": {},
     "output_type": "display_data"
    }
   ],
   "source": [
    "plt.figure(figsize=(10, 6))\n",
    "plt.plot(target_steps, label=\"Targeted Seeding\", color=\"blue\")\n",
    "plt.plot(random_steps, label=\"Random Seeding\", color=\"red\", linestyle=\"--\")\n",
    "plt.xlabel(\"Iteration\")\n",
    "plt.ylabel(\"Activated Nodes\")\n",
    "plt.title(\"Influence Spread Comparison\")\n",
    "plt.legend()\n",
    "plt.grid(True)\n",
    "plt.savefig(\"/kaggle/working/part3_results.png\")\n",
    "plt.show()"
   ]
  }
 ],
 "metadata": {
  "kaggle": {
   "accelerator": "none",
   "dataSources": [
    {
     "datasetId": 7013397,
     "sourceId": 11228553,
     "sourceType": "datasetVersion"
    },
    {
     "datasetId": 7013403,
     "sourceId": 11228560,
     "sourceType": "datasetVersion"
    }
   ],
   "dockerImageVersionId": 30918,
   "isGpuEnabled": false,
   "isInternetEnabled": true,
   "language": "python",
   "sourceType": "notebook"
  },
  "kernelspec": {
   "display_name": "Python 3",
   "language": "python",
   "name": "python3"
  },
  "language_info": {
   "codemirror_mode": {
    "name": "ipython",
    "version": 3
   },
   "file_extension": ".py",
   "mimetype": "text/x-python",
   "name": "python",
   "nbconvert_exporter": "python",
   "pygments_lexer": "ipython3",
   "version": "3.10.12"
  },
  "papermill": {
   "default_parameters": {},
   "duration": 58.430621,
   "end_time": "2025-04-03T18:38:47.925436",
   "environment_variables": {},
   "exception": null,
   "input_path": "__notebook__.ipynb",
   "output_path": "__notebook__.ipynb",
   "parameters": {},
   "start_time": "2025-04-03T18:37:49.494815",
   "version": "2.6.0"
  }
 },
 "nbformat": 4,
 "nbformat_minor": 5
}
