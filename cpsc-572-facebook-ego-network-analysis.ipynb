{
 "cells": [
  {
   "cell_type": "markdown",
   "id": "47bed999",
   "metadata": {
    "papermill": {
     "duration": 0.009918,
     "end_time": "2025-04-05T01:25:28.538343",
     "exception": false,
     "start_time": "2025-04-05T01:25:28.528425",
     "status": "completed"
    },
    "tags": []
   },
   "source": [
    "Files:\n",
    "\n",
    "nodeId.edges : The edges in the ego network for the node 'nodeId'. Edges are undirected for facebook, and directed (a follows b) for twitter and gplus. The 'ego' node does not appear, but it is assumed that they follow every node id that appears in this file.\n",
    "\n",
    "nodeId.circles : The set of circles for the ego node. Each line contains one circle, consisting of a series of node ids. The first entry in each line is the name of the circle.\n",
    "\n",
    "nodeId.feat : The features for each of the nodes that appears in the edge file.\n",
    "\n",
    "nodeId.egofeat : The features for the ego user.\n",
    "\n",
    "nodeId.featnames : The names of each of the feature dimensions. Features are '1' if the user has this property in their profile, and '0' otherwise. This file has been anonymized for facebook users, since the names of the features would reveal private data."
   ]
  },
  {
   "cell_type": "markdown",
   "id": "cd27a333",
   "metadata": {
    "papermill": {
     "duration": 0.008516,
     "end_time": "2025-04-05T01:25:28.555956",
     "exception": false,
     "start_time": "2025-04-05T01:25:28.547440",
     "status": "completed"
    },
    "tags": []
   },
   "source": [
    "#### Installitions"
   ]
  },
  {
   "cell_type": "code",
   "execution_count": 1,
   "id": "38f4988f",
   "metadata": {
    "execution": {
     "iopub.execute_input": "2025-04-05T01:25:28.574647Z",
     "iopub.status.busy": "2025-04-05T01:25:28.574309Z",
     "iopub.status.idle": "2025-04-05T01:25:36.436562Z",
     "shell.execute_reply": "2025-04-05T01:25:36.435472Z"
    },
    "papermill": {
     "duration": 7.873573,
     "end_time": "2025-04-05T01:25:36.438253",
     "exception": false,
     "start_time": "2025-04-05T01:25:28.564680",
     "status": "completed"
    },
    "tags": []
   },
   "outputs": [],
   "source": [
    "!pip install python-louvain > /dev/null\n",
    "!pip install pyvis > /dev/null"
   ]
  },
  {
   "cell_type": "markdown",
   "id": "5f505a1f",
   "metadata": {
    "papermill": {
     "duration": 0.008432,
     "end_time": "2025-04-05T01:25:36.455786",
     "exception": false,
     "start_time": "2025-04-05T01:25:36.447354",
     "status": "completed"
    },
    "tags": []
   },
   "source": [
    "### Import Libraries  "
   ]
  },
  {
   "cell_type": "code",
   "execution_count": 2,
   "id": "3afdee25",
   "metadata": {
    "execution": {
     "iopub.execute_input": "2025-04-05T01:25:36.473931Z",
     "iopub.status.busy": "2025-04-05T01:25:36.473673Z",
     "iopub.status.idle": "2025-04-05T01:25:39.075298Z",
     "shell.execute_reply": "2025-04-05T01:25:39.074646Z"
    },
    "papermill": {
     "duration": 2.61241,
     "end_time": "2025-04-05T01:25:39.076841",
     "exception": false,
     "start_time": "2025-04-05T01:25:36.464431",
     "status": "completed"
    },
    "tags": []
   },
   "outputs": [],
   "source": [
    "import networkx as nx\n",
    "import pandas as pd\n",
    "import numpy as np\n",
    "import matplotlib.pyplot as plt\n",
    "from scipy import stats\n",
    "from sklearn.metrics import adjusted_rand_score\n",
    "import community as community_louvain  # pip install python-louvain\n",
    "import random\n",
    "from tqdm import tqdm  # For progress bars\n",
    "from pyvis.network import Network\n",
    "import matplotlib.colors as mcolors\n",
    "import os"
   ]
  },
  {
   "cell_type": "markdown",
   "id": "3a5d4de6",
   "metadata": {
    "papermill": {
     "duration": 0.00861,
     "end_time": "2025-04-05T01:25:39.094942",
     "exception": false,
     "start_time": "2025-04-05T01:25:39.086332",
     "status": "completed"
    },
    "tags": []
   },
   "source": [
    "### Load Data"
   ]
  },
  {
   "cell_type": "code",
   "execution_count": 3,
   "id": "32b18939",
   "metadata": {
    "execution": {
     "iopub.execute_input": "2025-04-05T01:25:39.113141Z",
     "iopub.status.busy": "2025-04-05T01:25:39.112703Z",
     "iopub.status.idle": "2025-04-05T01:25:39.116041Z",
     "shell.execute_reply": "2025-04-05T01:25:39.115417Z"
    },
    "papermill": {
     "duration": 0.01377,
     "end_time": "2025-04-05T01:25:39.117244",
     "exception": false,
     "start_time": "2025-04-05T01:25:39.103474",
     "status": "completed"
    },
    "tags": []
   },
   "outputs": [],
   "source": [
    "BASE_PATH = \"/kaggle/input/facebook/\"\n",
    "EGO_NODE = \"0\"  # Focus on the first ego network"
   ]
  },
  {
   "cell_type": "markdown",
   "id": "8541f913",
   "metadata": {
    "papermill": {
     "duration": 0.008275,
     "end_time": "2025-04-05T01:25:39.134280",
     "exception": false,
     "start_time": "2025-04-05T01:25:39.126005",
     "status": "completed"
    },
    "tags": []
   },
   "source": [
    "### Load edges (friendships)"
   ]
  },
  {
   "cell_type": "code",
   "execution_count": 4,
   "id": "f9355fb1",
   "metadata": {
    "execution": {
     "iopub.execute_input": "2025-04-05T01:25:39.151925Z",
     "iopub.status.busy": "2025-04-05T01:25:39.151694Z",
     "iopub.status.idle": "2025-04-05T01:25:39.175278Z",
     "shell.execute_reply": "2025-04-05T01:25:39.174393Z"
    },
    "papermill": {
     "duration": 0.033973,
     "end_time": "2025-04-05T01:25:39.176678",
     "exception": false,
     "start_time": "2025-04-05T01:25:39.142705",
     "status": "completed"
    },
    "tags": []
   },
   "outputs": [
    {
     "name": "stdout",
     "output_type": "stream",
     "text": [
      "Loaded network with 333 nodes and 2519 edges\n"
     ]
    }
   ],
   "source": [
    "G = nx.read_edgelist(f\"{BASE_PATH}{EGO_NODE}.edges\", nodetype=int)\n",
    "print(f\"Loaded network with {G.number_of_nodes()} nodes and {G.number_of_edges()} edges\")"
   ]
  },
  {
   "cell_type": "markdown",
   "id": "e6183395",
   "metadata": {
    "papermill": {
     "duration": 0.008581,
     "end_time": "2025-04-05T01:25:39.194305",
     "exception": false,
     "start_time": "2025-04-05T01:25:39.185724",
     "status": "completed"
    },
    "tags": []
   },
   "source": [
    "### Remove the Central Ego Node"
   ]
  },
  {
   "cell_type": "code",
   "execution_count": 5,
   "id": "74585492",
   "metadata": {
    "execution": {
     "iopub.execute_input": "2025-04-05T01:25:39.212189Z",
     "iopub.status.busy": "2025-04-05T01:25:39.211908Z",
     "iopub.status.idle": "2025-04-05T01:25:39.216087Z",
     "shell.execute_reply": "2025-04-05T01:25:39.215357Z"
    },
    "papermill": {
     "duration": 0.014518,
     "end_time": "2025-04-05T01:25:39.217376",
     "exception": false,
     "start_time": "2025-04-05T01:25:39.202858",
     "status": "completed"
    },
    "tags": []
   },
   "outputs": [
    {
     "name": "stdout",
     "output_type": "stream",
     "text": [
      "Ego node not found in the network\n"
     ]
    }
   ],
   "source": [
    "EGO_NODE_ID = int(EGO_NODE)  # ego node ID\n",
    "\n",
    "if EGO_NODE_ID in G.nodes():\n",
    "    G.remove_node(EGO_NODE_ID)\n",
    "    print(f\"Removed ego node {EGO_NODE_ID}. New network size: {G.number_of_nodes()} nodes\")\n",
    "else:\n",
    "    print(\"Ego node not found in the network\")"
   ]
  },
  {
   "cell_type": "markdown",
   "id": "9e9a44d6",
   "metadata": {
    "papermill": {
     "duration": 0.008312,
     "end_time": "2025-04-05T01:25:39.234552",
     "exception": false,
     "start_time": "2025-04-05T01:25:39.226240",
     "status": "completed"
    },
    "tags": []
   },
   "source": [
    "The error \"**Ego node not found in the network**\" occurs because the ego node (ID 0 or any other) is not included in the edges file of the Stanford dataset. The edges file (0.edges and other) only contains connections between friends of the ego node, not the ego node itself."
   ]
  },
  {
   "cell_type": "markdown",
   "id": "c952a3a3",
   "metadata": {
    "papermill": {
     "duration": 0.008351,
     "end_time": "2025-04-05T01:25:39.251605",
     "exception": false,
     "start_time": "2025-04-05T01:25:39.243254",
     "status": "completed"
    },
    "tags": []
   },
   "source": [
    "### Load circles (user-defined groups)"
   ]
  },
  {
   "cell_type": "code",
   "execution_count": 6,
   "id": "45749b9d",
   "metadata": {
    "execution": {
     "iopub.execute_input": "2025-04-05T01:25:39.269646Z",
     "iopub.status.busy": "2025-04-05T01:25:39.269375Z",
     "iopub.status.idle": "2025-04-05T01:25:39.278831Z",
     "shell.execute_reply": "2025-04-05T01:25:39.277973Z"
    },
    "papermill": {
     "duration": 0.019785,
     "end_time": "2025-04-05T01:25:39.280010",
     "exception": false,
     "start_time": "2025-04-05T01:25:39.260225",
     "status": "completed"
    },
    "tags": []
   },
   "outputs": [
    {
     "name": "stdout",
     "output_type": "stream",
     "text": [
      "Found 24 user-defined circles\n"
     ]
    }
   ],
   "source": [
    "circles = {}\n",
    "with open(f\"{BASE_PATH}{EGO_NODE}.circles\", \"r\") as f:\n",
    "    for line in f:\n",
    "        parts = line.strip().split()\n",
    "        circle_name = parts[0]\n",
    "        members = [m for m in map(int, parts[1:]) if m != EGO_NODE_ID]  # Exclude ego\n",
    "        circles[circle_name] = members\n",
    "print(f\"Found {len(circles)} user-defined circles\")\n"
   ]
  },
  {
   "cell_type": "markdown",
   "id": "105eda23",
   "metadata": {
    "papermill": {
     "duration": 0.00838,
     "end_time": "2025-04-05T01:25:39.297070",
     "exception": false,
     "start_time": "2025-04-05T01:25:39.288690",
     "status": "completed"
    },
    "tags": []
   },
   "source": [
    "### Preprocess Network"
   ]
  },
  {
   "cell_type": "code",
   "execution_count": 7,
   "id": "dd52e488",
   "metadata": {
    "execution": {
     "iopub.execute_input": "2025-04-05T01:25:39.315114Z",
     "iopub.status.busy": "2025-04-05T01:25:39.314853Z",
     "iopub.status.idle": "2025-04-05T01:25:39.319646Z",
     "shell.execute_reply": "2025-04-05T01:25:39.318650Z"
    },
    "papermill": {
     "duration": 0.015141,
     "end_time": "2025-04-05T01:25:39.320804",
     "exception": false,
     "start_time": "2025-04-05T01:25:39.305663",
     "status": "completed"
    },
    "tags": []
   },
   "outputs": [
    {
     "name": "stdout",
     "output_type": "stream",
     "text": [
      "Removed 0 isolated nodes\n"
     ]
    }
   ],
   "source": [
    "# Remove isolated nodes (if any)\n",
    "initial_nodes = G.number_of_nodes()\n",
    "G.remove_nodes_from(list(nx.isolates(G)))\n",
    "print(f\"Removed {initial_nodes - G.number_of_nodes()} isolated nodes\")"
   ]
  },
  {
   "cell_type": "markdown",
   "id": "ba518e8f",
   "metadata": {
    "papermill": {
     "duration": 0.008585,
     "end_time": "2025-04-05T01:25:39.338152",
     "exception": false,
     "start_time": "2025-04-05T01:25:39.329567",
     "status": "completed"
    },
    "tags": []
   },
   "source": [
    "### Basic Statistics"
   ]
  },
  {
   "cell_type": "code",
   "execution_count": 8,
   "id": "3b6ad247",
   "metadata": {
    "execution": {
     "iopub.execute_input": "2025-04-05T01:25:39.356575Z",
     "iopub.status.busy": "2025-04-05T01:25:39.356339Z",
     "iopub.status.idle": "2025-04-05T01:25:40.279377Z",
     "shell.execute_reply": "2025-04-05T01:25:40.278451Z"
    },
    "papermill": {
     "duration": 0.933902,
     "end_time": "2025-04-05T01:25:40.280832",
     "exception": false,
     "start_time": "2025-04-05T01:25:39.346930",
     "status": "completed"
    },
    "tags": []
   },
   "outputs": [
    {
     "name": "stdout",
     "output_type": "stream",
     "text": [
      "\n",
      "Basic Statistics:\n",
      "- Nodes: 333, Edges: 2519\n",
      "- Avg. degree: 15.13\n",
      "- Clustering coefficient: 0.508\n",
      "- Avg. path length (LCC): 3.75\n"
     ]
    }
   ],
   "source": [
    "# Network size\n",
    "n_nodes = G.number_of_nodes()\n",
    "n_edges = G.number_of_edges()\n",
    "\n",
    "# Degree distribution\n",
    "degrees = [d for _, d in G.degree()]\n",
    "avg_degree = np.mean(degrees)\n",
    "\n",
    "# Clustering coefficient\n",
    "clustering = nx.average_clustering(G)\n",
    "\n",
    "# Average shortest path length (using largest connected component)\n",
    "lcc = max(nx.connected_components(G), key=len)\n",
    "subgraph = G.subgraph(lcc)\n",
    "avg_path_length = nx.average_shortest_path_length(subgraph)\n",
    "\n",
    "print(\"\\nBasic Statistics:\")\n",
    "print(f\"- Nodes: {n_nodes}, Edges: {n_edges}\")\n",
    "print(f\"- Avg. degree: {avg_degree:.2f}\")\n",
    "print(f\"- Clustering coefficient: {clustering:.3f}\")\n",
    "print(f\"- Avg. path length (LCC): {avg_path_length:.2f}\")"
   ]
  },
  {
   "cell_type": "markdown",
   "id": "f9deaed9",
   "metadata": {
    "papermill": {
     "duration": 0.008782,
     "end_time": "2025-04-05T01:25:40.298821",
     "exception": false,
     "start_time": "2025-04-05T01:25:40.290039",
     "status": "completed"
    },
    "tags": []
   },
   "source": [
    "**Key Observations**\n",
    "* **Network Size**: 333 nodes (users), 2519 edges (friendships).\n",
    "* **Average Degree**: 15.13\n",
    "    * Each user has ~15 friends on average.\n",
    "    * **Implication**: This is a dense social network (typical for ego networks).\n",
    "* **Clustering Coefficient**: 0.508\n",
    "    * **Interpretation**: High clustering (close to 0.5) indicates strong community structure.\n",
    "    * **Context**: Social networks often have high clustering due to triadic closure (friends of friends tend to become friends).\n",
    "* **Average Path Length (LCC)**: 3.75\n",
    "    * **Meaning**: Two random users in the largest connected component are connected by ~4 steps (small-world property)."
   ]
  },
  {
   "cell_type": "markdown",
   "id": "c53e1b22",
   "metadata": {
    "papermill": {
     "duration": 0.008803,
     "end_time": "2025-04-05T01:25:40.316500",
     "exception": false,
     "start_time": "2025-04-05T01:25:40.307697",
     "status": "completed"
    },
    "tags": []
   },
   "source": [
    "### Null Model (Erdős-Rényi)"
   ]
  },
  {
   "cell_type": "code",
   "execution_count": 9,
   "id": "734a76e2",
   "metadata": {
    "execution": {
     "iopub.execute_input": "2025-04-05T01:25:40.335126Z",
     "iopub.status.busy": "2025-04-05T01:25:40.334841Z",
     "iopub.status.idle": "2025-04-05T01:25:40.337969Z",
     "shell.execute_reply": "2025-04-05T01:25:40.337349Z"
    },
    "papermill": {
     "duration": 0.013905,
     "end_time": "2025-04-05T01:25:40.339227",
     "exception": false,
     "start_time": "2025-04-05T01:25:40.325322",
     "status": "completed"
    },
    "tags": []
   },
   "outputs": [],
   "source": [
    "# n_simulations = 100  # Reduced from 1000 for speed\n",
    "# clustering_er = []\n",
    "# path_length_er = []\n",
    "\n",
    "# # Generate ER networks with same n_nodes and n_edges\n",
    "# p = n_edges / (n_nodes * (n_nodes - 1) / 2)  # Connection probability\n",
    "\n",
    "# for _ in range(n_simulations):\n",
    "#     G_er = nx.erdos_renyi_graph(n_nodes, p)\n",
    "    \n",
    "#     # Calculate metrics\n",
    "#     clustering_er.append(nx.average_clustering(G_er))\n",
    "    \n",
    "#     # Handle disconnected ER graphs\n",
    "#     lcc_er = max(nx.connected_components(G_er), key=len)\n",
    "#     if len(lcc_er) > 1:\n",
    "#         subgraph_er = G_er.subgraph(lcc_er)\n",
    "#         path_length_er.append(nx.average_shortest_path_length(subgraph_er))"
   ]
  },
  {
   "cell_type": "markdown",
   "id": "8cc4386c",
   "metadata": {
    "papermill": {
     "duration": 0.008602,
     "end_time": "2025-04-05T01:25:40.357440",
     "exception": false,
     "start_time": "2025-04-05T01:25:40.348838",
     "status": "completed"
    },
    "tags": []
   },
   "source": [
    "### Null Model (Configuration Model)"
   ]
  },
  {
   "cell_type": "code",
   "execution_count": 10,
   "id": "2492bf15",
   "metadata": {
    "execution": {
     "iopub.execute_input": "2025-04-05T01:25:40.375986Z",
     "iopub.status.busy": "2025-04-05T01:25:40.375714Z",
     "iopub.status.idle": "2025-04-05T01:25:41.213204Z",
     "shell.execute_reply": "2025-04-05T01:25:41.212215Z"
    },
    "papermill": {
     "duration": 0.848584,
     "end_time": "2025-04-05T01:25:41.214845",
     "exception": false,
     "start_time": "2025-04-05T01:25:40.366261",
     "status": "completed"
    },
    "tags": []
   },
   "outputs": [],
   "source": [
    "# Generate degree-preserving randomized graph\n",
    "degree_seq = [d for _, d in G.degree()]\n",
    "null_model = nx.configuration_model(degree_seq)\n",
    "\n",
    "# Convert to simple graph (remove parallel edges/self-loops)\n",
    "null_model = nx.Graph(null_model)\n",
    "null_model.remove_edges_from(nx.selfloop_edges(null_model))\n",
    "\n",
    "# Calculate null model metrics\n",
    "clustering_null = nx.average_clustering(null_model)\n",
    "lcc_null = max(nx.connected_components(null_model), key=len)\n",
    "path_length_null = nx.average_shortest_path_length(null_model.subgraph(lcc_null))"
   ]
  },
  {
   "cell_type": "markdown",
   "id": "11878242",
   "metadata": {
    "papermill": {
     "duration": 0.00881,
     "end_time": "2025-04-05T01:25:41.234474",
     "exception": false,
     "start_time": "2025-04-05T01:25:41.225664",
     "status": "completed"
    },
    "tags": []
   },
   "source": [
    "### Compare Real vs. Null"
   ]
  },
  {
   "cell_type": "code",
   "execution_count": 11,
   "id": "879ea42c",
   "metadata": {
    "execution": {
     "iopub.execute_input": "2025-04-05T01:25:41.253302Z",
     "iopub.status.busy": "2025-04-05T01:25:41.252974Z",
     "iopub.status.idle": "2025-04-05T01:25:41.256134Z",
     "shell.execute_reply": "2025-04-05T01:25:41.255358Z"
    },
    "papermill": {
     "duration": 0.014027,
     "end_time": "2025-04-05T01:25:41.257396",
     "exception": false,
     "start_time": "2025-04-05T01:25:41.243369",
     "status": "completed"
    },
    "tags": []
   },
   "outputs": [],
   "source": [
    "# # Clustering comparison\n",
    "# z_clustering = (clustering - np.mean(clustering_er)) / np.std(clustering_er)\n",
    "\n",
    "# # Path length comparison\n",
    "# z_path = (avg_path_length - np.mean(path_length_er)) / np.std(path_length_er)\n",
    "\n",
    "# print(\"\\nNull Model Comparison:\")\n",
    "# print(f\"- Clustering z-score: {z_clustering:.2f}\")\n",
    "# print(f\"- Path length z-score: {z_path:.2f}\")"
   ]
  },
  {
   "cell_type": "code",
   "execution_count": 12,
   "id": "86f8b50b",
   "metadata": {
    "execution": {
     "iopub.execute_input": "2025-04-05T01:25:41.275792Z",
     "iopub.status.busy": "2025-04-05T01:25:41.275553Z",
     "iopub.status.idle": "2025-04-05T01:25:41.280009Z",
     "shell.execute_reply": "2025-04-05T01:25:41.279238Z"
    },
    "papermill": {
     "duration": 0.014889,
     "end_time": "2025-04-05T01:25:41.281227",
     "exception": false,
     "start_time": "2025-04-05T01:25:41.266338",
     "status": "completed"
    },
    "tags": []
   },
   "outputs": [
    {
     "name": "stdout",
     "output_type": "stream",
     "text": [
      "\n",
      "Null Model Comparison (Configuration Model):\n",
      "- Real clustering: 0.508 vs. Null: 0.124\n",
      "- Real path length: 3.75 vs. Null: 2.60\n"
     ]
    }
   ],
   "source": [
    "print(\"\\nNull Model Comparison (Configuration Model):\")\n",
    "print(f\"- Real clustering: {clustering:.3f} vs. Null: {clustering_null:.3f}\")\n",
    "print(f\"- Real path length: {avg_path_length:.2f} vs. Null: {path_length_null:.2f}\")"
   ]
  },
  {
   "cell_type": "markdown",
   "id": "e9d8d7dc",
   "metadata": {
    "papermill": {
     "duration": 0.008526,
     "end_time": "2025-04-05T01:25:41.298528",
     "exception": false,
     "start_time": "2025-04-05T01:25:41.290002",
     "status": "completed"
    },
    "tags": []
   },
   "source": [
    "**Critical Findings**\n",
    "* **Clustering Coefficient:**\n",
    "    * The real network’s clustering is **0.508** above the Configuration (C) null model which is **0.147**.\n",
    "    * **Interpretation**: The real network’s clustering is **3.5× higher** than the null model.\n",
    "    * **Implication**: Friends of the ego node form **tightly-knit communities** (e.g., coworkers, family). This aligns with real-world social dynamics where individuals cluster into groups.\n",
    "* **Average Path Length**\n",
    "    * The real network’s path length is **3.75** longer than the Configuration model which is at **2.57**.\n",
    "    * **Interpretation**: The real network’s path length is **1.5× longer** than the null model.\n",
    "    * **Implication**: While the network has small-world properties (short paths relative to its size), the **presence of communities** increases the distance between nodes in different groups."
   ]
  },
  {
   "cell_type": "markdown",
   "id": "b0c37e88",
   "metadata": {
    "papermill": {
     "duration": 0.008582,
     "end_time": "2025-04-05T01:25:41.315904",
     "exception": false,
     "start_time": "2025-04-05T01:25:41.307322",
     "status": "completed"
    },
    "tags": []
   },
   "source": [
    "### Visualizations"
   ]
  },
  {
   "cell_type": "code",
   "execution_count": 13,
   "id": "77341c05",
   "metadata": {
    "execution": {
     "iopub.execute_input": "2025-04-05T01:25:41.334284Z",
     "iopub.status.busy": "2025-04-05T01:25:41.334012Z",
     "iopub.status.idle": "2025-04-05T01:25:43.155947Z",
     "shell.execute_reply": "2025-04-05T01:25:43.155093Z"
    },
    "papermill": {
     "duration": 1.83289,
     "end_time": "2025-04-05T01:25:43.157604",
     "exception": false,
     "start_time": "2025-04-05T01:25:41.324714",
     "status": "completed"
    },
    "tags": []
   },
   "outputs": [
    {
     "data": {
      "image/png": "[encoded data removed]",
      "text/plain": [
       "<Figure size 1200x800 with 4 Axes>"
      ]
     },
     "metadata": {},
     "output_type": "display_data"
    }
   ],
   "source": [
    "plt.figure(figsize=(12, 8))  # Adjusted for better aspect ratio\n",
    "\n",
    "# Degree distribution\n",
    "plt.subplot(221)  # Row 1, Col 1\n",
    "plt.hist(degrees, bins=30, edgecolor=\"k\", alpha=0.7)\n",
    "plt.title(\"Degree Distribution\")\n",
    "plt.xlabel(\"Degree\")\n",
    "plt.ylabel(\"Count\")\n",
    "\n",
    "# Clustering comparison\n",
    "plt.subplot(222)  # Row 1, Col 2\n",
    "plt.hist(clustering_null, bins=20, edgecolor=\"k\", alpha=0.7, label=\"Configuration Model\")\n",
    "plt.axvline(clustering, color=\"r\", linestyle=\"--\", label=\"Real Network\")\n",
    "plt.title(\"Clustering Coefficient\")\n",
    "plt.legend()\n",
    "\n",
    "# Path length comparison\n",
    "plt.subplot(223)  # Row 2, Col 1\n",
    "plt.hist(path_length_null, bins=20, edgecolor=\"k\", alpha=0.7, label=\"Configuration Model\")\n",
    "plt.axvline(avg_path_length, color=\"r\", linestyle=\"--\", label=\"Real Network\")\n",
    "plt.title(\"Average Path Length\")\n",
    "plt.legend()\n",
    "\n",
    "# Network Structure (Excluding Ego Node)\n",
    "plt.subplot(224)  # Row 2, Col 2\n",
    "pos = nx.spring_layout(G, seed=42)\n",
    "nx.draw_networkx_nodes(G, pos, node_size=15, alpha=0.8)  # Reduced node size\n",
    "nx.draw_networkx_edges(G, pos, alpha=0.03, edge_color=\"gray\")  # More transparent edges\n",
    "plt.title(\"Network Structure\")\n",
    "plt.axis(\"off\")\n",
    "\n",
    "# Adjust spacing\n",
    "plt.subplots_adjust(hspace=0.3, wspace=0.3)  # Control vertical/horizontal spacing\n",
    "plt.tight_layout()\n",
    "\n",
    "plt.savefig(\"/kaggle/working/part1_results.png\")\n",
    "plt.show()"
   ]
  },
  {
   "cell_type": "markdown",
   "id": "bba47d9d",
   "metadata": {
    "papermill": {
     "duration": 0.010397,
     "end_time": "2025-04-05T01:25:43.187747",
     "exception": false,
     "start_time": "2025-04-05T01:25:43.177350",
     "status": "completed"
    },
    "tags": []
   },
   "source": [
    "**Inferences from Data & Visualizations**\n",
    "* **Degree Distribution (Top-Left)**\n",
    "    * **Observation**: The distribution is **right-skewed**, with most nodes having low degrees (5–15 connections) and a few hubs with very high degrees (30+).\n",
    "    * **Implication**:\n",
    "      * The network follows a **scale-free-like structure**, where a small number of hubs (highly connected individuals) act as central connectors.\n",
    "      * These hubs are critical for information spread, as they can reach many nodes directly.\n",
    "\n",
    "* **Clustering Coefficient (Top-Right)**\n",
    "     * **Observation**: TThe real network’s clustering coefficient **(0.51)** is **3.5× higher** than the null model **(0.15)**.\n",
    "    * **Implication**:\n",
    "      * Friends of the ego node form **tightly-knit communities** (e.g., family, coworkers).\n",
    "      * This aligns with real-world social behavior where individuals cluster into groups.\n",
    "\n",
    "* **Average Path Length (Bottom-Left)**\n",
    "     * **Observation**: The real network has a longer average path length (3.75) compared to the null model (2.57).\n",
    "    * **Implication**:\n",
    "      * While the network exhibits **small-world properties** (short paths relative to its size), the presence of communities increases the distance between nodes in different groups.\n",
    "      * Information may spread quickly within communities but slower across them\n",
    "\n",
    "* **Clustering Coefficient (Top-Right)**\n",
    "     * **Observation**: The visualization shows a **modular structure** with dense clusters (likely communities) sparsely connected to each other.\n",
    "    * **Implication**:\n",
    "      * Communities represent distinct social circles (e.g., friends from work vs. family).\n",
    "      * **Bridge nodes** (not immediately visible here but hinted by path length) likely connect these clusters."
   ]
  },
  {
   "cell_type": "markdown",
   "id": "99727187",
   "metadata": {
    "papermill": {
     "duration": 0.010191,
     "end_time": "2025-04-05T01:25:43.208311",
     "exception": false,
     "start_time": "2025-04-05T01:25:43.198120",
     "status": "completed"
    },
    "tags": []
   },
   "source": [
    "### Synthesis & Practical Insights\n",
    "1. **Targeting Strategy**:\n",
    "    * **Hubs** (high-degree nodes) are ideal for broad, rapid outreach within communities.\n",
    "    * **Bridge nodes** (to be identified later) are critical for cross-community influence.\n",
    "2. **Structural Advantage**:\n",
    "    * The network’s **high clustering** and **modularity** make it resilient to random failures but vulnerable to targeted hub removal.\n",
    "3. **Null Model Validation**:\n",
    "    * The stark differences from the null model confirm the network’s **socially driven structure**, not random noise."
   ]
  },
  {
   "cell_type": "markdown",
   "id": "7541d8fa",
   "metadata": {
    "papermill": {
     "duration": 0.009964,
     "end_time": "2025-04-05T01:25:43.228438",
     "exception": false,
     "start_time": "2025-04-05T01:25:43.218474",
     "status": "completed"
    },
    "tags": []
   },
   "source": [
    "### Key Takeaways\n",
    "1. **Community-Driven Structure**:\n",
    "    * High clustering and longer paths suggest a **modular network** with distinct communities.\n",
    "    * Example: Friends from work, school, and family form separate clusters.\n",
    "2. **Small-World Tradeoff**:\n",
    "    * The network balances clustering and connectivity:\n",
    "        * **Local**: Dense communities (high clustering).\n",
    "        * **Global**: Efficient but not maximally random (paths are longer than null model).\n",
    "3. **Null Model Validation**:\n",
    "    * The configuration model preserves node degrees but randomizes connections.\n",
    "    * The stark difference in clustering confirms the network’s **non-random, socially meaningful structure**."
   ]
  },
  {
   "cell_type": "markdown",
   "id": "b054d1c1",
   "metadata": {
    "papermill": {
     "duration": 0.010105,
     "end_time": "2025-04-05T01:25:43.248746",
     "exception": false,
     "start_time": "2025-04-05T01:25:43.238641",
     "status": "completed"
    },
    "tags": []
   },
   "source": [
    "### Why This Matters for Your Project\n",
    "1. **Political Outreach**: Target **bridge nodes** (users connecting communities) to maximize cross-community influence.\n",
    "2. **Validation**: The structural properties confirm the network is representative of real social systems, not random noise."
   ]
  },
  {
   "cell_type": "markdown",
   "id": "0430cd89",
   "metadata": {
    "papermill": {
     "duration": 0.009886,
     "end_time": "2025-04-05T01:25:43.268802",
     "exception": false,
     "start_time": "2025-04-05T01:25:43.258916",
     "status": "completed"
    },
    "tags": []
   },
   "source": [
    "### Why We Switched from Erdős-Rényi (ER) to Configuration Model\n",
    "1. **Problem with the ER Model**: The Erdős-Rényi model generates random networks where edges are placed uniformly and independently. While useful for basic comparisons, it has two critical limitations:\n",
    "    * **Ignores Degree Distribution**: ER does not preserve the real network’s **heterogeneous degree structure** (e.g., hubs with many connections, most nodes with few).\n",
    "    * **Fails to Capture Social Realities**: Social networks like Facebook are **not random**—they have communities, hubs, and clustering. ER’s Poisson-like degree distribution poorly matches real-world social graphs.\n",
    "    \n",
    "2. **Advantages of the Configuration Model**: The configuration model **preserves the exact degree sequence** of the real network while randomizing connections. This allows us to:\n",
    "    * **Isolate Structural Effects**: By keeping degrees fixed, we test if clustering/path length arise **from social organization** (not just degree distribution).\n",
    "    * **Benchmark Meaningfully**: Differences in clustering/path length now reflect **true structural properties** (e.g., communities, small-worldness)."
   ]
  },
  {
   "cell_type": "markdown",
   "id": "fbd469d8",
   "metadata": {
    "papermill": {
     "duration": 0.010131,
     "end_time": "2025-04-05T01:25:43.289138",
     "exception": false,
     "start_time": "2025-04-05T01:25:43.279007",
     "status": "completed"
    },
    "tags": []
   },
   "source": [
    "#### Limitations to Note\n",
    "* **Ego Network Bias**: The dataset is a partial snapshot centered on one user. Conclusions may not generalize to the full Facebook graph."
   ]
  },
  {
   "cell_type": "markdown",
   "id": "269a7a21",
   "metadata": {
    "papermill": {
     "duration": 0.010141,
     "end_time": "2025-04-05T01:25:43.309417",
     "exception": false,
     "start_time": "2025-04-05T01:25:43.299276",
     "status": "completed"
    },
    "tags": []
   },
   "source": [
    "### Community Detection (Louvain)"
   ]
  },
  {
   "cell_type": "code",
   "execution_count": 14,
   "id": "9599e57b",
   "metadata": {
    "execution": {
     "iopub.execute_input": "2025-04-05T01:25:43.330950Z",
     "iopub.status.busy": "2025-04-05T01:25:43.330634Z",
     "iopub.status.idle": "2025-04-05T01:25:43.399499Z",
     "shell.execute_reply": "2025-04-05T01:25:43.398285Z"
    },
    "papermill": {
     "duration": 0.081865,
     "end_time": "2025-04-05T01:25:43.401469",
     "exception": false,
     "start_time": "2025-04-05T01:25:43.319604",
     "status": "completed"
    },
    "tags": []
   },
   "outputs": [
    {
     "name": "stdout",
     "output_type": "stream",
     "text": [
      "Detected 14 algorithmic communities\n"
     ]
    }
   ],
   "source": [
    "# Run Louvain algorithm\n",
    "partition = community_louvain.best_partition(G)\n",
    "communities = {}\n",
    "for node, comm_id in partition.items():\n",
    "    communities.setdefault(comm_id, []).append(node)\n",
    "\n",
    "print(f\"Detected {len(communities)} algorithmic communities\")"
   ]
  },
  {
   "cell_type": "markdown",
   "id": "ba59c77f",
   "metadata": {
    "papermill": {
     "duration": 0.014719,
     "end_time": "2025-04-05T01:25:43.438361",
     "exception": false,
     "start_time": "2025-04-05T01:25:43.423642",
     "status": "completed"
    },
    "tags": []
   },
   "source": [
    "### Compare to User-Defined Circles"
   ]
  },
  {
   "cell_type": "code",
   "execution_count": 15,
   "id": "496bb4f9",
   "metadata": {
    "execution": {
     "iopub.execute_input": "2025-04-05T01:25:43.463741Z",
     "iopub.status.busy": "2025-04-05T01:25:43.463422Z",
     "iopub.status.idle": "2025-04-05T01:25:43.477289Z",
     "shell.execute_reply": "2025-04-05T01:25:43.476253Z"
    },
    "papermill": {
     "duration": 0.028317,
     "end_time": "2025-04-05T01:25:43.478843",
     "exception": false,
     "start_time": "2025-04-05T01:25:43.450526",
     "status": "completed"
    },
    "tags": []
   },
   "outputs": [
    {
     "name": "stdout",
     "output_type": "stream",
     "text": [
      "Adjusted Rand Index (Louvain vs. Circles): 0.155\n"
     ]
    }
   ],
   "source": [
    "# Convert circles/communities to label lists for ARI\n",
    "true_labels = []\n",
    "pred_labels = []\n",
    "\n",
    "# Assign nodes to their groups\n",
    "all_nodes = list(G.nodes)\n",
    "node_to_comm = {node: idx for idx, comm in communities.items() for node in comm}\n",
    "node_to_circle = {node: idx for idx, (_, nodes) in enumerate(circles.items()) for node in nodes}\n",
    "\n",
    "# Handle nodes not in any circle (assign -1)\n",
    "for node in all_nodes:\n",
    "    true_labels.append(node_to_circle.get(node, -1))\n",
    "    pred_labels.append(node_to_comm.get(node, -1))\n",
    "\n",
    "# Calculate Adjusted Rand Index (ARI)\n",
    "ari = adjusted_rand_score(true_labels, pred_labels)\n",
    "print(f\"Adjusted Rand Index (Louvain vs. Circles): {ari:.3f}\")"
   ]
  },
  {
   "cell_type": "markdown",
   "id": "6155445f",
   "metadata": {
    "papermill": {
     "duration": 0.012011,
     "end_time": "2025-04-05T01:25:43.504987",
     "exception": false,
     "start_time": "2025-04-05T01:25:43.492976",
     "status": "completed"
    },
    "tags": []
   },
   "source": [
    "* **Algorithmic Communities Detected**: 13\n",
    "* **Adjusted Rand Index (ARI)**: 0.221; Low alignment between Louvain communities and user-defined circles.\n",
    "    * **Interpretation**: Algorithmic communities now partially overlap with user-defined circles (e.g., some structural clusters align with social roles like \"family\").\n",
    "    * **Implication**: Structural targeting can capture some social groupings but requires validation against ground-truth labels."
   ]
  },
  {
   "cell_type": "markdown",
   "id": "7450a442",
   "metadata": {
    "papermill": {
     "duration": 0.011964,
     "end_time": "2025-04-05T01:25:43.529190",
     "exception": false,
     "start_time": "2025-04-05T01:25:43.517226",
     "status": "completed"
    },
    "tags": []
   },
   "source": [
    "### Visualize Communities vs. User Circles"
   ]
  },
  {
   "cell_type": "code",
   "execution_count": 16,
   "id": "e2d08a5f",
   "metadata": {
    "execution": {
     "iopub.execute_input": "2025-04-05T01:25:43.596578Z",
     "iopub.status.busy": "2025-04-05T01:25:43.596269Z",
     "iopub.status.idle": "2025-04-05T01:25:44.534421Z",
     "shell.execute_reply": "2025-04-05T01:25:44.533528Z"
    },
    "papermill": {
     "duration": 0.994837,
     "end_time": "2025-04-05T01:25:44.536068",
     "exception": false,
     "start_time": "2025-04-05T01:25:43.541231",
     "status": "completed"
    },
    "tags": []
   },
   "outputs": [
    {
     "data": {
      "image/png": "[encoded data removed]",
      "text/plain": [
       "<Figure size 1500x600 with 2 Axes>"
      ]
     },
     "metadata": {},
     "output_type": "display_data"
    }
   ],
   "source": [
    "# Plot Louvain communities\n",
    "plt.figure(figsize=(15, 6))\n",
    "pos = nx.spring_layout(G, seed=42)\n",
    "\n",
    "plt.subplot(121)\n",
    "nx.draw_networkx_nodes(G, pos, node_color=list(partition.values()), cmap=plt.cm.tab20, node_size=20)\n",
    "nx.draw_networkx_edges(G, pos, alpha=0.1, edge_color=\"gray\")\n",
    "plt.title(\"Algorithmic Communities (Louvain)\")\n",
    "\n",
    "# Plot user-defined circles\n",
    "plt.subplot(122)\n",
    "circle_labels = {node: idx for idx, (_, nodes) in enumerate(circles.items()) for node in nodes}\n",
    "nx.draw_networkx_nodes(G, pos, node_color=[circle_labels.get(n, -1) for n in G.nodes()], cmap=plt.cm.tab20, node_size=20)\n",
    "nx.draw_networkx_edges(G, pos, alpha=0.1, edge_color=\"gray\")\n",
    "plt.title(\"User-Defined Circles\")\n",
    "\n",
    "plt.tight_layout()\n",
    "plt.savefig(\"/kaggle/working/community_comparison.png\")\n",
    "plt.show()"
   ]
  },
  {
   "cell_type": "markdown",
   "id": "ca3bb9b9",
   "metadata": {
    "papermill": {
     "duration": 0.011613,
     "end_time": "2025-04-05T01:25:44.560234",
     "exception": false,
     "start_time": "2025-04-05T01:25:44.548621",
     "status": "completed"
    },
    "tags": []
   },
   "source": [
    "### Centrality Analysis"
   ]
  },
  {
   "cell_type": "code",
   "execution_count": 17,
   "id": "e04d502a",
   "metadata": {
    "execution": {
     "iopub.execute_input": "2025-04-05T01:25:44.584519Z",
     "iopub.status.busy": "2025-04-05T01:25:44.584243Z",
     "iopub.status.idle": "2025-04-05T01:25:44.701879Z",
     "shell.execute_reply": "2025-04-05T01:25:44.700873Z"
    },
    "papermill": {
     "duration": 0.131572,
     "end_time": "2025-04-05T01:25:44.703388",
     "exception": false,
     "start_time": "2025-04-05T01:25:44.571816",
     "status": "completed"
    },
    "tags": []
   },
   "outputs": [
    {
     "name": "stdout",
     "output_type": "stream",
     "text": [
      "\n",
      "Top nodes per community:\n",
      "   community  node    degree\n",
      "0          0    67  0.628205\n",
      "1          0    26  0.602564\n",
      "2          0     9  0.576923\n",
      "3          1   346  0.687500\n",
      "4          2   119  0.565217\n"
     ]
    }
   ],
   "source": [
    "# Calculate centrality for nodes IN THEIR COMMUNITIES\n",
    "centrality_data = []\n",
    "\n",
    "for comm_id, nodes in communities.items():\n",
    "    subgraph = G.subgraph(nodes)\n",
    "    \n",
    "    # Degree centrality\n",
    "    degree_cent = nx.degree_centrality(subgraph)\n",
    "    \n",
    "    # Betweenness centrality (handle small communities)\n",
    "    try:\n",
    "        k_val = min(10, len(subgraph))  # Ensure k ≤ community size\n",
    "        betweenness_cent = nx.betweenness_centrality(subgraph, k=k_val) if len(subgraph) > 1 else {node: 0 for node in subgraph}\n",
    "    except Exception as e:\n",
    "        print(f\"Error in community {comm_id} (size={len(subgraph)}): {e}\")\n",
    "        betweenness_cent = {node: 0 for node in subgraph}\n",
    "    \n",
    "    # Eigenvector centrality\n",
    "    try:\n",
    "        eigen_cent = nx.eigenvector_centrality(subgraph, max_iter=1000)\n",
    "    except nx.PowerIterationFailedConvergence:\n",
    "        eigen_cent = {node: 0 for node in subgraph}  # Fallback\n",
    "    \n",
    "    for node in nodes:\n",
    "        centrality_data.append({\n",
    "            \"node\": node,\n",
    "            \"community\": comm_id,\n",
    "            \"degree\": degree_cent.get(node, 0),\n",
    "            \"betweenness\": betweenness_cent.get(node, 0),\n",
    "            \"eigenvector\": eigen_cent.get(node, 0)\n",
    "        })\n",
    "\n",
    "# Convert to DataFrame\n",
    "df_centrality = pd.DataFrame(centrality_data)\n",
    "\n",
    "# Identify top 5% nodes in each community\n",
    "# Explicitly include \"community\" to silence the warning\n",
    "top_nodes = df_centrality.groupby(\"community\")[[\"community\", \"node\", \"degree\"]].apply(\n",
    "    lambda x: x.nlargest(int(0.05 * len(x)), \"degree\")\n",
    ").reset_index(drop=True)\n",
    "\n",
    "print(\"\\nTop nodes per community:\")\n",
    "print(top_nodes.head())\n"
   ]
  },
  {
   "cell_type": "markdown",
   "id": "4e48de7f",
   "metadata": {
    "papermill": {
     "duration": 0.011551,
     "end_time": "2025-04-05T01:25:44.727619",
     "exception": false,
     "start_time": "2025-04-05T01:25:44.716068",
     "status": "completed"
    },
    "tags": []
   },
   "source": [
    "* **Key (Top) Nodes**:\n",
    "    * **Node 322 (Community 0)**: Degree = 0.505 (local hub).\n",
    "    * **Node 53 (Community 0)**: Degree = 0.697 (most connected in its community).\n",
    "* **Centrality Distributions**:\n",
    "    * **Degree**: Right-skewed; indicating hubs (most nodes have low influence, a few hubs dominate).\n",
    "    * **Betweenness**: Sparse (limited bridge nodes between communities).\n",
    "    * **Eigenvector**: Correlated with degree, hubs are central in their subgraphs (highlighting influential subgraphs)."
   ]
  },
  {
   "cell_type": "markdown",
   "id": "3d164a9e",
   "metadata": {
    "papermill": {
     "duration": 0.011534,
     "end_time": "2025-04-05T01:25:44.750840",
     "exception": false,
     "start_time": "2025-04-05T01:25:44.739306",
     "status": "completed"
    },
    "tags": []
   },
   "source": [
    "#### Visualizations"
   ]
  },
  {
   "cell_type": "code",
   "execution_count": 18,
   "id": "5a590291",
   "metadata": {
    "execution": {
     "iopub.execute_input": "2025-04-05T01:25:44.775476Z",
     "iopub.status.busy": "2025-04-05T01:25:44.775160Z",
     "iopub.status.idle": "2025-04-05T01:25:45.374086Z",
     "shell.execute_reply": "2025-04-05T01:25:45.373273Z"
    },
    "papermill": {
     "duration": 0.613061,
     "end_time": "2025-04-05T01:25:45.375603",
     "exception": false,
     "start_time": "2025-04-05T01:25:44.762542",
     "status": "completed"
    },
    "tags": []
   },
   "outputs": [
    {
     "data": {
      "image/png": "[encoded data removed]",
      "text/plain": [
       "<Figure size 1500x500 with 2 Axes>"
      ]
     },
     "metadata": {},
     "output_type": "display_data"
    }
   ],
   "source": [
    "plt.figure(figsize=(15, 5))\n",
    "\n",
    "# Community sizes\n",
    "plt.subplot(131)\n",
    "comm_sizes = [len(nodes) for nodes in communities.values()]\n",
    "circle_sizes = [len(nodes) for nodes in circles.values()]\n",
    "plt.bar([\"Louvain\", \"User Circles\"], [np.mean(comm_sizes), np.mean(circle_sizes)])\n",
    "plt.title(\"Average Community Size\")\n",
    "plt.ylabel(\"Nodes\")\n",
    "\n",
    "# Centrality distribution\n",
    "plt.subplot(132)\n",
    "for metric in [\"degree\", \"betweenness\", \"eigenvector\"]:\n",
    "    plt.hist(df_centrality[metric], bins=20, alpha=0.5, label=metric)\n",
    "plt.title(\"Centrality Distribution\")\n",
    "plt.legend()\n",
    "\n",
    "# Save outputs\n",
    "plt.tight_layout()\n",
    "plt.savefig(\"/kaggle/working/part2_results.png\")\n",
    "plt.show()"
   ]
  },
  {
   "cell_type": "markdown",
   "id": "47e3a421",
   "metadata": {
    "papermill": {
     "duration": 0.012414,
     "end_time": "2025-04-05T01:25:45.400998",
     "exception": false,
     "start_time": "2025-04-05T01:25:45.388584",
     "status": "completed"
    },
    "tags": []
   },
   "source": [
    "* **Community Size**:\n",
    "    * Louvain communities are larger (structural groupings; avg ~25 nodes).\n",
    "    * User circles are smaller (focused social roles; avg ~14 nodes).\n",
    "    * **Implication**: Algorithmic communities aggregate multiple social circles (e.g., merging \"family\" and \"colleagues\" if densely connected)\n",
    "* **Centrality Distribution**:\n",
    "    1. **Degree Centrality**:\n",
    "        * **Observation**: The distribution is right-skewed, with most nodes having low degrees (0.0–0.2) and a few hubs (0.5–0.7).\n",
    "        * **Implication**:\n",
    "           * **Hubs Dominate**: A small fraction of nodes (e.g., Node 53 with degree 0.697) act as critical connectors within their communities.\n",
    "           * **Targeting Strategy**: Prioritize these hubs for rapid local influence.\n",
    "\n",
    "    2. **Betweenness Centrality**\n",
    "        * **Observation**: The distribution is sparse, with most nodes scoring near 0 and very few above 0.1.\n",
    "        * **Implication**:     \n",
    "            * **Limited Bridges**: Few nodes connect different communities.\n",
    "            * **Limitation**: Cross-community influence will require targeting multiple hubs.\n",
    "    3. **Eigenvector Centrality**\n",
    "        * **Observation**: Distribution peaks at low values (0.0–0.2) but correlates with degree.\n",
    "        * **Implication**:\n",
    "            * **Hub Influence**\n",
    "            * **Network Resilience**: Communities rely heavily on hubs—removing them could fragment the network.: Nodes with high degree centrality (e.g., Node 53) also score high in eigenvector centrality, indicating they are connected to other influential nodes."
   ]
  },
  {
   "cell_type": "markdown",
   "id": "20d2d5ea",
   "metadata": {
    "papermill": {
     "duration": 0.013151,
     "end_time": "2025-04-05T01:25:45.426587",
     "exception": false,
     "start_time": "2025-04-05T01:25:45.413436",
     "status": "completed"
    },
    "tags": []
   },
   "source": [
    "### Key Takeaways\n",
    "* **Structural Hierarchy**: Hubs (high degree) > Bridges (high betweenness) > Peripheral Nodes (low centrality).\n",
    "* **Practical Insight**:\n",
    "    * Use degree centrality as the primary metric for outreach—it captures both direct reach and eigenvector influence.\n",
    "    * Supplement with user-defined circles (e.g., target hubs in \"Political\" circles) to add social context."
   ]
  },
  {
   "cell_type": "markdown",
   "id": "652a962b",
   "metadata": {
    "papermill": {
     "duration": 0.012056,
     "end_time": "2025-04-05T01:25:45.451349",
     "exception": false,
     "start_time": "2025-04-05T01:25:45.439293",
     "status": "completed"
    },
    "tags": []
   },
   "source": [
    "Highlights a hierarchical structure: a few hubs (e.g., Node 53, degree = 0.697) dominate local influence, while sparse betweenness scores indicate limited bridges between communities. This suggests outreach should prioritize hubs within algorithmically detected communities, even if they don’t fully align with user-defined circles (ARI = 0.221)."
   ]
  },
  {
   "cell_type": "markdown",
   "id": "8db7b33a",
   "metadata": {
    "papermill": {
     "duration": 0.012072,
     "end_time": "2025-04-05T01:25:45.475614",
     "exception": false,
     "start_time": "2025-04-05T01:25:45.463542",
     "status": "completed"
    },
    "tags": []
   },
   "source": [
    "### Interactive Community & Centrality Visualization"
   ]
  },
  {
   "cell_type": "code",
   "execution_count": 19,
   "id": "35662723",
   "metadata": {
    "execution": {
     "iopub.execute_input": "2025-04-05T01:25:45.501339Z",
     "iopub.status.busy": "2025-04-05T01:25:45.501021Z",
     "iopub.status.idle": "2025-04-05T01:25:45.863341Z",
     "shell.execute_reply": "2025-04-05T01:25:45.862480Z"
    },
    "papermill": {
     "duration": 0.376556,
     "end_time": "2025-04-05T01:25:45.864486",
     "exception": false,
     "start_time": "2025-04-05T01:25:45.487930",
     "status": "completed"
    },
    "tags": []
   },
   "outputs": [
    {
     "name": "stdout",
     "output_type": "stream",
     "text": [
      "Warning: When  cdn_resources is 'local' jupyter notebook has issues displaying graphics on chrome/safari. Use cdn_resources='in_line' or cdn_resources='remote' if you have issues viewing graphics in a notebook.\n",
      "day2_communities.html\n"
     ]
    },
    {
     "data": {
      "text/html": [
       "\n",
       "        <iframe\n",
       "            width=\"100%\"\n",
       "            height=\"600px\"\n",
       "            src=\"day2_communities.html\"\n",
       "            frameborder=\"0\"\n",
       "            allowfullscreen\n",
       "            \n",
       "        ></iframe>\n",
       "        "
      ],
      "text/plain": [
       "<IPython.lib.display.IFrame at 0x7ff22094e8f0>"
      ]
     },
     "execution_count": 19,
     "metadata": {},
     "output_type": "execute_result"
    }
   ],
   "source": [
    "# Assign colors/sizes\n",
    "colors = list(mcolors.TABLEAU_COLORS.values())\n",
    "for node in G.nodes():\n",
    "    # Color by community\n",
    "    G.nodes[node][\"color\"] = colors[partition[node] % len(colors)]\n",
    "    # Default size\n",
    "    G.nodes[node][\"size\"] = 10\n",
    "\n",
    "# Highlight top nodes in red\n",
    "for node in top_nodes[\"node\"]:\n",
    "    G.nodes[node][\"size\"] = 30\n",
    "    G.nodes[node][\"color\"] = \"#ff0000\"\n",
    "\n",
    "# Generate plot\n",
    "net = Network(\n",
    "    notebook=True, \n",
    "    height=\"600px\", \n",
    "    width=\"100%\",\n",
    "    bgcolor=\"#222222\", # for better visualization\n",
    "    font_color=\"white\"\n",
    ")\n",
    "net.from_nx(G)\n",
    "net.show(\"day2_communities.html\")"
   ]
  },
  {
   "cell_type": "code",
   "execution_count": 20,
   "id": "46e24786",
   "metadata": {
    "execution": {
     "iopub.execute_input": "2025-04-05T01:25:45.890756Z",
     "iopub.status.busy": "2025-04-05T01:25:45.890519Z",
     "iopub.status.idle": "2025-04-05T01:25:45.893834Z",
     "shell.execute_reply": "2025-04-05T01:25:45.893235Z"
    },
    "papermill": {
     "duration": 0.017759,
     "end_time": "2025-04-05T01:25:45.895047",
     "exception": false,
     "start_time": "2025-04-05T01:25:45.877288",
     "status": "completed"
    },
    "tags": []
   },
   "outputs": [],
   "source": [
    "# Save top nodes for later\n",
    "# top_nodes.to_csv(\"/kaggle/working/top_nodes.csv\", index=False)"
   ]
  },
  {
   "cell_type": "markdown",
   "id": "7a61c2c9",
   "metadata": {
    "papermill": {
     "duration": 0.012213,
     "end_time": "2025-04-05T01:25:45.919761",
     "exception": false,
     "start_time": "2025-04-05T01:25:45.907548",
     "status": "completed"
    },
    "tags": []
   },
   "source": [
    "### Critical Analysis\n",
    "* ARI Score: Quantifies overlap between Louvain communities and user circles\n",
    "* Centrality Metrics: Degree, betweenness (approximated), eigenvector\n",
    "* Top 5% Nodes: Identifies high-degree targets per community\n",
    "\n"
   ]
  },
  {
   "cell_type": "markdown",
   "id": "605a5c9c",
   "metadata": {
    "papermill": {
     "duration": 0.012463,
     "end_time": "2025-04-05T01:25:45.944725",
     "exception": false,
     "start_time": "2025-04-05T01:25:45.932262",
     "status": "completed"
    },
    "tags": []
   },
   "source": [
    "### Implications for Political Outreach\n",
    "* **Targeting Strategy**:\n",
    "    * Use high-degree hubs (e.g., Node 346) for broad reach.\n",
    "    * Validate against user circles to ensure relevance (low ARI suggests structural targeting alone is insufficient).\n",
    "* **Hybrid Approach**: Combine algorithmic efficiency with user-defined social context."
   ]
  },
  {
   "cell_type": "markdown",
   "id": "f47525fa",
   "metadata": {
    "papermill": {
     "duration": 0.012123,
     "end_time": "2025-04-05T01:25:45.969160",
     "exception": false,
     "start_time": "2025-04-05T01:25:45.957037",
     "status": "completed"
    },
    "tags": []
   },
   "source": [
    "### Threshold Model Function"
   ]
  },
  {
   "cell_type": "code",
   "execution_count": 21,
   "id": "a39dbc11",
   "metadata": {
    "execution": {
     "iopub.execute_input": "2025-04-05T01:25:45.995289Z",
     "iopub.status.busy": "2025-04-05T01:25:45.994989Z",
     "iopub.status.idle": "2025-04-05T01:25:45.999934Z",
     "shell.execute_reply": "2025-04-05T01:25:45.999269Z"
    },
    "papermill": {
     "duration": 0.019309,
     "end_time": "2025-04-05T01:25:46.001196",
     "exception": false,
     "start_time": "2025-04-05T01:25:45.981887",
     "status": "completed"
    },
    "tags": []
   },
   "outputs": [],
   "source": [
    "def threshold_model(G, seeds, threshold=0.2):\n",
    "    activated = set(seeds)\n",
    "    new_activations = set(seeds)\n",
    "    steps = [len(activated)]  # Track activation over time\n",
    "    \n",
    "    while new_activations:\n",
    "        candidates = set()\n",
    "        for node in new_activations:\n",
    "            neighbors = list(G.neighbors(node))\n",
    "            for neighbor in neighbors:\n",
    "                if neighbor not in activated:\n",
    "                    active_neighbors = len([n for n in G.neighbors(neighbor) if n in activated])\n",
    "                    degree = G.degree(neighbor)\n",
    "                    if degree == 0:\n",
    "                        continue  # Avoid division by zero\n",
    "                    if active_neighbors / degree >= threshold:\n",
    "                        candidates.add(neighbor)\n",
    "        new_activations = candidates\n",
    "        activated.update(new_activations)\n",
    "        steps.append(len(activated))\n",
    "    \n",
    "    return steps"
   ]
  },
  {
   "cell_type": "code",
   "execution_count": 22,
   "id": "84db3d06",
   "metadata": {
    "execution": {
     "iopub.execute_input": "2025-04-05T01:25:46.026840Z",
     "iopub.status.busy": "2025-04-05T01:25:46.026618Z",
     "iopub.status.idle": "2025-04-05T01:25:46.029586Z",
     "shell.execute_reply": "2025-04-05T01:25:46.028907Z"
    },
    "papermill": {
     "duration": 0.016962,
     "end_time": "2025-04-05T01:25:46.030780",
     "exception": false,
     "start_time": "2025-04-05T01:25:46.013818",
     "status": "completed"
    },
    "tags": []
   },
   "outputs": [],
   "source": [
    "# def threshold_model(G, seeds, threshold=0.2):\n",
    "#     activated = set(seeds)\n",
    "#     new_activations = set(seeds)\n",
    "#     activation_steps = [set(activated)]  # Track sets of activated nodes\n",
    "\n",
    "#     while new_activations:\n",
    "#         candidates = set()\n",
    "#         for node in new_activations:\n",
    "#             for neighbor in G.neighbors(node):\n",
    "#                 if neighbor not in activated:\n",
    "#                     active_neighbors = len([n for n in G.neighbors(neighbor) if n in activated])\n",
    "#                     if G.degree(neighbor) == 0:\n",
    "#                         continue  # Avoid division by zero\n",
    "#                     if active_neighbors / G.degree(neighbor) >= threshold:\n",
    "#                         candidates.add(neighbor)\n",
    "#         new_activations = candidates\n",
    "#         activated.update(new_activations)\n",
    "#         activation_steps.append(set(activated))  # Save the current state\n",
    "\n",
    "#     return activation_steps"
   ]
  },
  {
   "cell_type": "markdown",
   "id": "5bea465b",
   "metadata": {
    "papermill": {
     "duration": 0.012471,
     "end_time": "2025-04-05T01:25:46.055890",
     "exception": false,
     "start_time": "2025-04-05T01:25:46.043419",
     "status": "completed"
    },
    "tags": []
   },
   "source": [
    "### Run Simulations"
   ]
  },
  {
   "cell_type": "code",
   "execution_count": 23,
   "id": "b9e290d9",
   "metadata": {
    "execution": {
     "iopub.execute_input": "2025-04-05T01:25:46.082302Z",
     "iopub.status.busy": "2025-04-05T01:25:46.082005Z",
     "iopub.status.idle": "2025-04-05T01:25:46.092500Z",
     "shell.execute_reply": "2025-04-05T01:25:46.091712Z"
    },
    "papermill": {
     "duration": 0.025157,
     "end_time": "2025-04-05T01:25:46.093715",
     "exception": false,
     "start_time": "2025-04-05T01:25:46.068558",
     "status": "completed"
    },
    "tags": []
   },
   "outputs": [
    {
     "name": "stdout",
     "output_type": "stream",
     "text": [
      "Number of seeds for fair comparison: 10\n"
     ]
    }
   ],
   "source": [
    "# Use the network (G) and top nodes\n",
    "# Targeted seeding (top nodes)\n",
    "target_seeds = top_nodes[\"node\"].tolist()\n",
    "target_steps = threshold_model(G, target_seeds)\n",
    "\n",
    "n_seeds = len(target_seeds)\n",
    "print(f\"Number of seeds for fair comparison: {n_seeds}\")\n",
    "\n",
    "# Random seeding (same number of seeds)\n",
    "random_seeds = random.sample(list(G.nodes()), n_seeds)\n",
    "random_steps = threshold_model(G, random_seeds)"
   ]
  },
  {
   "cell_type": "markdown",
   "id": "f84ff9b7",
   "metadata": {
    "papermill": {
     "duration": 0.012184,
     "end_time": "2025-04-05T01:25:46.118984",
     "exception": false,
     "start_time": "2025-04-05T01:25:46.106800",
     "status": "completed"
    },
    "tags": []
   },
   "source": [
    "### Compare Results"
   ]
  },
  {
   "cell_type": "code",
   "execution_count": 24,
   "id": "80ef2303",
   "metadata": {
    "execution": {
     "iopub.execute_input": "2025-04-05T01:25:46.144952Z",
     "iopub.status.busy": "2025-04-05T01:25:46.144698Z",
     "iopub.status.idle": "2025-04-05T01:25:46.149232Z",
     "shell.execute_reply": "2025-04-05T01:25:46.148479Z"
    },
    "papermill": {
     "duration": 0.018921,
     "end_time": "2025-04-05T01:25:46.150398",
     "exception": false,
     "start_time": "2025-04-05T01:25:46.131477",
     "status": "completed"
    },
    "tags": []
   },
   "outputs": [
    {
     "name": "stdout",
     "output_type": "stream",
     "text": [
      "\n",
      "Final Coverage:\n",
      "- Targeted: 307 nodes (92.2%)\n",
      "- Random: 92 nodes (27.6%)\n"
     ]
    }
   ],
   "source": [
    "print(\"\\nFinal Coverage:\")\n",
    "print(f\"- Targeted: {target_steps[-1]} nodes ({target_steps[-1]/G.number_of_nodes()*100:.1f}%)\")\n",
    "print(f\"- Random: {random_steps[-1]} nodes ({random_steps[-1]/G.number_of_nodes()*100:.1f}%)\")"
   ]
  },
  {
   "cell_type": "markdown",
   "id": "6809e6a0",
   "metadata": {
    "papermill": {
     "duration": 0.012242,
     "end_time": "2025-04-05T01:25:46.175123",
     "exception": false,
     "start_time": "2025-04-05T01:25:46.162881",
     "status": "completed"
    },
    "tags": []
   },
   "source": [
    "### Visualize Activation Spread"
   ]
  },
  {
   "cell_type": "code",
   "execution_count": 25,
   "id": "7d117ad6",
   "metadata": {
    "execution": {
     "iopub.execute_input": "2025-04-05T01:25:46.200985Z",
     "iopub.status.busy": "2025-04-05T01:25:46.200739Z",
     "iopub.status.idle": "2025-04-05T01:25:46.538732Z",
     "shell.execute_reply": "2025-04-05T01:25:46.537911Z"
    },
    "papermill": {
     "duration": 0.352473,
     "end_time": "2025-04-05T01:25:46.540107",
     "exception": false,
     "start_time": "2025-04-05T01:25:46.187634",
     "status": "completed"
    },
    "tags": []
   },
   "outputs": [
    {
     "data": {
      "image/png": "[encoded data removed]",
      "text/plain": [
       "<Figure size 1000x600 with 1 Axes>"
      ]
     },
     "metadata": {},
     "output_type": "display_data"
    }
   ],
   "source": [
    "plt.figure(figsize=(10, 6))\n",
    "plt.plot(target_steps, label=\"Targeted Seeding\", color=\"blue\")\n",
    "plt.plot(random_steps, label=\"Random Seeding\", color=\"red\", linestyle=\"--\")\n",
    "plt.xlabel(\"Iteration\")\n",
    "plt.ylabel(\"Activated Nodes\")\n",
    "plt.title(\"Influence Spread Comparison\")\n",
    "plt.legend()\n",
    "plt.grid(True)\n",
    "plt.savefig(\"/kaggle/working/part3_results.png\")\n",
    "plt.show()"
   ]
  },
  {
   "cell_type": "markdown",
   "id": "9062800d",
   "metadata": {
    "papermill": {
     "duration": 0.014011,
     "end_time": "2025-04-05T01:25:46.568787",
     "exception": false,
     "start_time": "2025-04-05T01:25:46.554776",
     "status": "completed"
    },
    "tags": []
   },
   "source": [
    "### Final Coverage Analysis\n",
    "* **Targeted Seeding**: Activated **307/333 nodes (92.2%)**.\n",
    "    * Why This Matters:\n",
    "        * The top 5% central nodes (from eairlier analysis) acted as **super-spreaders**, leveraging the network’s small-world structure (high clustering, short paths) to trigger rapid cascades.\n",
    "        * The dense connectivity (avg. degree = 15.13) allowed influence to propagate efficiently.\n",
    "* **Random Seeding**: Activated **26/333 nodes (7.8%)**.\n",
    "   * **Why This Happened**:\n",
    "       * Random nodes lacked the centrality or community positioning needed to trigger large cascades.\n",
    "       * Reflects the **power-law-like degree distribution** (most nodes have low degree, few hubs dominate)."
   ]
  },
  {
   "cell_type": "markdown",
   "id": "81944ec3",
   "metadata": {
    "papermill": {
     "duration": 0.01359,
     "end_time": "2025-04-05T01:25:46.596197",
     "exception": false,
     "start_time": "2025-04-05T01:25:46.582607",
     "status": "completed"
    },
    "tags": []
   },
   "source": [
    "###  Activation Curve Insights\n",
    "* **Targeted Curve**:\n",
    "    * Steep initial growth (hubs activate many neighbors immediately).\n",
    "    * Saturation at ~92% suggests near-complete network coverage.\n",
    "* **Random Curve**:\n",
    "    * Flat growth due to poor seed selection.\n",
    "    * Most random seeds failed to activate neighbors beyond their immediate connections."
   ]
  },
  {
   "cell_type": "markdown",
   "id": "204f687f",
   "metadata": {
    "papermill": {
     "duration": 0.013038,
     "end_time": "2025-04-05T01:25:46.623506",
     "exception": false,
     "start_time": "2025-04-05T01:25:46.610468",
     "status": "completed"
    },
    "tags": []
   },
   "source": [
    "###  Why Such Extreme Results?\n",
    "* **Network Structure**:\n",
    "    * **Small-World Properties**: High clustering (0.508) and short paths (3.75) enable rapid spread.\n",
    "    * **Hub Dominance**: A few high-degree nodes (e.g., Node 346 with degree 0.73) act as gatekeepers.\n",
    "* **Threshold Model**:\n",
    "    * A 20% activation threshold is low, making cascades easier.\n",
    "    * No \"recovery\" mechanism (unlike SIR models) leads to irreversible activation."
   ]
  },
  {
   "cell_type": "markdown",
   "id": "c22d35b7",
   "metadata": {
    "papermill": {
     "duration": 0.01543,
     "end_time": "2025-04-05T01:25:46.653015",
     "exception": false,
     "start_time": "2025-04-05T01:25:46.637585",
     "status": "completed"
    },
    "tags": []
   },
   "source": [
    "### Limitations & Caveats\n",
    "* **Ego Network Bias**: The dataset is a partial snapshot of Facebook, centered on one user. Results may not generalize to the full network.\n",
    "* **Threshold Assumption**: Real-world influence may require higher thresholds or resistance to adoption.\n",
    "* **Deterministic Model**: The simulation assumes perfect information spread (no stochastic noise)."
   ]
  },
  {
   "cell_type": "markdown",
   "id": "763e7270",
   "metadata": {
    "papermill": {
     "duration": 0.013084,
     "end_time": "2025-04-05T01:25:46.681068",
     "exception": false,
     "start_time": "2025-04-05T01:25:46.667984",
     "status": "completed"
    },
    "tags": []
   },
   "source": [
    "### Implications for Political Outreach\n",
    "* **Cost Efficiency**: Targeting 5% of nodes (17 seeds) achieved 92% coverage vs. 7% for random.\n",
    "* **Strategic Targeting**: Prioritize hubs within communities (even if they don’t align with user-defined circles, per eairlier low ARI)."
   ]
  },
  {
   "cell_type": "markdown",
   "id": "4070d13a",
   "metadata": {
    "papermill": {
     "duration": 0.013253,
     "end_time": "2025-04-05T01:25:46.707787",
     "exception": false,
     "start_time": "2025-04-05T01:25:46.694534",
     "status": "completed"
    },
    "tags": []
   },
   "source": [
    "## How the Results Answer the Research Questions\n",
    "### 1. How do algorithmically detected communities align with user-defined circles, and which communities exhibit the highest potential for influence cascades?\n",
    "* **Alignment**: The **Adjusted Rand Index (ARI = 0.144)** revealed minimal overlap between Louvain communities and user-defined circles. Algorithmic communities capture structural patterns (e.g., dense clusters) but do not reflect explicit social roles like \"family\" or \"colleagues.\"\n",
    "* **Influence Potential**: Despite the mismatch, communities with **high-degree hubs** (e.g., Community 1, Node 346) drove cascades. Structural communities (not user-labeled ones) were critical for influence spread due to their **small-world properties** (high clustering, short paths).\n",
    "\n",
    "### 2. Which centrality measures best identify influential individuals for maximizing outreach?\n",
    "* **Degree Centrality Dominance**: Nodes like **346 (degree = 0.733)** and **67 (degree = 0.631)** emerged as super-spreaders. Degree centrality was the most effective metric, as hubs with many connections triggered rapid cascades.\n",
    "* **Betweenness & Eigenvector**: These metrics showed limited utility here. Betweenness bridges were rare (sparse distribution), and eigenvector centrality correlated with degree but added little incremental value.\n",
    "* **Key Insight**: In dense, small-world networks, **degree centrality** suffices for identifying influential nodes.\n",
    "\n",
    "### 3. What fraction of the network can be reached by targeting top-central individuals versus random targeting?\n",
    "*  **Targeted Seeding**: Activated **92.2% of nodes** (307/333), demonstrating the power of structural targeting.\n",
    "*  **Random Seeding**: Activated only **7.8% of nodes** (26/333), highlighting the inefficiency of untargeted approaches.\n",
    "*  **Why This Gap?**:\n",
    "    * The network’s **hub-and-spoke structure** allowed high-degree nodes to dominate spread.\n",
    "    * **Threshold model dynamics**: Low activation threshold (20%) and irreversible adoption amplified the advantage of targeting hubs.\n",
    "\n",
    "### Synthesis of Findings\n",
    "* **Network Structure Drives Success**: The small-world properties (clustering = 0.508, path length = 3.75) enabled efficient cascades.\n",
    "* **Algorithmic vs. Human Labels**: While user-defined circles were misaligned with detected communities, structural targeting still worked because hubs transcend social labels.\n",
    "* **Practical Implication**: Political campaigns should prioritize **degree-central nodes** in algorithmic communities, even if they don’t align with explicit social groups."
   ]
  },
  {
   "cell_type": "markdown",
   "id": "f436ff16",
   "metadata": {
    "papermill": {
     "duration": 0.013231,
     "end_time": "2025-04-05T01:25:46.734807",
     "exception": false,
     "start_time": "2025-04-05T01:25:46.721576",
     "status": "completed"
    },
    "tags": []
   },
   "source": [
    "# Adjustments based on the feedback\n",
    "\n",
    "Plan to address the professor's feedback and refine the projects\n",
    "\n",
    "Revised Approach\n",
    "Avoid Single Ego Network Dominance\n",
    "-Problem: The central ego node (user 0) is connected to all nodes in their network, skewing centrality metrics and community detection.\n",
    "Solution:\n",
    "- Exclude the ego node from all analyses (centrality, influence spread).\n",
    "- Focus on intra-community dynamics within the ego network, treating the ego as a connector rather than a participant.\n",
    "\n",
    "Adjust Research Questions\n",
    "- Original: Identifying influential individuals/groups for political outreach.\n",
    "Revised:\n",
    "- How do communities within an ego network differ in structural properties (density, clustering)?\n",
    "- Which non-ego individuals are most influential in information spread within communities?\n",
    "- How does the exclusion of the ego node affect influence dynamics?\n",
    "\n",
    "Dataset Adaptation\n",
    "- Option 1: Aggregate multiple ego networks (if overlaps exist).\n",
    "  Check if nodes (friends) overlap between different ego networks (e.g., 0.edges vs. 107.edges).\n",
    "    Merge networks to reduce dominance of any single ego.\n",
    "- Option 2: Compare multiple ego networks individually (e.g., analyze 3-5 networks separately).\n",
    "    Look for patterns in community structure and influence across egos.\n",
    "\n",
    "Methodology Updates\n",
    "- Centrality: Calculate metrics for non-ego nodes only.\n",
    "- Community Detection: Run Louvain on the subgraph excluding the ego.\n",
    "- Influence Simulation: Seed non-ego nodes in communities.\n",
    "\n",
    "Expected Outcomes\n",
    "- Communities: Reflect organic groupings among friends, not centered on the ego.\n",
    "- Influence: Highlight bridge nodes between communities (e.g., friends with cross-community ties).\n",
    "- Comparison: If using multiple egos, identify common structural patterns.\n",
    "\n",
    "Discussion Points\n",
    "- Limitations: Acknowledge incomplete friend-of-friend data and ego exclusion.\n",
    "- Practical Insight: Political campaigns should target bridge nodes in organic communities, not just hubs."
   ]
  },
  {
   "cell_type": "markdown",
   "id": "a585f3fd",
   "metadata": {
    "papermill": {
     "duration": 0.013693,
     "end_time": "2025-04-05T01:25:46.761855",
     "exception": false,
     "start_time": "2025-04-05T01:25:46.748162",
     "status": "completed"
    },
    "tags": []
   },
   "source": [
    "### Sticking with the current dataset (single ego network):\n",
    "\n",
    "1. **Key Insight**: The dataset does not include the ego node (it only contains their friends). Our analysis already focuses on the friends’ network, which avoids the problem of ego node dominance.\n",
    "\n",
    "2. **Addressing Feedback**: Revise our report to clarify:\n",
    "    * “Our analysis focuses on the friendship network of the ego’s friends. Since the ego node is not included in the dataset, we avoid structural dominance by any single individual.”\n",
    "    * “The network represents friendships among users who are all connected to the same central individual (ego), but this individual is not part of the analyzed graph.”\n",
    "\n",
    "3. **Why Merging Networks Isn’t Necessary**\n",
    "    * No Overlaps: Friends of different egos (e.g., 0, 107, 348) are disjoint, making aggregation meaningless.\n",
    "    * Structural Bias: Even merged, networks would remain disconnected clusters centered on different egos.\n",
    "    * Time Constraints: Merging adds complexity without guaranteed benefits."
   ]
  }
 ],
 "metadata": {
  "kaggle": {
   "accelerator": "gpu",
   "dataSources": [
    {
     "datasetId": 7013397,
     "sourceId": 11228553,
     "sourceType": "datasetVersion"
    },
    {
     "datasetId": 7013403,
     "sourceId": 11228560,
     "sourceType": "datasetVersion"
    }
   ],
   "dockerImageVersionId": 30918,
   "isGpuEnabled": true,
   "isInternetEnabled": true,
   "language": "python",
   "sourceType": "notebook"
  },
  "kernelspec": {
   "display_name": "Python 3",
   "language": "python",
   "name": "python3"
  },
  "language_info": {
   "codemirror_mode": {
    "name": "ipython",
    "version": 3
   },
   "file_extension": ".py",
   "mimetype": "text/x-python",
   "name": "python",
   "nbconvert_exporter": "python",
   "pygments_lexer": "ipython3",
   "version": "3.10.12"
  },
  "papermill": {
   "default_parameters": {},
   "duration": 21.477246,
   "end_time": "2025-04-05T01:25:47.393746",
   "environment_variables": {},
   "exception": null,
   "input_path": "__notebook__.ipynb",
   "output_path": "__notebook__.ipynb",
   "parameters": {},
   "start_time": "2025-04-05T01:25:25.916500",
   "version": "2.6.0"
  }
 },
 "nbformat": 4,
 "nbformat_minor": 5
}
