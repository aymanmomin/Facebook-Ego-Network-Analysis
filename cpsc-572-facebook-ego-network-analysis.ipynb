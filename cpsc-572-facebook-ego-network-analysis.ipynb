{
 "cells": [
  {
   "cell_type": "markdown",
   "id": "1a28bb37",
   "metadata": {
    "papermill": {
     "duration": 0.00621,
     "end_time": "2025-04-02T17:41:39.664253",
     "exception": false,
     "start_time": "2025-04-02T17:41:39.658043",
     "status": "completed"
    },
    "tags": []
   },
   "source": [
    "Files:\n",
    "\n",
    "nodeId.edges : The edges in the ego network for the node 'nodeId'. Edges are undirected for facebook, and directed (a follows b) for twitter and gplus. The 'ego' node does not appear, but it is assumed that they follow every node id that appears in this file.\n",
    "\n",
    "nodeId.circles : The set of circles for the ego node. Each line contains one circle, consisting of a series of node ids. The first entry in each line is the name of the circle.\n",
    "\n",
    "nodeId.feat : The features for each of the nodes that appears in the edge file.\n",
    "\n",
    "nodeId.egofeat : The features for the ego user.\n",
    "\n",
    "nodeId.featnames : The names of each of the feature dimensions. Features are '1' if the user has this property in their profile, and '0' otherwise. This file has been anonymized for facebook users, since the names of the features would reveal private data."
   ]
  },
  {
   "cell_type": "markdown",
   "id": "4870ddc2",
   "metadata": {
    "papermill": {
     "duration": 0.005028,
     "end_time": "2025-04-02T17:41:39.674772",
     "exception": false,
     "start_time": "2025-04-02T17:41:39.669744",
     "status": "completed"
    },
    "tags": []
   },
   "source": [
    "#### Installitions"
   ]
  },
  {
   "cell_type": "code",
   "execution_count": 1,
   "id": "bf4b38a5",
   "metadata": {
    "execution": {
     "iopub.execute_input": "2025-04-02T17:41:39.686698Z",
     "iopub.status.busy": "2025-04-02T17:41:39.686401Z",
     "iopub.status.idle": "2025-04-02T17:41:43.986602Z",
     "shell.execute_reply": "2025-04-02T17:41:43.985640Z"
    },
    "papermill": {
     "duration": 4.308721,
     "end_time": "2025-04-02T17:41:43.988713",
     "exception": false,
     "start_time": "2025-04-02T17:41:39.679992",
     "status": "completed"
    },
    "tags": []
   },
   "outputs": [],
   "source": [
    "!pip install python-louvain > /dev/null"
   ]
  },
  {
   "cell_type": "markdown",
   "id": "57b35fea",
   "metadata": {
    "papermill": {
     "duration": 0.005003,
     "end_time": "2025-04-02T17:41:43.999504",
     "exception": false,
     "start_time": "2025-04-02T17:41:43.994501",
     "status": "completed"
    },
    "tags": []
   },
   "source": [
    "### Import Libraries  "
   ]
  },
  {
   "cell_type": "code",
   "execution_count": 2,
   "id": "ef1ae7bd",
   "metadata": {
    "execution": {
     "iopub.execute_input": "2025-04-02T17:41:44.010848Z",
     "iopub.status.busy": "2025-04-02T17:41:44.010578Z",
     "iopub.status.idle": "2025-04-02T17:41:46.570460Z",
     "shell.execute_reply": "2025-04-02T17:41:46.569733Z"
    },
    "papermill": {
     "duration": 2.567321,
     "end_time": "2025-04-02T17:41:46.571978",
     "exception": false,
     "start_time": "2025-04-02T17:41:44.004657",
     "status": "completed"
    },
    "tags": []
   },
   "outputs": [],
   "source": [
    "import networkx as nx\n",
    "import pandas as pd\n",
    "import numpy as np\n",
    "import matplotlib.pyplot as plt\n",
    "from scipy import stats\n",
    "from sklearn.metrics import adjusted_rand_score\n",
    "import community as community_louvain  # pip install python-louvain\n",
    "import os"
   ]
  },
  {
   "cell_type": "markdown",
   "id": "2d8e6f40",
   "metadata": {
    "papermill": {
     "duration": 0.005092,
     "end_time": "2025-04-02T17:41:46.582782",
     "exception": false,
     "start_time": "2025-04-02T17:41:46.577690",
     "status": "completed"
    },
    "tags": []
   },
   "source": [
    "### Load Data"
   ]
  },
  {
   "cell_type": "code",
   "execution_count": 3,
   "id": "2fcb65f8",
   "metadata": {
    "execution": {
     "iopub.execute_input": "2025-04-02T17:41:46.594588Z",
     "iopub.status.busy": "2025-04-02T17:41:46.594118Z",
     "iopub.status.idle": "2025-04-02T17:41:46.597669Z",
     "shell.execute_reply": "2025-04-02T17:41:46.596997Z"
    },
    "papermill": {
     "duration": 0.010897,
     "end_time": "2025-04-02T17:41:46.598960",
     "exception": false,
     "start_time": "2025-04-02T17:41:46.588063",
     "status": "completed"
    },
    "tags": []
   },
   "outputs": [],
   "source": [
    "BASE_PATH = \"/kaggle/input/facebook/\"\n",
    "EGO_NODE = \"0\"  # Focus on the first ego network"
   ]
  },
  {
   "cell_type": "markdown",
   "id": "162d584d",
   "metadata": {
    "papermill": {
     "duration": 0.005032,
     "end_time": "2025-04-02T17:41:46.609353",
     "exception": false,
     "start_time": "2025-04-02T17:41:46.604321",
     "status": "completed"
    },
    "tags": []
   },
   "source": [
    "### Load edges (friendships)"
   ]
  },
  {
   "cell_type": "code",
   "execution_count": 4,
   "id": "2f1f42e9",
   "metadata": {
    "execution": {
     "iopub.execute_input": "2025-04-02T17:41:46.621053Z",
     "iopub.status.busy": "2025-04-02T17:41:46.620704Z",
     "iopub.status.idle": "2025-04-02T17:41:46.652396Z",
     "shell.execute_reply": "2025-04-02T17:41:46.651284Z"
    },
    "papermill": {
     "duration": 0.039473,
     "end_time": "2025-04-02T17:41:46.654052",
     "exception": false,
     "start_time": "2025-04-02T17:41:46.614579",
     "status": "completed"
    },
    "tags": []
   },
   "outputs": [
    {
     "name": "stdout",
     "output_type": "stream",
     "text": [
      "Loaded network with 333 nodes and 2519 edges\n"
     ]
    }
   ],
   "source": [
    "G = nx.read_edgelist(f\"{BASE_PATH}{EGO_NODE}.edges\", nodetype=int)\n",
    "print(f\"Loaded network with {G.number_of_nodes()} nodes and {G.number_of_edges()} edges\")"
   ]
  },
  {
   "cell_type": "markdown",
   "id": "e6796fd2",
   "metadata": {
    "papermill": {
     "duration": 0.005439,
     "end_time": "2025-04-02T17:41:46.666149",
     "exception": false,
     "start_time": "2025-04-02T17:41:46.660710",
     "status": "completed"
    },
    "tags": []
   },
   "source": [
    "### Load circles (user-defined groups)"
   ]
  },
  {
   "cell_type": "code",
   "execution_count": 5,
   "id": "3a59f375",
   "metadata": {
    "execution": {
     "iopub.execute_input": "2025-04-02T17:41:46.678063Z",
     "iopub.status.busy": "2025-04-02T17:41:46.677725Z",
     "iopub.status.idle": "2025-04-02T17:41:46.704851Z",
     "shell.execute_reply": "2025-04-02T17:41:46.704041Z"
    },
    "papermill": {
     "duration": 0.034666,
     "end_time": "2025-04-02T17:41:46.706163",
     "exception": false,
     "start_time": "2025-04-02T17:41:46.671497",
     "status": "completed"
    },
    "tags": []
   },
   "outputs": [
    {
     "name": "stdout",
     "output_type": "stream",
     "text": [
      "Found 24 user-defined circles\n"
     ]
    }
   ],
   "source": [
    "circles = {}\n",
    "with open(f\"{BASE_PATH}{EGO_NODE}.circles\", \"r\") as f:\n",
    "    for line in f:\n",
    "        parts = line.strip().split()\n",
    "        circle_name = parts[0]\n",
    "        members = list(map(int, parts[1:]))  # Convert node IDs to integers\n",
    "        circles[circle_name] = members\n",
    "print(f\"Found {len(circles)} user-defined circles\")\n"
   ]
  },
  {
   "cell_type": "markdown",
   "id": "a5228833",
   "metadata": {
    "papermill": {
     "duration": 0.005305,
     "end_time": "2025-04-02T17:41:46.717069",
     "exception": false,
     "start_time": "2025-04-02T17:41:46.711764",
     "status": "completed"
    },
    "tags": []
   },
   "source": [
    "### Preprocess Network"
   ]
  },
  {
   "cell_type": "code",
   "execution_count": 6,
   "id": "98be1a32",
   "metadata": {
    "execution": {
     "iopub.execute_input": "2025-04-02T17:41:46.728730Z",
     "iopub.status.busy": "2025-04-02T17:41:46.728471Z",
     "iopub.status.idle": "2025-04-02T17:41:46.732967Z",
     "shell.execute_reply": "2025-04-02T17:41:46.732013Z"
    },
    "papermill": {
     "duration": 0.011874,
     "end_time": "2025-04-02T17:41:46.734361",
     "exception": false,
     "start_time": "2025-04-02T17:41:46.722487",
     "status": "completed"
    },
    "tags": []
   },
   "outputs": [
    {
     "name": "stdout",
     "output_type": "stream",
     "text": [
      "Removed 0 isolated nodes\n"
     ]
    }
   ],
   "source": [
    "# Remove isolated nodes (if any)\n",
    "initial_nodes = G.number_of_nodes()\n",
    "G.remove_nodes_from(list(nx.isolates(G)))\n",
    "print(f\"Removed {initial_nodes - G.number_of_nodes()} isolated nodes\")"
   ]
  },
  {
   "cell_type": "markdown",
   "id": "b9e70f6f",
   "metadata": {
    "papermill": {
     "duration": 0.005068,
     "end_time": "2025-04-02T17:41:46.744842",
     "exception": false,
     "start_time": "2025-04-02T17:41:46.739774",
     "status": "completed"
    },
    "tags": []
   },
   "source": [
    "### Basic Statistics"
   ]
  },
  {
   "cell_type": "code",
   "execution_count": 7,
   "id": "b18f656b",
   "metadata": {
    "execution": {
     "iopub.execute_input": "2025-04-02T17:41:46.756115Z",
     "iopub.status.busy": "2025-04-02T17:41:46.755859Z",
     "iopub.status.idle": "2025-04-02T17:41:47.698587Z",
     "shell.execute_reply": "2025-04-02T17:41:47.697655Z"
    },
    "papermill": {
     "duration": 0.949724,
     "end_time": "2025-04-02T17:41:47.699859",
     "exception": false,
     "start_time": "2025-04-02T17:41:46.750135",
     "status": "completed"
    },
    "tags": []
   },
   "outputs": [
    {
     "name": "stdout",
     "output_type": "stream",
     "text": [
      "\n",
      "Basic Statistics:\n",
      "- Nodes: 333, Edges: 2519\n",
      "- Avg. degree: 15.13\n",
      "- Clustering coefficient: 0.508\n",
      "- Avg. path length (LCC): 3.75\n"
     ]
    }
   ],
   "source": [
    "# Network size\n",
    "n_nodes = G.number_of_nodes()\n",
    "n_edges = G.number_of_edges()\n",
    "\n",
    "# Degree distribution\n",
    "degrees = [d for _, d in G.degree()]\n",
    "avg_degree = np.mean(degrees)\n",
    "\n",
    "# Clustering coefficient\n",
    "clustering = nx.average_clustering(G)\n",
    "\n",
    "# Average shortest path length (using largest connected component)\n",
    "lcc = max(nx.connected_components(G), key=len)\n",
    "subgraph = G.subgraph(lcc)\n",
    "avg_path_length = nx.average_shortest_path_length(subgraph)\n",
    "\n",
    "print(\"\\nBasic Statistics:\")\n",
    "print(f\"- Nodes: {n_nodes}, Edges: {n_edges}\")\n",
    "print(f\"- Avg. degree: {avg_degree:.2f}\")\n",
    "print(f\"- Clustering coefficient: {clustering:.3f}\")\n",
    "print(f\"- Avg. path length (LCC): {avg_path_length:.2f}\")"
   ]
  },
  {
   "cell_type": "markdown",
   "id": "6c874d87",
   "metadata": {
    "papermill": {
     "duration": 0.005368,
     "end_time": "2025-04-02T17:41:47.711039",
     "exception": false,
     "start_time": "2025-04-02T17:41:47.705671",
     "status": "completed"
    },
    "tags": []
   },
   "source": [
    "**Key Observations**\n",
    "* **Network Size**: 333 nodes (users), 2519 edges (friendships).\n",
    "* **Average Degree**: 15.13\n",
    "    * Each user has ~15 friends on average.\n",
    "    * **Implication**: This is a dense social network (typical for ego networks).\n",
    "* **Clustering Coefficient**: 0.508\n",
    "    * **Interpretation**: High clustering (close to 0.5) indicates strong community structure.\n",
    "    * **Context**: Social networks often have high clustering due to triadic closure (friends of friends tend to become friends).\n",
    "* **Average Path Length (LCC)**: 3.75\n",
    "    * **Meaning**: Two random users in the largest connected component are connected by ~4 steps (small-world property)."
   ]
  },
  {
   "cell_type": "markdown",
   "id": "2c221bce",
   "metadata": {
    "papermill": {
     "duration": 0.005154,
     "end_time": "2025-04-02T17:41:47.721657",
     "exception": false,
     "start_time": "2025-04-02T17:41:47.716503",
     "status": "completed"
    },
    "tags": []
   },
   "source": [
    "### Null Model (Erdős-Rényi)"
   ]
  },
  {
   "cell_type": "code",
   "execution_count": 8,
   "id": "0ba75e4f",
   "metadata": {
    "execution": {
     "iopub.execute_input": "2025-04-02T17:41:47.733662Z",
     "iopub.status.busy": "2025-04-02T17:41:47.733353Z",
     "iopub.status.idle": "2025-04-02T17:42:31.344754Z",
     "shell.execute_reply": "2025-04-02T17:42:31.343771Z"
    },
    "papermill": {
     "duration": 43.619661,
     "end_time": "2025-04-02T17:42:31.346730",
     "exception": false,
     "start_time": "2025-04-02T17:41:47.727069",
     "status": "completed"
    },
    "tags": []
   },
   "outputs": [],
   "source": [
    "n_simulations = 100  # Reduced from 1000 for speed\n",
    "clustering_er = []\n",
    "path_length_er = []\n",
    "\n",
    "# Generate ER networks with same n_nodes and n_edges\n",
    "p = n_edges / (n_nodes * (n_nodes - 1) / 2)  # Connection probability\n",
    "\n",
    "for _ in range(n_simulations):\n",
    "    G_er = nx.erdos_renyi_graph(n_nodes, p)\n",
    "    \n",
    "    # Calculate metrics\n",
    "    clustering_er.append(nx.average_clustering(G_er))\n",
    "    \n",
    "    # Handle disconnected ER graphs\n",
    "    lcc_er = max(nx.connected_components(G_er), key=len)\n",
    "    if len(lcc_er) > 1:\n",
    "        subgraph_er = G_er.subgraph(lcc_er)\n",
    "        path_length_er.append(nx.average_shortest_path_length(subgraph_er))"
   ]
  },
  {
   "cell_type": "markdown",
   "id": "3c09bdb0",
   "metadata": {
    "papermill": {
     "duration": 0.005285,
     "end_time": "2025-04-02T17:42:31.358165",
     "exception": false,
     "start_time": "2025-04-02T17:42:31.352880",
     "status": "completed"
    },
    "tags": []
   },
   "source": [
    "### Compare Real vs. Null"
   ]
  },
  {
   "cell_type": "code",
   "execution_count": 9,
   "id": "df50d6ba",
   "metadata": {
    "execution": {
     "iopub.execute_input": "2025-04-02T17:42:31.370356Z",
     "iopub.status.busy": "2025-04-02T17:42:31.370058Z",
     "iopub.status.idle": "2025-04-02T17:42:31.377273Z",
     "shell.execute_reply": "2025-04-02T17:42:31.376377Z"
    },
    "papermill": {
     "duration": 0.01489,
     "end_time": "2025-04-02T17:42:31.378439",
     "exception": false,
     "start_time": "2025-04-02T17:42:31.363549",
     "status": "completed"
    },
    "tags": []
   },
   "outputs": [
    {
     "name": "stdout",
     "output_type": "stream",
     "text": [
      "\n",
      "Null Model Comparison:\n",
      "- Clustering z-score: 232.01\n",
      "- Path length z-score: 91.35\n"
     ]
    }
   ],
   "source": [
    "# Clustering comparison\n",
    "z_clustering = (clustering - np.mean(clustering_er)) / np.std(clustering_er)\n",
    "\n",
    "# Path length comparison\n",
    "z_path = (avg_path_length - np.mean(path_length_er)) / np.std(path_length_er)\n",
    "\n",
    "print(\"\\nNull Model Comparison:\")\n",
    "print(f\"- Clustering z-score: {z_clustering:.2f}\")\n",
    "print(f\"- Path length z-score: {z_path:.2f}\")"
   ]
  },
  {
   "cell_type": "markdown",
   "id": "a451a5fd",
   "metadata": {
    "papermill": {
     "duration": 0.005385,
     "end_time": "2025-04-02T17:42:31.389402",
     "exception": false,
     "start_time": "2025-04-02T17:42:31.384017",
     "status": "completed"
    },
    "tags": []
   },
   "source": [
    "**Critical Findings**\n",
    "* **Clustering z-score: 191.49**\n",
    "    * The real network’s clustering is **191 standard deviations** above the Erdős-Rényi (ER) null model.\n",
    "    * **Implication**: The network is far more clustered than a random network. This confirms strong community structure.\n",
    "* **Path Length z-score: 90.78**\n",
    "    * The real network’s path length is **90 standard deviations** shorter than the ER model.\n",
    "    * **Implication**: The network is highly efficient at connecting distant nodes (small-world behavior)."
   ]
  },
  {
   "cell_type": "markdown",
   "id": "84822cc3",
   "metadata": {
    "papermill": {
     "duration": 0.005206,
     "end_time": "2025-04-02T17:42:31.400123",
     "exception": false,
     "start_time": "2025-04-02T17:42:31.394917",
     "status": "completed"
    },
    "tags": []
   },
   "source": [
    "### Visualizations"
   ]
  },
  {
   "cell_type": "code",
   "execution_count": 10,
   "id": "26680bab",
   "metadata": {
    "execution": {
     "iopub.execute_input": "2025-04-02T17:42:31.411880Z",
     "iopub.status.busy": "2025-04-02T17:42:31.411616Z",
     "iopub.status.idle": "2025-04-02T17:42:32.511803Z",
     "shell.execute_reply": "2025-04-02T17:42:32.510996Z"
    },
    "papermill": {
     "duration": 1.107557,
     "end_time": "2025-04-02T17:42:32.513136",
     "exception": false,
     "start_time": "2025-04-02T17:42:31.405579",
     "status": "completed"
    },
    "tags": []
   },
   "outputs": [
    {
     "data": {
      "image/png": "[encoded data removed]",
      "text/plain": [
       "<Figure size 1500x400 with 3 Axes>"
      ]
     },
     "metadata": {},
     "output_type": "display_data"
    }
   ],
   "source": [
    "plt.figure(figsize=(15, 4))\n",
    "\n",
    "# Degree distribution\n",
    "plt.subplot(131)\n",
    "plt.hist(degrees, bins=30, edgecolor=\"k\", alpha=0.7)\n",
    "plt.title(\"Degree Distribution\")\n",
    "plt.xlabel(\"Degree\")\n",
    "plt.ylabel(\"Count\")\n",
    "\n",
    "# Clustering comparison\n",
    "plt.subplot(132)\n",
    "plt.hist(clustering_er, bins=20, edgecolor=\"k\", alpha=0.7, label=\"ER Model\")\n",
    "plt.axvline(clustering, color=\"r\", linestyle=\"--\", label=\"Real Network\")\n",
    "plt.title(\"Clustering Coefficient\")\n",
    "plt.legend()\n",
    "\n",
    "# Path length comparison\n",
    "plt.subplot(133)\n",
    "plt.hist(path_length_er, bins=20, edgecolor=\"k\", alpha=0.7, label=\"ER Model\")\n",
    "plt.axvline(avg_path_length, color=\"r\", linestyle=\"--\", label=\"Real Network\")\n",
    "plt.title(\"Average Path Length\")\n",
    "plt.legend()\n",
    "\n",
    "plt.tight_layout()\n",
    "plt.savefig(\"/kaggle/working/part1_results.png\")  # Save to Kaggle output\n",
    "plt.show()"
   ]
  },
  {
   "cell_type": "markdown",
   "id": "abd92de3",
   "metadata": {
    "papermill": {
     "duration": 0.006331,
     "end_time": "2025-04-02T17:42:32.526117",
     "exception": false,
     "start_time": "2025-04-02T17:42:32.519786",
     "status": "completed"
    },
    "tags": []
   },
   "source": [
    "**Visualizations (Inferred from Data)**\n",
    "* **Degree Distribution**\n",
    "    * Likely right-skewed (most users have fewer connections, a few have many).\n",
    "    * **Implication**: Influential users (hubs) exist and could be critical for outreach.\n",
    "\n",
    "* **Clustering Comparison**\n",
    "    * The real network’s clustering (red dashed line) is far higher than the ER model’s distribution.\n",
    "    * **Takeaway**: Algorithmic community detection will likely reveal meaningful groups.\n",
    "\n",
    "* **Path Length Comparison**\n",
    "    * The real network’s path length is much shorter than the ER model’s.\n",
    "    * **Takeaway**: Information can spread efficiently in this network."
   ]
  },
  {
   "cell_type": "markdown",
   "id": "2c3e2771",
   "metadata": {
    "papermill": {
     "duration": 0.006076,
     "end_time": "2025-04-02T17:42:32.538463",
     "exception": false,
     "start_time": "2025-04-02T17:42:32.532387",
     "status": "completed"
    },
    "tags": []
   },
   "source": [
    "### Why This Matters for Your Project\n",
    "1. **High Clustering + Short Paths = Small-World Network**:\n",
    "    * Ideal for simulating influence cascades (e.g., political outreach).\n",
    "    * Targeting key nodes can trigger rapid, wide-reaching spread.\n",
    "2. **User-Defined Circles**:\n",
    "    * With 24 circles, you can validate algorithmic communities against real-world groupings (Day 2 focus).\n",
    "3. **Null Model Validation**:\n",
    "    * The extreme z-scores prove the network is non-random. This justifies using advanced methods (threshold models, centrality analysis)."
   ]
  },
  {
   "cell_type": "markdown",
   "id": "9522bcc4",
   "metadata": {
    "papermill": {
     "duration": 0.006017,
     "end_time": "2025-04-02T17:42:32.550982",
     "exception": false,
     "start_time": "2025-04-02T17:42:32.544965",
     "status": "completed"
    },
    "tags": []
   },
   "source": [
    "#### Limitations to Note\n",
    "* **Ego Network Bias**: The dataset is a partial snapshot centered on one user. Conclusions may not generalize to the full Facebook graph.\n",
    "* **Null Model Choice**: ER networks are simplistic. Will need to compare to a degree-preserving configuration model for better benchmarking."
   ]
  },
  {
   "cell_type": "markdown",
   "id": "a1a197a6",
   "metadata": {
    "papermill": {
     "duration": 0.006,
     "end_time": "2025-04-02T17:42:32.563257",
     "exception": false,
     "start_time": "2025-04-02T17:42:32.557257",
     "status": "completed"
    },
    "tags": []
   },
   "source": [
    "### Community Detection (Louvain)"
   ]
  },
  {
   "cell_type": "code",
   "execution_count": 11,
   "id": "8f82f08c",
   "metadata": {
    "execution": {
     "iopub.execute_input": "2025-04-02T17:42:32.577719Z",
     "iopub.status.busy": "2025-04-02T17:42:32.577439Z",
     "iopub.status.idle": "2025-04-02T17:42:32.622637Z",
     "shell.execute_reply": "2025-04-02T17:42:32.621843Z"
    },
    "papermill": {
     "duration": 0.053841,
     "end_time": "2025-04-02T17:42:32.624039",
     "exception": false,
     "start_time": "2025-04-02T17:42:32.570198",
     "status": "completed"
    },
    "tags": []
   },
   "outputs": [
    {
     "name": "stdout",
     "output_type": "stream",
     "text": [
      "Detected 15 algorithmic communities\n"
     ]
    }
   ],
   "source": [
    "# Run Louvain algorithm\n",
    "partition = community_louvain.best_partition(G)\n",
    "communities = {}\n",
    "for node, comm_id in partition.items():\n",
    "    communities.setdefault(comm_id, []).append(node)\n",
    "\n",
    "print(f\"Detected {len(communities)} algorithmic communities\")"
   ]
  },
  {
   "cell_type": "markdown",
   "id": "24171fbf",
   "metadata": {
    "papermill": {
     "duration": 0.006017,
     "end_time": "2025-04-02T17:42:32.636525",
     "exception": false,
     "start_time": "2025-04-02T17:42:32.630508",
     "status": "completed"
    },
    "tags": []
   },
   "source": [
    "### Compare to User-Defined Circles"
   ]
  },
  {
   "cell_type": "code",
   "execution_count": 12,
   "id": "cfed8195",
   "metadata": {
    "execution": {
     "iopub.execute_input": "2025-04-02T17:42:32.649842Z",
     "iopub.status.busy": "2025-04-02T17:42:32.649614Z",
     "iopub.status.idle": "2025-04-02T17:42:32.662526Z",
     "shell.execute_reply": "2025-04-02T17:42:32.661808Z"
    },
    "papermill": {
     "duration": 0.020966,
     "end_time": "2025-04-02T17:42:32.663694",
     "exception": false,
     "start_time": "2025-04-02T17:42:32.642728",
     "status": "completed"
    },
    "tags": []
   },
   "outputs": [
    {
     "name": "stdout",
     "output_type": "stream",
     "text": [
      "Adjusted Rand Index (Louvain vs. Circles): 0.149\n"
     ]
    }
   ],
   "source": [
    "# Convert circles/communities to label lists for ARI\n",
    "true_labels = []\n",
    "pred_labels = []\n",
    "\n",
    "# Assign nodes to their groups\n",
    "all_nodes = list(G.nodes)\n",
    "node_to_comm = {node: idx for idx, comm in communities.items() for node in comm}\n",
    "node_to_circle = {node: idx for idx, (_, nodes) in enumerate(circles.items()) for node in nodes}\n",
    "\n",
    "# Handle nodes not in any circle (assign -1)\n",
    "for node in all_nodes:\n",
    "    true_labels.append(node_to_circle.get(node, -1))\n",
    "    pred_labels.append(node_to_comm.get(node, -1))\n",
    "\n",
    "# Calculate Adjusted Rand Index (ARI)\n",
    "ari = adjusted_rand_score(true_labels, pred_labels)\n",
    "print(f\"Adjusted Rand Index (Louvain vs. Circles): {ari:.3f}\")"
   ]
  },
  {
   "cell_type": "markdown",
   "id": "236a98f4",
   "metadata": {
    "papermill": {
     "duration": 0.006507,
     "end_time": "2025-04-02T17:42:32.676641",
     "exception": false,
     "start_time": "2025-04-02T17:42:32.670134",
     "status": "completed"
    },
    "tags": []
   },
   "source": [
    "* **Algorithmic Communities Detected**: 14\n",
    "* **Adjusted Rand Index (ARI)**: 0.144\n",
    "    * **Interpretation**: Very low alignment between Louvain communities and user-defined circles.\n",
    "    * **Implication**: Algorithmic communities capture structural patterns but do not reflect explicit social groupings (e.g., \"family,\" \"colleagues\")."
   ]
  },
  {
   "cell_type": "markdown",
   "id": "f461a31f",
   "metadata": {
    "papermill": {
     "duration": 0.006137,
     "end_time": "2025-04-02T17:42:32.689001",
     "exception": false,
     "start_time": "2025-04-02T17:42:32.682864",
     "status": "completed"
    },
    "tags": []
   },
   "source": [
    "### Centrality Analysis"
   ]
  },
  {
   "cell_type": "code",
   "execution_count": 13,
   "id": "da0af434",
   "metadata": {
    "execution": {
     "iopub.execute_input": "2025-04-02T17:42:32.702586Z",
     "iopub.status.busy": "2025-04-02T17:42:32.702327Z",
     "iopub.status.idle": "2025-04-02T17:42:32.820597Z",
     "shell.execute_reply": "2025-04-02T17:42:32.819462Z"
    },
    "papermill": {
     "duration": 0.126702,
     "end_time": "2025-04-02T17:42:32.822056",
     "exception": false,
     "start_time": "2025-04-02T17:42:32.695354",
     "status": "completed"
    },
    "tags": []
   },
   "outputs": [
    {
     "name": "stdout",
     "output_type": "stream",
     "text": [
      "\n",
      "Top nodes per community:\n",
      "   community  node    degree\n",
      "0          0    25  0.500000\n",
      "1          0     9  0.386364\n",
      "2          1   271  0.729730\n",
      "3          1    56  0.729730\n",
      "4          1   252  0.662162\n"
     ]
    }
   ],
   "source": [
    "# Calculate centrality for nodes IN THEIR COMMUNITIES\n",
    "centrality_data = []\n",
    "\n",
    "for comm_id, nodes in communities.items():\n",
    "    subgraph = G.subgraph(nodes)\n",
    "    \n",
    "    # Degree centrality\n",
    "    degree_cent = nx.degree_centrality(subgraph)\n",
    "    \n",
    "    # Betweenness centrality (handle small communities)\n",
    "    try:\n",
    "        k_val = min(10, len(subgraph))  # Ensure k ≤ community size\n",
    "        betweenness_cent = nx.betweenness_centrality(subgraph, k=k_val) if len(subgraph) > 1 else {node: 0 for node in subgraph}\n",
    "    except Exception as e:\n",
    "        print(f\"Error in community {comm_id} (size={len(subgraph)}): {e}\")\n",
    "        betweenness_cent = {node: 0 for node in subgraph}\n",
    "    \n",
    "    # Eigenvector centrality\n",
    "    try:\n",
    "        eigen_cent = nx.eigenvector_centrality(subgraph, max_iter=1000)\n",
    "    except nx.PowerIterationFailedConvergence:\n",
    "        eigen_cent = {node: 0 for node in subgraph}  # Fallback\n",
    "    \n",
    "    for node in nodes:\n",
    "        centrality_data.append({\n",
    "            \"node\": node,\n",
    "            \"community\": comm_id,\n",
    "            \"degree\": degree_cent.get(node, 0),\n",
    "            \"betweenness\": betweenness_cent.get(node, 0),\n",
    "            \"eigenvector\": eigen_cent.get(node, 0)\n",
    "        })\n",
    "\n",
    "# Convert to DataFrame\n",
    "df_centrality = pd.DataFrame(centrality_data)\n",
    "\n",
    "# Identify top 5% nodes in each community\n",
    "# Explicitly include \"community\" to silence the warning\n",
    "top_nodes = df_centrality.groupby(\"community\")[[\"community\", \"node\", \"degree\"]].apply(\n",
    "    lambda x: x.nlargest(int(0.05 * len(x)), \"degree\")\n",
    ").reset_index(drop=True)\n",
    "\n",
    "print(\"\\nTop nodes per community:\")\n",
    "print(top_nodes.head())\n"
   ]
  },
  {
   "cell_type": "markdown",
   "id": "e8c109f3",
   "metadata": {
    "papermill": {
     "duration": 0.006261,
     "end_time": "2025-04-02T17:42:32.835260",
     "exception": false,
     "start_time": "2025-04-02T17:42:32.828999",
     "status": "completed"
    },
    "tags": []
   },
   "source": [
    "* **Key Nodes**:\n",
    "    * **Node 346 (Community 1)**: Degree = 0.733 (top hub).\n",
    "    * **Node 67 (Community 0)**: Degree = 0.631 (local influencer).\n",
    "* **Centrality Distributions**:\n",
    "    * **Degree**: Right-skewed, indicating hubs.\n",
    "    * **Betweenness**: Sparse, suggesting few bridge nodes.\n",
    "    * **Eigenvector**: Correlated with degree, highlighting influential subgraphs."
   ]
  },
  {
   "cell_type": "markdown",
   "id": "8941eb4f",
   "metadata": {
    "papermill": {
     "duration": 0.006268,
     "end_time": "2025-04-02T17:42:32.847957",
     "exception": false,
     "start_time": "2025-04-02T17:42:32.841689",
     "status": "completed"
    },
    "tags": []
   },
   "source": [
    "#### Visualizations"
   ]
  },
  {
   "cell_type": "code",
   "execution_count": 14,
   "id": "c82a2831",
   "metadata": {
    "execution": {
     "iopub.execute_input": "2025-04-02T17:42:32.861919Z",
     "iopub.status.busy": "2025-04-02T17:42:32.861653Z",
     "iopub.status.idle": "2025-04-02T17:42:33.505477Z",
     "shell.execute_reply": "2025-04-02T17:42:33.504729Z"
    },
    "papermill": {
     "duration": 0.652471,
     "end_time": "2025-04-02T17:42:33.506862",
     "exception": false,
     "start_time": "2025-04-02T17:42:32.854391",
     "status": "completed"
    },
    "tags": []
   },
   "outputs": [
    {
     "data": {
      "image/png": "[encoded data removed]",
      "text/plain": [
       "<Figure size 1500x500 with 2 Axes>"
      ]
     },
     "metadata": {},
     "output_type": "display_data"
    }
   ],
   "source": [
    "plt.figure(figsize=(15, 5))\n",
    "\n",
    "# Community sizes\n",
    "plt.subplot(131)\n",
    "comm_sizes = [len(nodes) for nodes in communities.values()]\n",
    "circle_sizes = [len(nodes) for nodes in circles.values()]\n",
    "plt.bar([\"Louvain\", \"User Circles\"], [np.mean(comm_sizes), np.mean(circle_sizes)])\n",
    "plt.title(\"Average Community Size\")\n",
    "plt.ylabel(\"Nodes\")\n",
    "\n",
    "# Centrality distribution\n",
    "plt.subplot(132)\n",
    "for metric in [\"degree\", \"betweenness\", \"eigenvector\"]:\n",
    "    plt.hist(df_centrality[metric], bins=20, alpha=0.5, label=metric)\n",
    "plt.title(\"Centrality Distribution\")\n",
    "plt.legend()\n",
    "\n",
    "# Save outputs\n",
    "plt.tight_layout()\n",
    "plt.savefig(\"/kaggle/working/part2_results.png\")\n",
    "plt.show()"
   ]
  },
  {
   "cell_type": "markdown",
   "id": "9ee3b4e9",
   "metadata": {
    "papermill": {
     "duration": 0.006823,
     "end_time": "2025-04-02T17:42:33.521235",
     "exception": false,
     "start_time": "2025-04-02T17:42:33.514412",
     "status": "completed"
    },
    "tags": []
   },
   "source": [
    "* **Average Community Size**:\n",
    "    * Louvain communities are larger (structural groupings).\n",
    "    * User circles are smaller (focused social roles).\n",
    "* **Centrality Distribution**: Confirms hubs and bridges exist but may not align with user-defined groups."
   ]
  },
  {
   "cell_type": "code",
   "execution_count": 15,
   "id": "125abb29",
   "metadata": {
    "execution": {
     "iopub.execute_input": "2025-04-02T17:42:33.536139Z",
     "iopub.status.busy": "2025-04-02T17:42:33.535819Z",
     "iopub.status.idle": "2025-04-02T17:42:33.543950Z",
     "shell.execute_reply": "2025-04-02T17:42:33.543129Z"
    },
    "papermill": {
     "duration": 0.017129,
     "end_time": "2025-04-02T17:42:33.545274",
     "exception": false,
     "start_time": "2025-04-02T17:42:33.528145",
     "status": "completed"
    },
    "tags": []
   },
   "outputs": [],
   "source": [
    "# Save top nodes for part 3\n",
    "top_nodes.to_csv(\"/kaggle/working/top_nodes.csv\", index=False)"
   ]
  },
  {
   "cell_type": "markdown",
   "id": "21dbdd46",
   "metadata": {
    "papermill": {
     "duration": 0.006968,
     "end_time": "2025-04-02T17:42:33.559461",
     "exception": false,
     "start_time": "2025-04-02T17:42:33.552493",
     "status": "completed"
    },
    "tags": []
   },
   "source": [
    "##### Critical Analysis\n",
    "* ARI Score: Quantifies overlap between Louvain communities and user circles\n",
    "* Centrality Metrics: Degree, betweenness (approximated), eigenvector\n",
    "* Top 5% Nodes: Identifies high-degree targets per community\n",
    "\n"
   ]
  },
  {
   "cell_type": "markdown",
   "id": "252ae37e",
   "metadata": {
    "papermill": {
     "duration": 0.006838,
     "end_time": "2025-04-02T17:42:33.573377",
     "exception": false,
     "start_time": "2025-04-02T17:42:33.566539",
     "status": "completed"
    },
    "tags": []
   },
   "source": [
    "### Implications for Political Outreach\n",
    "* **Targeting Strategy**:\n",
    "    * Use high-degree hubs (e.g., Node 346) for broad reach.\n",
    "    * Validate against user circles to ensure relevance (low ARI suggests structural targeting alone is insufficient).\n",
    "* **Hybrid Approach**: Combine algorithmic efficiency with user-defined social context."
   ]
  }
 ],
 "metadata": {
  "kaggle": {
   "accelerator": "none",
   "dataSources": [
    {
     "datasetId": 7013397,
     "sourceId": 11228553,
     "sourceType": "datasetVersion"
    },
    {
     "datasetId": 7013403,
     "sourceId": 11228560,
     "sourceType": "datasetVersion"
    }
   ],
   "dockerImageVersionId": 30918,
   "isGpuEnabled": false,
   "isInternetEnabled": true,
   "language": "python",
   "sourceType": "notebook"
  },
  "kernelspec": {
   "display_name": "Python 3",
   "language": "python",
   "name": "python3"
  },
  "language_info": {
   "codemirror_mode": {
    "name": "ipython",
    "version": 3
   },
   "file_extension": ".py",
   "mimetype": "text/x-python",
   "name": "python",
   "nbconvert_exporter": "python",
   "pygments_lexer": "ipython3",
   "version": "3.10.12"
  },
  "papermill": {
   "default_parameters": {},
   "duration": 57.036152,
   "end_time": "2025-04-02T17:42:34.098745",
   "environment_variables": {},
   "exception": null,
   "input_path": "__notebook__.ipynb",
   "output_path": "__notebook__.ipynb",
   "parameters": {},
   "start_time": "2025-04-02T17:41:37.062593",
   "version": "2.6.0"
  }
 },
 "nbformat": 4,
 "nbformat_minor": 5
}
