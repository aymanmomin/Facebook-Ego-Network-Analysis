{
 "cells": [
  {
   "cell_type": "markdown",
   "id": "312b12c9",
   "metadata": {
    "papermill": {
     "duration": 0.005587,
     "end_time": "2025-04-02T15:50:55.815894",
     "exception": false,
     "start_time": "2025-04-02T15:50:55.810307",
     "status": "completed"
    },
    "tags": []
   },
   "source": [
    "Files:\n",
    "\n",
    "nodeId.edges : The edges in the ego network for the node 'nodeId'. Edges are undirected for facebook, and directed (a follows b) for twitter and gplus. The 'ego' node does not appear, but it is assumed that they follow every node id that appears in this file.\n",
    "\n",
    "nodeId.circles : The set of circles for the ego node. Each line contains one circle, consisting of a series of node ids. The first entry in each line is the name of the circle.\n",
    "\n",
    "nodeId.feat : The features for each of the nodes that appears in the edge file.\n",
    "\n",
    "nodeId.egofeat : The features for the ego user.\n",
    "\n",
    "nodeId.featnames : The names of each of the feature dimensions. Features are '1' if the user has this property in their profile, and '0' otherwise. This file has been anonymized for facebook users, since the names of the features would reveal private data."
   ]
  },
  {
   "cell_type": "markdown",
   "id": "13230645",
   "metadata": {
    "papermill": {
     "duration": 0.004229,
     "end_time": "2025-04-02T15:50:55.824984",
     "exception": false,
     "start_time": "2025-04-02T15:50:55.820755",
     "status": "completed"
    },
    "tags": []
   },
   "source": [
    "### Import Libraries  "
   ]
  },
  {
   "cell_type": "code",
   "execution_count": 1,
   "id": "59c6bdfc",
   "metadata": {
    "execution": {
     "iopub.execute_input": "2025-04-02T15:50:55.835325Z",
     "iopub.status.busy": "2025-04-02T15:50:55.835011Z",
     "iopub.status.idle": "2025-04-02T15:50:59.141354Z",
     "shell.execute_reply": "2025-04-02T15:50:59.140415Z"
    },
    "papermill": {
     "duration": 3.313694,
     "end_time": "2025-04-02T15:50:59.143253",
     "exception": false,
     "start_time": "2025-04-02T15:50:55.829559",
     "status": "completed"
    },
    "tags": []
   },
   "outputs": [],
   "source": [
    "import networkx as nx\n",
    "import pandas as pd\n",
    "import numpy as np\n",
    "import matplotlib.pyplot as plt\n",
    "from scipy import stats\n",
    "import os"
   ]
  },
  {
   "cell_type": "markdown",
   "id": "fe23b8e7",
   "metadata": {
    "papermill": {
     "duration": 0.004861,
     "end_time": "2025-04-02T15:50:59.153004",
     "exception": false,
     "start_time": "2025-04-02T15:50:59.148143",
     "status": "completed"
    },
    "tags": []
   },
   "source": [
    "### Load Data"
   ]
  },
  {
   "cell_type": "code",
   "execution_count": 2,
   "id": "9aabac41",
   "metadata": {
    "execution": {
     "iopub.execute_input": "2025-04-02T15:50:59.163796Z",
     "iopub.status.busy": "2025-04-02T15:50:59.163167Z",
     "iopub.status.idle": "2025-04-02T15:50:59.167615Z",
     "shell.execute_reply": "2025-04-02T15:50:59.166650Z"
    },
    "papermill": {
     "duration": 0.011492,
     "end_time": "2025-04-02T15:50:59.169202",
     "exception": false,
     "start_time": "2025-04-02T15:50:59.157710",
     "status": "completed"
    },
    "tags": []
   },
   "outputs": [],
   "source": [
    "BASE_PATH = \"/kaggle/input/facebook/\"\n",
    "EGO_NODE = \"0\"  # Focus on the first ego network"
   ]
  },
  {
   "cell_type": "markdown",
   "id": "ab91d875",
   "metadata": {
    "papermill": {
     "duration": 0.004207,
     "end_time": "2025-04-02T15:50:59.178151",
     "exception": false,
     "start_time": "2025-04-02T15:50:59.173944",
     "status": "completed"
    },
    "tags": []
   },
   "source": [
    "### Load edges (friendships)"
   ]
  },
  {
   "cell_type": "code",
   "execution_count": 3,
   "id": "57413757",
   "metadata": {
    "execution": {
     "iopub.execute_input": "2025-04-02T15:50:59.188560Z",
     "iopub.status.busy": "2025-04-02T15:50:59.188183Z",
     "iopub.status.idle": "2025-04-02T15:50:59.216746Z",
     "shell.execute_reply": "2025-04-02T15:50:59.215564Z"
    },
    "papermill": {
     "duration": 0.035588,
     "end_time": "2025-04-02T15:50:59.218408",
     "exception": false,
     "start_time": "2025-04-02T15:50:59.182820",
     "status": "completed"
    },
    "tags": []
   },
   "outputs": [
    {
     "name": "stdout",
     "output_type": "stream",
     "text": [
      "Loaded network with 333 nodes and 2519 edges\n"
     ]
    }
   ],
   "source": [
    "G = nx.read_edgelist(f\"{BASE_PATH}{EGO_NODE}.edges\", nodetype=int)\n",
    "print(f\"Loaded network with {G.number_of_nodes()} nodes and {G.number_of_edges()} edges\")"
   ]
  },
  {
   "cell_type": "markdown",
   "id": "e964edf9",
   "metadata": {
    "papermill": {
     "duration": 0.004518,
     "end_time": "2025-04-02T15:50:59.227754",
     "exception": false,
     "start_time": "2025-04-02T15:50:59.223236",
     "status": "completed"
    },
    "tags": []
   },
   "source": [
    "### Load circles (user-defined groups)"
   ]
  },
  {
   "cell_type": "code",
   "execution_count": 4,
   "id": "068c3295",
   "metadata": {
    "execution": {
     "iopub.execute_input": "2025-04-02T15:50:59.238360Z",
     "iopub.status.busy": "2025-04-02T15:50:59.238017Z",
     "iopub.status.idle": "2025-04-02T15:50:59.248987Z",
     "shell.execute_reply": "2025-04-02T15:50:59.247772Z"
    },
    "papermill": {
     "duration": 0.018257,
     "end_time": "2025-04-02T15:50:59.250695",
     "exception": false,
     "start_time": "2025-04-02T15:50:59.232438",
     "status": "completed"
    },
    "tags": []
   },
   "outputs": [
    {
     "name": "stdout",
     "output_type": "stream",
     "text": [
      "Found 24 user-defined circles\n"
     ]
    }
   ],
   "source": [
    "circles = {}\n",
    "with open(f\"{BASE_PATH}{EGO_NODE}.circles\", \"r\") as f:\n",
    "    for line in f:\n",
    "        parts = line.strip().split()\n",
    "        circle_name = parts[0]\n",
    "        members = list(map(int, parts[1:]))  # Convert node IDs to integers\n",
    "        circles[circle_name] = members\n",
    "print(f\"Found {len(circles)} user-defined circles\")\n"
   ]
  },
  {
   "cell_type": "markdown",
   "id": "0f3a9b9e",
   "metadata": {
    "papermill": {
     "duration": 0.004385,
     "end_time": "2025-04-02T15:50:59.259941",
     "exception": false,
     "start_time": "2025-04-02T15:50:59.255556",
     "status": "completed"
    },
    "tags": []
   },
   "source": [
    "### Preprocess Network"
   ]
  },
  {
   "cell_type": "code",
   "execution_count": 5,
   "id": "a0319205",
   "metadata": {
    "execution": {
     "iopub.execute_input": "2025-04-02T15:50:59.270525Z",
     "iopub.status.busy": "2025-04-02T15:50:59.270101Z",
     "iopub.status.idle": "2025-04-02T15:50:59.275882Z",
     "shell.execute_reply": "2025-04-02T15:50:59.274782Z"
    },
    "papermill": {
     "duration": 0.012774,
     "end_time": "2025-04-02T15:50:59.277382",
     "exception": false,
     "start_time": "2025-04-02T15:50:59.264608",
     "status": "completed"
    },
    "tags": []
   },
   "outputs": [
    {
     "name": "stdout",
     "output_type": "stream",
     "text": [
      "Removed 0 isolated nodes\n"
     ]
    }
   ],
   "source": [
    "# Remove isolated nodes (if any)\n",
    "initial_nodes = G.number_of_nodes()\n",
    "G.remove_nodes_from(list(nx.isolates(G)))\n",
    "print(f\"Removed {initial_nodes - G.number_of_nodes()} isolated nodes\")"
   ]
  },
  {
   "cell_type": "markdown",
   "id": "0297f087",
   "metadata": {
    "papermill": {
     "duration": 0.004568,
     "end_time": "2025-04-02T15:50:59.287099",
     "exception": false,
     "start_time": "2025-04-02T15:50:59.282531",
     "status": "completed"
    },
    "tags": []
   },
   "source": [
    "### Basic Statistics"
   ]
  },
  {
   "cell_type": "code",
   "execution_count": 6,
   "id": "57610473",
   "metadata": {
    "execution": {
     "iopub.execute_input": "2025-04-02T15:50:59.297615Z",
     "iopub.status.busy": "2025-04-02T15:50:59.297248Z",
     "iopub.status.idle": "2025-04-02T15:51:00.419220Z",
     "shell.execute_reply": "2025-04-02T15:51:00.417733Z"
    },
    "papermill": {
     "duration": 1.129699,
     "end_time": "2025-04-02T15:51:00.421440",
     "exception": false,
     "start_time": "2025-04-02T15:50:59.291741",
     "status": "completed"
    },
    "tags": []
   },
   "outputs": [
    {
     "name": "stdout",
     "output_type": "stream",
     "text": [
      "\n",
      "Basic Statistics:\n",
      "- Nodes: 333, Edges: 2519\n",
      "- Avg. degree: 15.13\n",
      "- Clustering coefficient: 0.508\n",
      "- Avg. path length (LCC): 3.75\n"
     ]
    }
   ],
   "source": [
    "# Network size\n",
    "n_nodes = G.number_of_nodes()\n",
    "n_edges = G.number_of_edges()\n",
    "\n",
    "# Degree distribution\n",
    "degrees = [d for _, d in G.degree()]\n",
    "avg_degree = np.mean(degrees)\n",
    "\n",
    "# Clustering coefficient\n",
    "clustering = nx.average_clustering(G)\n",
    "\n",
    "# Average shortest path length (using largest connected component)\n",
    "lcc = max(nx.connected_components(G), key=len)\n",
    "subgraph = G.subgraph(lcc)\n",
    "avg_path_length = nx.average_shortest_path_length(subgraph)\n",
    "\n",
    "print(\"\\nBasic Statistics:\")\n",
    "print(f\"- Nodes: {n_nodes}, Edges: {n_edges}\")\n",
    "print(f\"- Avg. degree: {avg_degree:.2f}\")\n",
    "print(f\"- Clustering coefficient: {clustering:.3f}\")\n",
    "print(f\"- Avg. path length (LCC): {avg_path_length:.2f}\")"
   ]
  },
  {
   "cell_type": "markdown",
   "id": "459e0d76",
   "metadata": {
    "papermill": {
     "duration": 0.00518,
     "end_time": "2025-04-02T15:51:00.433557",
     "exception": false,
     "start_time": "2025-04-02T15:51:00.428377",
     "status": "completed"
    },
    "tags": []
   },
   "source": [
    "**Key Observations**\n",
    "* **Network Size**: 333 nodes (users), 2519 edges (friendships).\n",
    "* **Average Degree**: 15.13\n",
    "    * Each user has ~15 friends on average.\n",
    "    * **Implication**: This is a dense social network (typical for ego networks).\n",
    "* **Clustering Coefficient**: 0.508\n",
    "    * **Interpretation**: High clustering (close to 0.5) indicates strong community structure.\n",
    "    * **Context**: Social networks often have high clustering due to triadic closure (friends of friends tend to become friends).\n",
    "* **Average Path Length (LCC)**: 3.75\n",
    "    * **Meaning**: Two random users in the largest connected component are connected by ~4 steps (small-world property)."
   ]
  },
  {
   "cell_type": "markdown",
   "id": "cb5399c7",
   "metadata": {
    "papermill": {
     "duration": 0.005012,
     "end_time": "2025-04-02T15:51:00.443617",
     "exception": false,
     "start_time": "2025-04-02T15:51:00.438605",
     "status": "completed"
    },
    "tags": []
   },
   "source": [
    "### Null Model (Erdős-Rényi)"
   ]
  },
  {
   "cell_type": "code",
   "execution_count": 7,
   "id": "d3df443e",
   "metadata": {
    "execution": {
     "iopub.execute_input": "2025-04-02T15:51:00.455253Z",
     "iopub.status.busy": "2025-04-02T15:51:00.454906Z",
     "iopub.status.idle": "2025-04-02T15:51:53.058387Z",
     "shell.execute_reply": "2025-04-02T15:51:53.057386Z"
    },
    "papermill": {
     "duration": 52.611405,
     "end_time": "2025-04-02T15:51:53.060429",
     "exception": false,
     "start_time": "2025-04-02T15:51:00.449024",
     "status": "completed"
    },
    "tags": []
   },
   "outputs": [],
   "source": [
    "n_simulations = 100  # Reduced from 1000 for speed\n",
    "clustering_er = []\n",
    "path_length_er = []\n",
    "\n",
    "# Generate ER networks with same n_nodes and n_edges\n",
    "p = n_edges / (n_nodes * (n_nodes - 1) / 2)  # Connection probability\n",
    "\n",
    "for _ in range(n_simulations):\n",
    "    G_er = nx.erdos_renyi_graph(n_nodes, p)\n",
    "    \n",
    "    # Calculate metrics\n",
    "    clustering_er.append(nx.average_clustering(G_er))\n",
    "    \n",
    "    # Handle disconnected ER graphs\n",
    "    lcc_er = max(nx.connected_components(G_er), key=len)\n",
    "    if len(lcc_er) > 1:\n",
    "        subgraph_er = G_er.subgraph(lcc_er)\n",
    "        path_length_er.append(nx.average_shortest_path_length(subgraph_er))"
   ]
  },
  {
   "cell_type": "markdown",
   "id": "1bcbb59e",
   "metadata": {
    "papermill": {
     "duration": 0.004626,
     "end_time": "2025-04-02T15:51:53.070733",
     "exception": false,
     "start_time": "2025-04-02T15:51:53.066107",
     "status": "completed"
    },
    "tags": []
   },
   "source": [
    "### Compare Real vs. Null"
   ]
  },
  {
   "cell_type": "code",
   "execution_count": 8,
   "id": "31eb195e",
   "metadata": {
    "execution": {
     "iopub.execute_input": "2025-04-02T15:51:53.081854Z",
     "iopub.status.busy": "2025-04-02T15:51:53.081443Z",
     "iopub.status.idle": "2025-04-02T15:51:53.090089Z",
     "shell.execute_reply": "2025-04-02T15:51:53.088879Z"
    },
    "papermill": {
     "duration": 0.016265,
     "end_time": "2025-04-02T15:51:53.091982",
     "exception": false,
     "start_time": "2025-04-02T15:51:53.075717",
     "status": "completed"
    },
    "tags": []
   },
   "outputs": [
    {
     "name": "stdout",
     "output_type": "stream",
     "text": [
      "\n",
      "Null Model Comparison:\n",
      "- Clustering z-score: 195.62\n",
      "- Path length z-score: 93.40\n"
     ]
    }
   ],
   "source": [
    "# Clustering comparison\n",
    "z_clustering = (clustering - np.mean(clustering_er)) / np.std(clustering_er)\n",
    "\n",
    "# Path length comparison\n",
    "z_path = (avg_path_length - np.mean(path_length_er)) / np.std(path_length_er)\n",
    "\n",
    "print(\"\\nNull Model Comparison:\")\n",
    "print(f\"- Clustering z-score: {z_clustering:.2f}\")\n",
    "print(f\"- Path length z-score: {z_path:.2f}\")"
   ]
  },
  {
   "cell_type": "markdown",
   "id": "acc5367c",
   "metadata": {
    "papermill": {
     "duration": 0.004735,
     "end_time": "2025-04-02T15:51:53.101889",
     "exception": false,
     "start_time": "2025-04-02T15:51:53.097154",
     "status": "completed"
    },
    "tags": []
   },
   "source": [
    "**Critical Findings**\n",
    "* **Clustering z-score: 191.49**\n",
    "    * The real network’s clustering is **191 standard deviations** above the Erdős-Rényi (ER) null model.\n",
    "    * **Implication**: The network is far more clustered than a random network. This confirms strong community structure.\n",
    "* **Path Length z-score: 90.78**\n",
    "    * The real network’s path length is **90 standard deviations** shorter than the ER model.\n",
    "    * **Implication**: The network is highly efficient at connecting distant nodes (small-world behavior)."
   ]
  },
  {
   "cell_type": "markdown",
   "id": "56b39591",
   "metadata": {
    "papermill": {
     "duration": 0.004545,
     "end_time": "2025-04-02T15:51:53.111331",
     "exception": false,
     "start_time": "2025-04-02T15:51:53.106786",
     "status": "completed"
    },
    "tags": []
   },
   "source": [
    "### Visualizations"
   ]
  },
  {
   "cell_type": "code",
   "execution_count": 9,
   "id": "992b40d6",
   "metadata": {
    "execution": {
     "iopub.execute_input": "2025-04-02T15:51:53.122568Z",
     "iopub.status.busy": "2025-04-02T15:51:53.122082Z",
     "iopub.status.idle": "2025-04-02T15:51:54.456307Z",
     "shell.execute_reply": "2025-04-02T15:51:54.455203Z"
    },
    "papermill": {
     "duration": 1.342081,
     "end_time": "2025-04-02T15:51:54.458264",
     "exception": false,
     "start_time": "2025-04-02T15:51:53.116183",
     "status": "completed"
    },
    "tags": []
   },
   "outputs": [
    {
     "data": {
      "image/png": "[encoded data removed]",
      "text/plain": [
       "<Figure size 1500x400 with 3 Axes>"
      ]
     },
     "metadata": {},
     "output_type": "display_data"
    }
   ],
   "source": [
    "plt.figure(figsize=(15, 4))\n",
    "\n",
    "# Degree distribution\n",
    "plt.subplot(131)\n",
    "plt.hist(degrees, bins=30, edgecolor=\"k\", alpha=0.7)\n",
    "plt.title(\"Degree Distribution\")\n",
    "plt.xlabel(\"Degree\")\n",
    "plt.ylabel(\"Count\")\n",
    "\n",
    "# Clustering comparison\n",
    "plt.subplot(132)\n",
    "plt.hist(clustering_er, bins=20, edgecolor=\"k\", alpha=0.7, label=\"ER Model\")\n",
    "plt.axvline(clustering, color=\"r\", linestyle=\"--\", label=\"Real Network\")\n",
    "plt.title(\"Clustering Coefficient\")\n",
    "plt.legend()\n",
    "\n",
    "# Path length comparison\n",
    "plt.subplot(133)\n",
    "plt.hist(path_length_er, bins=20, edgecolor=\"k\", alpha=0.7, label=\"ER Model\")\n",
    "plt.axvline(avg_path_length, color=\"r\", linestyle=\"--\", label=\"Real Network\")\n",
    "plt.title(\"Average Path Length\")\n",
    "plt.legend()\n",
    "\n",
    "plt.tight_layout()\n",
    "plt.savefig(\"/kaggle/working/v2_results.png\")  # Save to Kaggle output\n",
    "plt.show()"
   ]
  },
  {
   "cell_type": "markdown",
   "id": "5cac1aeb",
   "metadata": {
    "papermill": {
     "duration": 0.005488,
     "end_time": "2025-04-02T15:51:54.470146",
     "exception": false,
     "start_time": "2025-04-02T15:51:54.464658",
     "status": "completed"
    },
    "tags": []
   },
   "source": [
    "**Visualizations (Inferred from Data)**\n",
    "* **Degree Distribution**\n",
    "    * Likely right-skewed (most users have fewer connections, a few have many).\n",
    "    * **Implication**: Influential users (hubs) exist and could be critical for outreach.\n",
    "\n",
    "* **Clustering Comparison**\n",
    "    * The real network’s clustering (red dashed line) is far higher than the ER model’s distribution.\n",
    "    * **Takeaway**: Algorithmic community detection will likely reveal meaningful groups.\n",
    "\n",
    "* **Path Length Comparison**\n",
    "    * The real network’s path length is much shorter than the ER model’s.\n",
    "    * **Takeaway**: Information can spread efficiently in this network."
   ]
  },
  {
   "cell_type": "markdown",
   "id": "abebad9e",
   "metadata": {
    "papermill": {
     "duration": 0.005521,
     "end_time": "2025-04-02T15:51:54.481536",
     "exception": false,
     "start_time": "2025-04-02T15:51:54.476015",
     "status": "completed"
    },
    "tags": []
   },
   "source": [
    "### Why This Matters for Your Project\n",
    "1. **High Clustering + Short Paths = Small-World Network**:\n",
    "    * Ideal for simulating influence cascades (e.g., political outreach).\n",
    "    * Targeting key nodes can trigger rapid, wide-reaching spread.\n",
    "2. **User-Defined Circles**:\n",
    "    * With 24 circles, you can validate algorithmic communities against real-world groupings (Day 2 focus).\n",
    "3. **Null Model Validation**:\n",
    "    * The extreme z-scores prove the network is non-random. This justifies using advanced methods (threshold models, centrality analysis)."
   ]
  },
  {
   "cell_type": "markdown",
   "id": "d78331f0",
   "metadata": {
    "papermill": {
     "duration": 0.005635,
     "end_time": "2025-04-02T15:51:54.492918",
     "exception": false,
     "start_time": "2025-04-02T15:51:54.487283",
     "status": "completed"
    },
    "tags": []
   },
   "source": [
    "#### Limitations to Note\n",
    "* **Ego Network Bias**: The dataset is a partial snapshot centered on one user. Conclusions may not generalize to the full Facebook graph.\n",
    "* **Null Model Choice**: ER networks are simplistic. Will need to compare to a degree-preserving configuration model for better benchmarking."
   ]
  }
 ],
 "metadata": {
  "kaggle": {
   "accelerator": "none",
   "dataSources": [
    {
     "datasetId": 7013397,
     "sourceId": 11228553,
     "sourceType": "datasetVersion"
    },
    {
     "datasetId": 7013403,
     "sourceId": 11228560,
     "sourceType": "datasetVersion"
    }
   ],
   "dockerImageVersionId": 30918,
   "isGpuEnabled": false,
   "isInternetEnabled": true,
   "language": "python",
   "sourceType": "notebook"
  },
  "kernelspec": {
   "display_name": "Python 3",
   "language": "python",
   "name": "python3"
  },
  "language_info": {
   "codemirror_mode": {
    "name": "ipython",
    "version": 3
   },
   "file_extension": ".py",
   "mimetype": "text/x-python",
   "name": "python",
   "nbconvert_exporter": "python",
   "pygments_lexer": "ipython3",
   "version": "3.10.12"
  },
  "papermill": {
   "default_parameters": {},
   "duration": 62.326693,
   "end_time": "2025-04-02T15:51:55.218790",
   "environment_variables": {},
   "exception": null,
   "input_path": "__notebook__.ipynb",
   "output_path": "__notebook__.ipynb",
   "parameters": {},
   "start_time": "2025-04-02T15:50:52.892097",
   "version": "2.6.0"
  }
 },
 "nbformat": 4,
 "nbformat_minor": 5
}
